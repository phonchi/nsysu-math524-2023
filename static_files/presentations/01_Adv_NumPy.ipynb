{
 "cells": [
  {
   "cell_type": "markdown",
   "metadata": {
    "id": "11n5gndbRzoY",
    "slideshow": {
     "slide_type": "slide"
    }
   },
   "source": [
    "# Array-Oriented Programming with NumPy - Part 2\n"
   ]
  },
  {
   "cell_type": "markdown",
   "metadata": {
    "slideshow": {
     "slide_type": "subslide"
    }
   },
   "source": [
    "1. `array`  Operators\n",
    "\n",
    "2. Broadcasting \n",
    "\n",
    "3. Universal Functions (Vectorization)\n",
    "\n",
    "4. Type casting and File I/O"
   ]
  },
  {
   "cell_type": "markdown",
   "metadata": {
    "id": "iAC2bPN5wJ4d",
    "slideshow": {
     "slide_type": "skip"
    }
   },
   "source": [
    "In the first step, we need to install `NumPy` as follows:"
   ]
  },
  {
   "cell_type": "code",
   "execution_count": 3,
   "metadata": {
    "colab": {
     "base_uri": "https://localhost:8080/"
    },
    "executionInfo": {
     "elapsed": 3,
     "status": "ok",
     "timestamp": 1683102976354,
     "user": {
      "displayName": "phonchi chung",
      "userId": "13517391734500420886"
     },
     "user_tz": -480
    },
    "id": "hB44_zwawIMc",
    "outputId": "477e945f-efbc-4e77-98b7-a8aabded3bac",
    "slideshow": {
     "slide_type": "skip"
    }
   },
   "outputs": [
    {
     "name": "stdout",
     "output_type": "stream",
     "text": [
      "numpy is already installed.\n"
     ]
    }
   ],
   "source": [
    "package_name = \"numpy\"\n",
    "\n",
    "try:\n",
    "    __import__(package_name)\n",
    "    print(f\"{package_name} is already installed.\")\n",
    "except ImportError:\n",
    "    print(f\"{package_name} not found. Installing...\")\n",
    "    %pip install {package_name}"
   ]
  },
  {
   "cell_type": "markdown",
   "metadata": {
    "id": "Gqj69D7GwL4t",
    "slideshow": {
     "slide_type": "skip"
    }
   },
   "source": [
    "The official `NumPy` documentation recommends importing the `numpy` module as `np` so that we can access its methods with `np.`:"
   ]
  },
  {
   "cell_type": "code",
   "execution_count": 4,
   "metadata": {
    "id": "5_moH6PJwMu-",
    "slideshow": {
     "slide_type": "skip"
    }
   },
   "outputs": [],
   "source": [
    "import numpy as np"
   ]
  },
  {
   "cell_type": "markdown",
   "metadata": {
    "id": "oDGDl__jkcHe",
    "slideshow": {
     "slide_type": "slide"
    }
   },
   "source": [
    "## `array`  Operators"
   ]
  },
  {
   "cell_type": "markdown",
   "metadata": {
    "id": "N9hNO26fkcHe",
    "slideshow": {
     "slide_type": "subslide"
    }
   },
   "source": [
    "### The slowness of loops"
   ]
  },
  {
   "cell_type": "markdown",
   "metadata": {
    "id": "TfFSgHetkcHf",
    "slideshow": {
     "slide_type": "subslide"
    }
   },
   "source": [
    "The speed of computations on `NumPy` `arrays` can range from very fast to very slow. To optimize performance, the recommended approach is to use ***vectorized operations***, which are typically implemented through `NumPy`'s universal functions (`ufuncs`). "
   ]
  },
  {
   "cell_type": "markdown",
   "metadata": {
    "slideshow": {
     "slide_type": "fragment"
    }
   },
   "source": [
    "In scenarios involving numerous small operations executed repeatedly, the inherent latency of Python often becomes noticeable. This is particularly the case when looping over arrays to perform operations on each element."
   ]
  },
  {
   "cell_type": "markdown",
   "metadata": {
    "slideshow": {
     "slide_type": "skip"
    }
   },
   "source": [
    "For instance, suppose we have an array of values and need to compute the reciprocal of each. A straightforward approach to this could involve:"
   ]
  },
  {
   "cell_type": "code",
   "execution_count": 1,
   "metadata": {
    "slideshow": {
     "slide_type": "fragment"
    }
   },
   "outputs": [],
   "source": [
    "def compute_reciprocals(values):\n",
    "    output = np.empty(len(values))\n",
    "    for i in range(len(values)):\n",
    "        output[i] = 1.0 / values[i]\n",
    "    return output"
   ]
  },
  {
   "cell_type": "code",
   "execution_count": 5,
   "metadata": {
    "id": "COK13Ko6kcHf",
    "outputId": "d58b89b4-bb9b-48f9-a019-e23a7761299b",
    "slideshow": {
     "slide_type": "subslide"
    }
   },
   "outputs": [
    {
     "name": "stdout",
     "output_type": "stream",
     "text": [
      "[2 2 2 1 9]\n"
     ]
    },
    {
     "data": {
      "text/plain": [
       "array([0.5       , 0.5       , 0.5       , 1.        , 0.11111111])"
      ]
     },
     "execution_count": 5,
     "metadata": {},
     "output_type": "execute_result"
    }
   ],
   "source": [
    "values = np.random.randint(1, 10, 5)\n",
    "print(values)\n",
    "compute_reciprocals(values)"
   ]
  },
  {
   "cell_type": "markdown",
   "metadata": {
    "id": "NYVZ0EH0kcHf",
    "slideshow": {
     "slide_type": "fragment"
    }
   },
   "source": [
    "But if we measure the execution time of this code for a large input, we see that this operation is very slow:"
   ]
  },
  {
   "cell_type": "code",
   "execution_count": 6,
   "metadata": {
    "id": "zbPjlQSzkcHg",
    "slideshow": {
     "slide_type": "fragment"
    }
   },
   "outputs": [],
   "source": [
    "big_array = np.random.randint(1, 10, 1_000_000)"
   ]
  },
  {
   "cell_type": "code",
   "execution_count": 7,
   "metadata": {
    "id": "cipAsP2PkcHg",
    "outputId": "a7529f9b-8711-46d6-b946-bf6bae97b2ff",
    "slideshow": {
     "slide_type": "fragment"
    }
   },
   "outputs": [
    {
     "name": "stdout",
     "output_type": "stream",
     "text": [
      "1.15 s ± 28.6 ms per loop (mean ± std. dev. of 7 runs, 1 loop each)\n"
     ]
    }
   ],
   "source": [
    "%%timeit \n",
    "compute_reciprocals(big_array)"
   ]
  },
  {
   "cell_type": "markdown",
   "metadata": {
    "id": "MdF7xAXkkcHg",
    "slideshow": {
     "slide_type": "skip"
    }
   },
   "source": [
    "> Interestingly, the bottleneck in this situation isn't the operations themselves, but rather the type checking and function dispatches that `Python` needs to execute during each iteration of the loop. Whenever the reciprocal is calculated, `Python` initially verifies the type of the object and performs a **dynamic lookup to determine the correct function to employ for that type**. If we were using compiled code, this kind of specification would be predetermined before the code execution, resulting in much more efficient computations."
   ]
  },
  {
   "cell_type": "markdown",
   "metadata": {
    "id": "VJ2X7PnSkcHh",
    "slideshow": {
     "slide_type": "subslide"
    }
   },
   "source": [
    "In `NumPy`, ***vectorization*** is the process of performing operations on entire `arrays` of data, as opposed to individual elements. This is accomplished by applying an operation to the entire `array`, instead of looping through each element of the `array` one at a time."
   ]
  },
  {
   "cell_type": "code",
   "execution_count": 8,
   "metadata": {
    "id": "7LApyKPwkcHh",
    "outputId": "84da4465-b41b-4a4f-d69a-831451e67581",
    "slideshow": {
     "slide_type": "fragment"
    }
   },
   "outputs": [
    {
     "name": "stdout",
     "output_type": "stream",
     "text": [
      "[2 2 2 1 9]\n"
     ]
    },
    {
     "data": {
      "text/plain": [
       "array([0.5       , 0.5       , 0.5       , 1.        , 0.11111111])"
      ]
     },
     "execution_count": 8,
     "metadata": {},
     "output_type": "execute_result"
    }
   ],
   "source": [
    "print(values)\n",
    "1.0 / values # The vectorized version of the above code"
   ]
  },
  {
   "cell_type": "markdown",
   "metadata": {
    "id": "nmrphvDakcHh",
    "slideshow": {
     "slide_type": "fragment"
    }
   },
   "source": [
    "The above syntax is the vectorized version of the original code and works due to the ***broadcasting***."
   ]
  },
  {
   "cell_type": "markdown",
   "metadata": {
    "slideshow": {
     "slide_type": "subslide"
    }
   },
   "source": [
    "Looking at the execution time for our big `array`, we see that it completes orders of magnitude faster than the `Python` loop:"
   ]
  },
  {
   "cell_type": "code",
   "execution_count": 9,
   "metadata": {
    "id": "kG4PjztZkcHh",
    "outputId": "7aec1bc8-d1aa-4a2a-b9cc-7735d6d964b8",
    "slideshow": {
     "slide_type": "fragment"
    }
   },
   "outputs": [
    {
     "name": "stdout",
     "output_type": "stream",
     "text": [
      "2 ms ± 48.5 µs per loop (mean ± std. dev. of 7 runs, 1000 loops each)\n"
     ]
    }
   ],
   "source": [
    "%%timeit \n",
    "(1.0 / big_array)"
   ]
  },
  {
   "cell_type": "markdown",
   "metadata": {
    "id": "0ZspD8uTkcHi",
    "slideshow": {
     "slide_type": "fragment"
    }
   },
   "source": [
    "The execution time is much faster since the vectorization operation is done via `ufuncs`, which is a compiled routine."
   ]
  },
  {
   "cell_type": "markdown",
   "metadata": {
    "slideshow": {
     "slide_type": "skip"
    }
   },
   "source": [
    "In the next section, we will introduce each concept in detail, including broadcasting, `ufuncs` and vectorization."
   ]
  },
  {
   "cell_type": "markdown",
   "metadata": {
    "id": "pk_Oft1ckcHi",
    "slideshow": {
     "slide_type": "subslide"
    }
   },
   "source": [
    "#### Element-wise arithmetic"
   ]
  },
  {
   "cell_type": "markdown",
   "metadata": {
    "id": "TFVPfEi4kcHi",
    "slideshow": {
     "slide_type": "subslide"
    }
   },
   "source": [
    "`NumPy` offers numerous operators that allow us to create simple expressions that carry out operations on whole arrays and returns another `array`. Firstly, let's perform **element-wise arithmetic with arrays and a scalar value** by employing arithmetic operators and <u>augmented assignments</u>."
   ]
  },
  {
   "cell_type": "markdown",
   "metadata": {
    "slideshow": {
     "slide_type": "fragment"
    }
   },
   "source": [
    "Element-wise operations are applied to each element, so the snippet below doubles every element and cubes every element. Each operation returns a new array containing the result:"
   ]
  },
  {
   "cell_type": "code",
   "execution_count": 10,
   "metadata": {
    "id": "aDenrj9ekcHi",
    "outputId": "633ba09f-453c-417b-c55e-2dfc8395b5f5",
    "slideshow": {
     "slide_type": "fragment"
    }
   },
   "outputs": [
    {
     "data": {
      "text/plain": [
       "array([ 2,  4,  6,  8, 10, 12])"
      ]
     },
     "execution_count": 10,
     "metadata": {},
     "output_type": "execute_result"
    }
   ],
   "source": [
    "numbers = np.arange(1, 7) # array([1, 2, 3, 4, 5, 6])\n",
    "numbers * 2"
   ]
  },
  {
   "cell_type": "code",
   "execution_count": 11,
   "metadata": {
    "id": "8Hom3Zl8kcHi",
    "outputId": "81d78251-ebdf-4c9d-bd7b-883e3bc48698",
    "slideshow": {
     "slide_type": "fragment"
    }
   },
   "outputs": [
    {
     "data": {
      "text/plain": [
       "array([  1,   8,  27,  64, 125, 216], dtype=int32)"
      ]
     },
     "execution_count": 11,
     "metadata": {},
     "output_type": "execute_result"
    }
   ],
   "source": [
    "numbers ** 3"
   ]
  },
  {
   "cell_type": "markdown",
   "metadata": {
    "id": "X25iyNsMkcHj",
    "slideshow": {
     "slide_type": "subslide"
    }
   },
   "source": [
    "Augmented assignments modify every element in the left operand in place!"
   ]
  },
  {
   "cell_type": "code",
   "execution_count": 12,
   "metadata": {
    "id": "_LTX3q0NkcHj",
    "outputId": "d9832199-1a59-419a-fa8a-a9b914c73706",
    "slideshow": {
     "slide_type": "fragment"
    }
   },
   "outputs": [
    {
     "data": {
      "text/plain": [
       "array([11, 12, 13, 14, 15, 16])"
      ]
     },
     "execution_count": 12,
     "metadata": {},
     "output_type": "execute_result"
    }
   ],
   "source": [
    "numbers += 10\n",
    "numbers"
   ]
  },
  {
   "cell_type": "markdown",
   "metadata": {
    "slideshow": {
     "slide_type": "subslide"
    }
   },
   "source": [
    "### Example 1: Given the function $f(x) = x^2 + 2x + 1$, estimate the integral of $f(x)$ from $x = 0$ to $x = 2$ using the Riemann sum."
   ]
  },
  {
   "cell_type": "markdown",
   "metadata": {
    "slideshow": {
     "slide_type": "fragment"
    }
   },
   "source": [
    "A Riemann sum is a specific kind of approximation of an integral by a finite sum. It is computed as follows:\n",
    "\n",
    "Given a function $f(x)$, and a partition of the interval $[a, b]$ into $N$ subintervals, denoted by:\n",
    "\n",
    "$$\n",
    "x_0 = a < x_1 < \\cdots < x_{N-1} < x_N = b\n",
    "$$"
   ]
  },
  {
   "cell_type": "markdown",
   "metadata": {
    "slideshow": {
     "slide_type": "subslide"
    }
   },
   "source": [
    "A Riemann sum of this function is constructed as:\n",
    "\n",
    "$$\n",
    "\\sum_{i=1}^N f(x_i^{'}) (x_i - x_{i-1}) \\ \\ , \\ \\text{where} \\ x_i^{'} \\in [x_{i-1},x_i]\n",
    "$$\n",
    "\n",
    "Here, $x_i^{'}$ is an arbitrary point within each subinterval $[x_{i-1},x_i]$."
   ]
  },
  {
   "cell_type": "markdown",
   "metadata": {
    "slideshow": {
     "slide_type": "fragment"
    }
   },
   "source": [
    "Riemann sums hold significant importance as they allow us to easily approximate a definite integral, represented as:\n",
    "\n",
    "$$\n",
    "\\int_a^b f(x) \\, dx \\approx \\sum_{i=1}^N f(x_i^{'}) (x_i - x_{i-1}) \\ \\ , \\ \\text{where} \\ x_i^{'} \\in [x_{i-1},x_i]\n",
    "$$"
   ]
  },
  {
   "cell_type": "code",
   "execution_count": null,
   "metadata": {
    "slideshow": {
     "slide_type": "subslide"
    }
   },
   "outputs": [],
   "source": [
    "# 1. Define the function\n",
    "\n",
    "# 2. Generate x values\n",
    "\n",
    "# 3. Compute y values\n",
    "\n",
    "# 4. Estimate the integral using the Riemann sum\n",
    "\n",
    "# The exact results\n",
    "exact_integral = (2**3)/3 + (2**2) + 2\n",
    "print(f\"Exact integral: {exact_integral}\")"
   ]
  },
  {
   "cell_type": "markdown",
   "metadata": {
    "id": "EUl5N1nQkcHj",
    "slideshow": {
     "slide_type": "slide"
    }
   },
   "source": [
    "### Broadcasting "
   ]
  },
  {
   "cell_type": "markdown",
   "metadata": {
    "id": "j-ZG7o6VkcHj",
    "slideshow": {
     "slide_type": "subslide"
    }
   },
   "source": [
    "Typically, arithmetic operations necessitate two `arrays` of identical size and shape as operands. When one operand is a scalar, `NumPy` carries out the element-wise calculations as though the scalar were an array of the same shape as the other operand, but with the scalar value present in all its elements. \n",
    "\n",
    "This is referred to as ***broadcasting***. For instance, `numbers * 2` is equivalent to `numbers * [2, 2, 2, 2, 2, 2]`."
   ]
  },
  {
   "cell_type": "markdown",
   "metadata": {
    "id": "IR4h50hGkcHj",
    "slideshow": {
     "slide_type": "fragment"
    }
   },
   "source": [
    "Broadcasting can also be applied between `arrays` of different sizes and shapes, enabling concise and powerful manipulations. We will present more examples of broadcasting later in this chapter when we introduce `NumPy`'s universal functions."
   ]
  },
  {
   "cell_type": "markdown",
   "metadata": {
    "id": "cb4Y5w0xkcHj",
    "slideshow": {
     "slide_type": "subslide"
    }
   },
   "source": [
    "#### Arithmetic Operations Between `arrays`"
   ]
  },
  {
   "cell_type": "markdown",
   "metadata": {
    "id": "hnNklkjYkcHj",
    "slideshow": {
     "slide_type": "subslide"
    }
   },
   "source": [
    "Arithmetic operations and augmented assignments can be performed between arrays of the same shape. Let's multiply the one-dimensional arrays `numbers` and `numbers2`, each containing six elements:"
   ]
  },
  {
   "cell_type": "code",
   "execution_count": null,
   "metadata": {
    "id": "JH1fMFE1kcHk",
    "outputId": "c76ac14d-48c8-43a4-aae2-e8f2d87c1a71",
    "slideshow": {
     "slide_type": "fragment"
    }
   },
   "outputs": [],
   "source": [
    "import numpy as np\n",
    "numbers = np.array([11, 12, 13, 14, 15, 16])\n",
    "numbers2 = np.linspace(1.1, 6.6, 6) \n",
    "numbers * numbers2 # array([11, 12, 13, 14, 15, 16]) * array([ 1.1,  2.2,  3.3,  4.4,  5.5, 6.6])"
   ]
  },
  {
   "cell_type": "markdown",
   "metadata": {
    "id": "rPBSoYSzkcHk",
    "slideshow": {
     "slide_type": "fragment"
    }
   },
   "source": [
    "The outcome is a new `array` created by multiplying the elements of each operand element-wise — `11 * 1.1, 12 * 2.2, 13 * 3.3`, and so on. Arithmetic operations between `arrays` of integers and floating-point numbers result in an `array` of floating-point numbers due to <u> type conversion </u>. "
   ]
  },
  {
   "cell_type": "markdown",
   "metadata": {
    "slideshow": {
     "slide_type": "subslide"
    }
   },
   "source": [
    "Let's see another example:"
   ]
  },
  {
   "cell_type": "code",
   "execution_count": null,
   "metadata": {
    "id": "bczZY_9JkcHk",
    "outputId": "1180a233-d80b-47f6-82b0-4770b60558e9",
    "slideshow": {
     "slide_type": "fragment"
    }
   },
   "outputs": [],
   "source": [
    "c = np.ones((3, 3))\n",
    "c * c "
   ]
  },
  {
   "cell_type": "markdown",
   "metadata": {
    "id": "gNY76u6UkcHk",
    "slideshow": {
     "slide_type": "fragment"
    }
   },
   "source": [
    "Note that the above operation is not matrix multiplication. To perform matrix multiplication use the `dot()` method!"
   ]
  },
  {
   "cell_type": "code",
   "execution_count": null,
   "metadata": {
    "id": "DIrUQBA1kcHk",
    "outputId": "5cdee47c-d348-42db-e973-5f5d05258b9a",
    "slideshow": {
     "slide_type": "fragment"
    }
   },
   "outputs": [],
   "source": [
    "c.dot(c)"
   ]
  },
  {
   "cell_type": "markdown",
   "metadata": {
    "id": "3GxY0gOykcHl",
    "slideshow": {
     "slide_type": "subslide"
    }
   },
   "source": [
    "The above operation is the same as using the `@` operator:"
   ]
  },
  {
   "cell_type": "code",
   "execution_count": null,
   "metadata": {
    "id": "gp65ejBkkcHl",
    "outputId": "a70647ac-c261-4e9a-d35a-51c4979a68cc",
    "slideshow": {
     "slide_type": "fragment"
    }
   },
   "outputs": [],
   "source": [
    "c @ c"
   ]
  },
  {
   "cell_type": "markdown",
   "metadata": {
    "id": "4MKqePVBkcHl",
    "slideshow": {
     "slide_type": "subslide"
    }
   },
   "source": [
    "We can apply broadcasting to `arrays` with different shape. For instance, consider adding a one-dimensional `array` to a two-dimensional `array` and observe the resulting output:"
   ]
  },
  {
   "cell_type": "code",
   "execution_count": null,
   "metadata": {
    "id": "2jk2FcV-kcHl",
    "outputId": "b4e63e73-9f49-4807-b3bb-191dd9c8a241",
    "slideshow": {
     "slide_type": "fragment"
    }
   },
   "outputs": [],
   "source": [
    "a = np.array([0, 1, 2]) \n",
    "M = np.ones((3, 3))\n",
    "print(a.shape, M.shape) # Note a is not (3,1) or (1,3)\n",
    "M + a"
   ]
  },
  {
   "cell_type": "markdown",
   "metadata": {
    "id": "1mUll8aYkcHl",
    "slideshow": {
     "slide_type": "fragment"
    }
   },
   "source": [
    "Here, the one-dimensional array `a` is stretched, or broadcasted, across the second dimension in order to match the shape of `M`."
   ]
  },
  {
   "cell_type": "markdown",
   "metadata": {
    "id": "Z5j-8w0ukcHr",
    "slideshow": {
     "slide_type": "subslide"
    }
   },
   "source": [
    "#### Rules of Broadcasting"
   ]
  },
  {
   "cell_type": "markdown",
   "metadata": {
    "id": "2Mw-Chw9kcHr",
    "slideshow": {
     "slide_type": "subslide"
    }
   },
   "source": [
    "In `NumPy`, broadcasting adheres to a strict set of regulations that govern how two `arrays` interact with one another. These rules are as follows:\n",
    "\n",
    "1. When the number of dimensions between two `arrays` differs, the `array` with fewer dimensions is padded with ones on its leading (left) side to match the number of dimensions of the other `array`.\n",
    "2. If the shape of the two `arrays` doesn't match in any dimension, the `array` with a shape of 1 in that dimension is expanded to match the shape of the other `array`.\n",
    "3. If the sizes of the `arrays` conflict in any dimension and neither is equal to 1, an error is raised."
   ]
  },
  {
   "cell_type": "markdown",
   "metadata": {
    "id": "JWNHvUu1kcHs",
    "slideshow": {
     "slide_type": "subslide"
    }
   },
   "source": [
    "Now let's take a look at an example where both `arrays` need to be broadcast:"
   ]
  },
  {
   "cell_type": "code",
   "execution_count": null,
   "metadata": {
    "id": "LUUQz7PnkcHs",
    "outputId": "fd1f5d7b-a368-4327-ccba-423c91d03344",
    "slideshow": {
     "slide_type": "fragment"
    }
   },
   "outputs": [],
   "source": [
    "a = np.arange(0, 40, 10).reshape(4,1)\n",
    "b = np.arange(3)\n",
    "print(a.shape, b.shape)\n",
    "a, b"
   ]
  },
  {
   "cell_type": "code",
   "execution_count": null,
   "metadata": {
    "id": "vnSIg3ZLkcHs",
    "outputId": "5d5547b2-c675-4a5a-c01d-e5c45ed35f2d",
    "slideshow": {
     "slide_type": "fragment"
    }
   },
   "outputs": [],
   "source": [
    "a + b"
   ]
  },
  {
   "cell_type": "markdown",
   "metadata": {
    "id": "bPD5TPcqkcHs",
    "slideshow": {
     "slide_type": "skip"
    }
   },
   "source": [
    "1. To begin, we need to determine the shapes of the two `arrays`: `a.shape` is `(4,1)` and `b.shape` is `(3,)`. According to Rule 1, we have to add ones to the shape of `b` such that its dimensions match those of `a`. Thus, `b.shape` becomes `(1,3)`.\n",
    "\n",
    "2. Next, Rule 2 states that we need to expand each of the 1s in `b.shape` to match the corresponding size of the other `array`. Consequently, `a.shape` becomes `(4,3)`, and `b.shape` becomes `(4,3)` since 1 was replicated three times to match the size of `a`.\n",
    "\n",
    "3. Since the shapes of the two `arrays` now match, they are compatible. "
   ]
  },
  {
   "cell_type": "markdown",
   "metadata": {
    "slideshow": {
     "slide_type": "subslide"
    }
   },
   "source": [
    "This entire process can be depicted visually as follows:"
   ]
  },
  {
   "cell_type": "markdown",
   "metadata": {
    "id": "uyXuqe4ikcHs",
    "slideshow": {
     "slide_type": "fragment"
    }
   },
   "source": [
    "<center><img src=\"https://drive.google.com/uc?id=1zKGHApvzo2NvyuB2vLfu6en9WI0_QCUj\" width=\"70%\" height=\"70%\"></center>"
   ]
  },
  {
   "cell_type": "markdown",
   "metadata": {
    "id": "vG2blG89kcHs",
    "slideshow": {
     "slide_type": "subslide"
    }
   },
   "source": [
    "Next, let's look at an example in which the two `arrays` are incompatible!"
   ]
  },
  {
   "cell_type": "code",
   "execution_count": null,
   "metadata": {
    "id": "cjoppDA6kcHt",
    "outputId": "950a3f37-d98c-40f8-9ceb-ebbb384af875",
    "slideshow": {
     "slide_type": "fragment"
    }
   },
   "outputs": [],
   "source": [
    "M = np.ones((3, 2))\n",
    "a = np.arange(3)\n",
    "\n",
    "M.shape, a.shape"
   ]
  },
  {
   "cell_type": "markdown",
   "metadata": {
    "id": "yOWwPXIokcHt",
    "slideshow": {
     "slide_type": "skip"
    }
   },
   "source": [
    "1. First, we need to determine the shapes of the two `arrays`: `M.shape` is `(3,2)`, and `a.shape` is `(3,)`. As per Rule 1, we must pad ones to the shape of `a` such that its number of dimensions matches that of `M`. Consequently, `a.shape` becomes `(1, 3)`, while `M.shape` remains the same.\n",
    "\n",
    "2. Next, Rule 2 requires that we stretch the first dimension of `a` to match that of `M`. Therefore, `a.shape` becomes `(3,3)`, while `M.shape` stays the same.\n",
    "\n",
    "3. However, Rule 3 comes into play, here since the final shapes of the two `arrays` do not match. As a result, these two `arrays` are incompatible. \n",
    "\n",
    "This incompatibility is evident when we attempt to perform this operation."
   ]
  },
  {
   "cell_type": "code",
   "execution_count": null,
   "metadata": {
    "id": "U3DPwhHskcHt",
    "outputId": "7c13f681-6a73-4ae5-f6d4-e566ae92dd3f",
    "scrolled": true,
    "slideshow": {
     "slide_type": "fragment"
    }
   },
   "outputs": [],
   "source": [
    "M + a"
   ]
  },
  {
   "cell_type": "markdown",
   "metadata": {
    "id": "RMne2Ga0kf5D",
    "slideshow": {
     "slide_type": "subslide"
    }
   },
   "source": [
    "### Exercise 1: Suppose we are dealing with a spreadsheet that records the grade of students. The grade contains the homework, midterm and finals as follows:\n",
    "\n",
    "<div align=\"center\">\n",
    "\n",
    "| Name | HW1 | HW2 | HW3 | HW4 | Midterm | Final |\n",
    "| --- | --- | --- | --- | --- | --- | --- |\n",
    "| Alice | 90 | 80 | 70 | 100 | 90 | 95 |\n",
    "| Bob | 80 | 90 | 100 | 70 | 85 | 80 |\n",
    "| Charlie | 70 | 100 | 90 | 80 | 95 | 90 |\n",
    "| David | 60 | 70 | 80 | 90 | 85 | 100 |\n",
    "| Eve | 50 | 60 | 70 | 80 | 75 | 90 |\n",
    "\n",
    "</div>"
   ]
  },
  {
   "cell_type": "markdown",
   "metadata": {
    "slideshow": {
     "slide_type": "subslide"
    }
   },
   "source": [
    "We would like to calculate the semester score of each student by the following rules:\n",
    "\n",
    "1. The weight of each score is 0.2 (the summation of four homework accounts for 20% of the total scores and each homework has the same weight), 0.4 and 0.4 for HW, Midterm and Final, respectively. \n",
    "\n",
    "2. We adjust each student's score so that the top performer in the class gets a score of 100 by adding the same constant score to each student's score."
   ]
  },
  {
   "cell_type": "markdown",
   "metadata": {
    "slideshow": {
     "slide_type": "subslide"
    }
   },
   "source": [
    "We use a 2D array to model the grades so that each row corresponds to a student's score. Use the following template to complete the task:\n",
    "\n",
    "```python\n",
    "grades = np.array([[90, 80, 70, 100, 90, 95],\n",
    "                   [80, 90, 100, 70, 85, 80],\n",
    "                   [70, 100, 90, 80, 95, 90],\n",
    "                   [60, 70, 80, 90, 85, 100],\n",
    "                   [50, 60, 70, 80, 75, 90]])\n",
    "\n",
    "weights = np.array([])\n",
    "scores\n",
    "```"
   ]
  },
  {
   "cell_type": "code",
   "execution_count": null,
   "metadata": {
    "id": "LXKfVGmKkfOx",
    "slideshow": {
     "slide_type": "subslide"
    }
   },
   "outputs": [],
   "source": [
    "# input data\n",
    "grades = np.array([[90, 80, 70, 100, 90, 95],\n",
    "                   [80, 90, 100, 70, 85, 80],\n",
    "                   [70, 100, 90, 80, 95, 90],\n",
    "                   [60, 70, 80, 90, 85, 100],\n",
    "                   [50, 60, 70, 80, 75, 90]])\n",
    "\n",
    "# weights of HW, Midterm, Final\n",
    "weights = np.array([])\n",
    "\n",
    "# calculate weighted score\n",
    "scores"
   ]
  },
  {
   "cell_type": "markdown",
   "metadata": {
    "id": "F7GNuN_7kcHu",
    "slideshow": {
     "slide_type": "slide"
    }
   },
   "source": [
    "### Universal Functions (Vectorization)"
   ]
  },
  {
   "cell_type": "markdown",
   "metadata": {
    "id": "KC-bnxdlkcHu",
    "slideshow": {
     "slide_type": "subslide"
    }
   },
   "source": [
    "Now we will delve into how `NumPy` perform element-wise operations on `arrays` without using the `for` loop: `NumPy` provides most operators/functions as standalone ***universal functions*** (`ufuncs`) that perform various operations element-wise, meaning that they apply the same operation to each element in an `array`. "
   ]
  },
  {
   "cell_type": "markdown",
   "metadata": {
    "slideshow": {
     "slide_type": "fragment"
    }
   },
   "source": [
    "These functions operate on one or two `array`-like arguments and are utilized to perform tasks. Some of these functions are automatically invoked when operators like `+` and `*` are used with `arrays`. Each `ufunc` generates a new `array` that contains the results of the operation."
   ]
  },
  {
   "cell_type": "markdown",
   "metadata": {
    "id": "-BbMmoPykcHv",
    "slideshow": {
     "slide_type": "subslide"
    }
   },
   "source": [
    "`NumPy` offers a practical interface that directly access these <u>statically typed</u> and <u>compiled routines</u>. These operations are called ***vectorized operations***. Vectorization is achieved using `array` operations, such as addition, subtraction, multiplication, and division. In addition, it can also be achieved by using other `ufunc`. \n",
    "\n",
    "These vectorized methods are intended to move the loop to the compiled layer that underpins `NumPy`, leading to considerably quicker execution."
   ]
  },
  {
   "cell_type": "markdown",
   "metadata": {
    "id": "0bc2qLngkcHv",
    "slideshow": {
     "slide_type": "skip"
    }
   },
   "source": [
    "We can view the complete list, their descriptions and more information about universal functions at [https://numpy.org/doc/stable/reference/ufuncs.html](https://numpy.org/doc/stable/reference/ufuncs.html)\n",
    "\n",
    "> See [here](https://www.labri.fr/perso/nrougier/from-python-to-numpy/#problem-vectorization) for more vectorization examples in different thinking levels."
   ]
  },
  {
   "cell_type": "markdown",
   "metadata": {
    "id": "VE0EEWhWkcHv",
    "slideshow": {
     "slide_type": "subslide"
    }
   },
   "source": [
    "#### Exploring `NumPy`’s `Ufuncs`"
   ]
  },
  {
   "cell_type": "markdown",
   "metadata": {
    "id": "bbYo4zVZkcHv",
    "slideshow": {
     "slide_type": "subslide"
    }
   },
   "source": [
    "Let's add two `arrays` with the same shape, using the `add()` universal function:"
   ]
  },
  {
   "cell_type": "code",
   "execution_count": null,
   "metadata": {
    "id": "AyhVG60SkcHv",
    "outputId": "2421af03-185c-4858-fa0f-07ede6a63cda",
    "slideshow": {
     "slide_type": "fragment"
    }
   },
   "outputs": [],
   "source": [
    "import numpy as np\n",
    "numbers = np.array([11, 12, 13, 14, 15, 16])\n",
    "numbers2 = np.arange(10, 70, 10)  # array([10, 20, 30, 40, 50, 60])\n",
    "np.add(numbers, numbers2)        # equivalent to numbers + numbers2"
   ]
  },
  {
   "cell_type": "markdown",
   "metadata": {
    "id": "cJuHVREwkcHv",
    "slideshow": {
     "slide_type": "subslide"
    }
   },
   "source": [
    "#### Broadcasting with Universal Functions"
   ]
  },
  {
   "cell_type": "markdown",
   "metadata": {
    "id": "KMbu36O0kcHw",
    "slideshow": {
     "slide_type": "subslide"
    }
   },
   "source": [
    "Let's use the `multiply()` universal function to multiply every element of `numbers2` by the scalar value 5:"
   ]
  },
  {
   "cell_type": "code",
   "execution_count": null,
   "metadata": {
    "id": "FrC9j3UUkcHw",
    "outputId": "dd3f0154-1e0c-4b44-c17e-6215ef1da026",
    "slideshow": {
     "slide_type": "fragment"
    }
   },
   "outputs": [],
   "source": [
    "np.multiply(numbers2, 5) # equivalent to numbers2 * 5"
   ]
  },
  {
   "cell_type": "markdown",
   "metadata": {
    "id": "IRkiFbKqkcHw",
    "slideshow": {
     "slide_type": "subslide"
    }
   },
   "source": [
    "Let's reshape `numbers2` into a 2-by-3 array, then multiply its values by a one-dimensional `array` of three elements:"
   ]
  },
  {
   "cell_type": "code",
   "execution_count": null,
   "metadata": {
    "id": "D9grhj4YkcHw",
    "outputId": "07129a7a-3e1d-4566-ea7b-6297085794da",
    "slideshow": {
     "slide_type": "fragment"
    }
   },
   "outputs": [],
   "source": [
    "numbers3 = numbers2.reshape(2, 3)\n",
    "numbers4 = np.array([2, 4, 6])\n",
    "numbers3, numbers4"
   ]
  },
  {
   "cell_type": "code",
   "execution_count": null,
   "metadata": {
    "id": "MdSUY_FRkcHw",
    "outputId": "c98ec7a1-461d-4fdd-9f89-63418eed4831",
    "slideshow": {
     "slide_type": "fragment"
    }
   },
   "outputs": [],
   "source": [
    "np.multiply(numbers3, numbers4) # Equivalent to numbers3 * numbers4"
   ]
  },
  {
   "cell_type": "markdown",
   "metadata": {
    "id": "GzwhR5m5kcHw",
    "slideshow": {
     "slide_type": "skip"
    }
   },
   "source": [
    "In this case, `numbers4` has the same length as each row of `numbers3`, allowing `NumPy` to apply the multiplication operation by treating `numbers4` as an `array` with the following values:\n",
    "\n",
    "```python\n",
    "array([[2, 4, 6],\n",
    "       [2, 4, 6]])\n",
    "```\n",
    "\n",
    "If a universal function receives two `arrays` with different shapes that do not support broadcasting, a `ValueError` is raised."
   ]
  },
  {
   "cell_type": "markdown",
   "metadata": {
    "id": "oHdEybT9kcHx",
    "slideshow": {
     "slide_type": "subslide"
    }
   },
   "source": [
    "There are other special mathematical `ufunc`. Let's create an array and the values using the `sin()` universal function:"
   ]
  },
  {
   "cell_type": "code",
   "execution_count": null,
   "metadata": {
    "id": "b_H6jeIpkcHx",
    "outputId": "68e854b6-8c35-4e85-dfa0-5d615524bf21",
    "slideshow": {
     "slide_type": "fragment"
    }
   },
   "outputs": [],
   "source": [
    "numbers = np.array([1, 4, 9, 16, 25, 36])\n",
    "np.sin(numbers)"
   ]
  },
  {
   "cell_type": "markdown",
   "metadata": {
    "slideshow": {
     "slide_type": "subslide"
    }
   },
   "source": [
    "Vectorization and `ufunc` functions are closely associated with broadcasting in `NumPy`. By combining vectorization, `ufunc` functions, and broadcasting, we can effectively execute complex arithmetic operations on `NumPy` `arrays`. \n",
    "\n",
    "However, it's important to mention that vectorization can be achieved through methods other than just using ufuncs."
   ]
  },
  {
   "cell_type": "markdown",
   "metadata": {
    "id": "T6fDC_rXkcHx",
    "slideshow": {
     "slide_type": "subslide"
    }
   },
   "source": [
    "#### Create our own vectorizing functions"
   ]
  },
  {
   "cell_type": "markdown",
   "metadata": {
    "id": "kqTP31CBkcHx",
    "slideshow": {
     "slide_type": "subslide"
    }
   },
   "source": [
    "The vectorized operation are often more concise, and it is thus advisable to avoid element-wise looping over vectors and matrices and instead employ vectorized algorithms. \n",
    "\n",
    "The first step in converting a scalar algorithm to a vectorized algorithm involves verifying that the functions we create can function with vector inputs:"
   ]
  },
  {
   "cell_type": "code",
   "execution_count": null,
   "metadata": {
    "id": "ISQuFhOUkcHx",
    "slideshow": {
     "slide_type": "fragment"
    }
   },
   "outputs": [],
   "source": [
    "def Theta(x, th):\n",
    "    \"\"\"\n",
    "    Scalar implemenation of a variant of Heaviside step function.\n",
    "    \"\"\"\n",
    "    if x >= th:\n",
    "        return 1\n",
    "    else:\n",
    "        return 0"
   ]
  },
  {
   "cell_type": "markdown",
   "metadata": {
    "id": "a2KDO7lSkcHx",
    "slideshow": {
     "slide_type": "subslide"
    }
   },
   "source": [
    "We can achieve this using `np.vectorize()` function:"
   ]
  },
  {
   "cell_type": "code",
   "execution_count": null,
   "metadata": {
    "id": "-sPGZAEtkcHx",
    "outputId": "b2e8c5bd-fec7-4e1d-a0f1-e1e72402db8b",
    "slideshow": {
     "slide_type": "fragment"
    }
   },
   "outputs": [],
   "source": [
    "Theta_vec = np.vectorize(Theta)\n",
    "Theta_vec(np.array([-3,-2,-1,0,1,2,3]), 1)"
   ]
  },
  {
   "cell_type": "markdown",
   "metadata": {
    "id": "37k3gUyqkcHy",
    "slideshow": {
     "slide_type": "skip"
    }
   },
   "source": [
    "> Don’t assume `np.vectorize()` is faster. It is mainly for convenient and concise purposes as described [here](https://numpy.org/doc/stable/reference/generated/numpy.vectorize.html)."
   ]
  },
  {
   "cell_type": "markdown",
   "metadata": {
    "slideshow": {
     "slide_type": "subslide"
    }
   },
   "source": [
    "### Exrercise 2: Compare the performance between `for` loop and `NumPy` vectorization in calculating the Wallis formula: $2 \\times \\prod_{i=1}^{500}(\\frac{2i}{2i-1}\\times\\frac{2i}{2i+1})$. Be sure to check the results from the two approaches are the same and close enough to the true value of $\\pi$. Finally, report the speedup factor of the `NumPy` vectorization. (10%)\n",
    "\n",
    "Hint: Use `%%timeit` to measure the performance of the code. In addition, look up the official documentation or use copilot to find the `NumPy` function to calculate the product of an array using vectorization."
   ]
  },
  {
   "cell_type": "code",
   "execution_count": null,
   "metadata": {
    "slideshow": {
     "slide_type": "subslide"
    }
   },
   "outputs": [],
   "source": [
    "# Your code here"
   ]
  },
  {
   "cell_type": "code",
   "execution_count": null,
   "metadata": {
    "slideshow": {
     "slide_type": "fragment"
    }
   },
   "outputs": [],
   "source": [
    "# Your code here"
   ]
  },
  {
   "cell_type": "markdown",
   "metadata": {
    "id": "pkOtzOr2kcHy",
    "slideshow": {
     "slide_type": "slide"
    }
   },
   "source": [
    "## Type casting and File I/O"
   ]
  },
  {
   "cell_type": "markdown",
   "metadata": {
    "slideshow": {
     "slide_type": "subslide"
    }
   },
   "source": [
    "### Type casting"
   ]
  },
  {
   "cell_type": "markdown",
   "metadata": {
    "id": "amCWviqjkcHy",
    "slideshow": {
     "slide_type": "subslide"
    }
   },
   "source": [
    "Due to the nature of static typing, the type of a `NumPy` `array` does not change once created. However, we can explicitly convert an `array` of one type to another using the `astype()` function. This operation always generates a new `array` with a new type."
   ]
  },
  {
   "cell_type": "code",
   "execution_count": null,
   "metadata": {
    "id": "vw8W5X0ikcHy",
    "outputId": "03adaa43-3de2-45fd-8414-f54efc61b95a",
    "slideshow": {
     "slide_type": "fragment"
    }
   },
   "outputs": [],
   "source": [
    "import numpy as np\n",
    "M = np.random.rand(5,5)*5\n",
    "M, M.dtype"
   ]
  },
  {
   "cell_type": "code",
   "execution_count": null,
   "metadata": {
    "id": "nuTsrYNjkcHz",
    "outputId": "fb072569-74ba-4327-ac08-86104b674d35",
    "slideshow": {
     "slide_type": "fragment"
    }
   },
   "outputs": [],
   "source": [
    "M2 = M.astype(np.int64)\n",
    "M2"
   ]
  },
  {
   "cell_type": "markdown",
   "metadata": {
    "id": "2RB3dSs7kcHz",
    "slideshow": {
     "slide_type": "skip"
    }
   },
   "source": [
    "See [https://scipy-lectures.org/intro/numpy/elaborate_arrays.html](https://scipy-lectures.org/intro/numpy/elaborate_arrays.html) for more details."
   ]
  },
  {
   "cell_type": "markdown",
   "metadata": {
    "slideshow": {
     "slide_type": "subslide"
    }
   },
   "source": [
    "### File I/O"
   ]
  },
  {
   "cell_type": "markdown",
   "metadata": {
    "slideshow": {
     "slide_type": "subslide"
    }
   },
   "source": [
    "Let's consider that we have a two-dimensional `array` representing student grades. Each row in the array corresponds to a unique student, and each column represents a different subject:"
   ]
  },
  {
   "cell_type": "code",
   "execution_count": null,
   "metadata": {
    "slideshow": {
     "slide_type": "fragment"
    }
   },
   "outputs": [],
   "source": [
    "grades = np.array([[90, 80, 70, 100, 90, 95],\n",
    "                   [80, 90, 100, 70, 85, 80],\n",
    "                   [70, 100, 90, 80, 95, 90],\n",
    "                   [60, 70, 80, 90, 85, 100],\n",
    "                   [50, 60, 70, 80, 75, 90]])"
   ]
  },
  {
   "cell_type": "markdown",
   "metadata": {
    "slideshow": {
     "slide_type": "fragment"
    }
   },
   "source": [
    "We can store it into a text file using `np.savetxt()`:"
   ]
  },
  {
   "cell_type": "code",
   "execution_count": null,
   "metadata": {
    "slideshow": {
     "slide_type": "fragment"
    }
   },
   "outputs": [],
   "source": [
    "np.savetxt('grades.txt', grades)"
   ]
  },
  {
   "cell_type": "markdown",
   "metadata": {
    "slideshow": {
     "slide_type": "subslide"
    }
   },
   "source": [
    "On the other hand, we can read the contents from a text file using `np.loadtxt()`:"
   ]
  },
  {
   "cell_type": "code",
   "execution_count": null,
   "metadata": {
    "slideshow": {
     "slide_type": "fragment"
    }
   },
   "outputs": [],
   "source": [
    "grades2  = np.loadtxt('grades.txt')\n",
    "print(grades2)"
   ]
  },
  {
   "cell_type": "markdown",
   "metadata": {
    "id": "BMIVLeKHkcHz",
    "slideshow": {
     "slide_type": "subslide"
    }
   },
   "source": [
    "`NumPy` has its own binary format, not portable but with efficient I/O. This is useful when storing and reading back large `array` data. Use the functions `np.save()` and `np.load()`."
   ]
  },
  {
   "cell_type": "code",
   "execution_count": null,
   "metadata": {
    "id": "S6ozBM2ukcHz",
    "outputId": "99924912-d492-4b18-a13d-514c4f24cda0",
    "slideshow": {
     "slide_type": "fragment"
    }
   },
   "outputs": [],
   "source": [
    "M = np.random.randint(1,6, size=(1_000, 1_000))\n",
    "print(M)\n",
    "np.save(\"random-matrix.npy\", M)"
   ]
  },
  {
   "cell_type": "code",
   "execution_count": null,
   "metadata": {
    "slideshow": {
     "slide_type": "fragment"
    }
   },
   "outputs": [],
   "source": [
    "M2 = np.load(\"random-matrix.npy\")\n",
    "M2"
   ]
  },
  {
   "cell_type": "markdown",
   "metadata": {
    "slideshow": {
     "slide_type": "subslide"
    }
   },
   "source": [
    "In summary:\n",
    "\n",
    "To make the code faster using `NumPy`  \n",
    "\n",
    "- Use views instead of copies whenever possible\n",
    "- Broadcasting: Use broadcasting to do operations on `arrays`\n",
    "- Vectorizing `for` loops: Find tricks to avoid `for` loops using `NumPy` `arrays`.\n",
    "- In place operations: `a *= 3` instead of `a = 3*a`"
   ]
  },
  {
   "cell_type": "markdown",
   "metadata": {
    "id": "fjuGLxpmkcHz",
    "slideshow": {
     "slide_type": "subslide"
    }
   },
   "source": [
    "The comparisons between `list` and `array` are summarized as follows:\n",
    "\n",
    "**Python** objects:\n",
    "\n",
    "- `Python` `lists` are very general. They can contain any kind of object and are dynamically typed \n",
    "- However, they do not support mathematical functions such as matrix multiplications. Implementing such functions for `Python` `lists` would not be very efficient because of the dynamic typing"
   ]
  },
  {
   "cell_type": "markdown",
   "metadata": {
    "slideshow": {
     "slide_type": "subslide"
    }
   },
   "source": [
    "**NumPy** provides:\n",
    "\n",
    "- `Numpy` `arrays` are **statically typed** and **have the same data type**. The type of the elements is determined when the `array` is created\n",
    "- Because of this static typing, `NumPy` can utilize fast implementation of mathematical functions using a compiled language (NumPy uses C and Fortran). This contributes to their computational and memory efficiency.\n",
    "- For scientific computing tasks where efficiency and mathematical operations are key, it is generally recommended to use `NumPy` arrays to model and manipulate the data."
   ]
  },
  {
   "cell_type": "markdown",
   "metadata": {
    "id": "jhf72ts915JW",
    "slideshow": {
     "slide_type": "slide"
    }
   },
   "source": [
    "## References"
   ]
  },
  {
   "cell_type": "markdown",
   "metadata": {
    "id": "REIXJyHd17qt",
    "slideshow": {
     "slide_type": "subslide"
    }
   },
   "source": [
    "1. [https://scipy-lectures.org/intro/numpy/index.html](https://scipy-lectures.org/intro/numpy/index.html)\n",
    "\n",
    "2. [https://scipy-lectures.org/advanced/advanced_numpy/index.html](https://scipy-lectures.org/advanced/advanced_numpy/index.html)"
   ]
  },
  {
   "cell_type": "markdown",
   "metadata": {
    "slideshow": {
     "slide_type": "skip"
    }
   },
   "source": [
    "## Key terms"
   ]
  },
  {
   "cell_type": "markdown",
   "metadata": {
    "slideshow": {
     "slide_type": "skip"
    }
   },
   "source": [
    "- **Vectorization**: This is a technique in computing which involves performing operations on entire arrays instead of individual elements, thus significantly improving computational efficiency. It's commonly used in numerical computing environments like NumPy.\n",
    "- **Augmented assignment**: In programming, augmented assignment is a kind of shorthand that combines an arithmetic operation with an assignment. For example, instead of writing x = x + 1, you can write x += 1, which does the same thing.\n",
    "- **Broadcasting**: This is a technique used in programming, particularly with numerical computing libraries such as NumPy, that allows operations to be performed between arrays of different shapes and sizes. It does this by 'broadcasting' the smaller array across the larger one so that they have compatible shapes.\n",
    "- **Type conversion**: Type conversion, or type casting, is changing a value from one data type to another. It can be automatic (implicit), like when an integer is automatically converted to a float for a calculation, or manual (explicit), as when a programmer uses a function like int() to convert a string to an integer in Python.\n",
    "- **Universal functions**: ufuncs in NumPy operate element-wise on arrays, enabling faster computations than traditional loops in Python. The reason they're faster is because they're implemented in C, a compiled and more efficient language, and the Python layer simply provides an interface to the compiled code. Hence, ufuncs use the concept of compiled routines to achieve better performance.\n",
    "- **Statically typed**: A language is statically typed if the type is checked before the code is executed. This means that you need to declare the type of a variable when it's created, and it can't be changed to another type later. Examples of statically typed languages are C, C++, and Java.\n",
    "- **Compiled routines**: In programming, routines (or functions) are compiled into machine code before being run in a compiled language. This typically leads to more efficient execution than interpreted languages, which interpret the code line by line as it is run.\n",
    "- **Type casting**: This is essentially another term for type conversion. It's the process of converting one data type to another. The term is often used in statically typed languages or library like NumPy where the type needs to be explicitly stated.\n",
    "- **Binary file**: A binary file is a file that contains binary data as opposed to text data. This could be anything from an image or audio file to an executable program. Binary files are read differently than text files and often need specific software to interpret them. On the other hand, binary file often offers efficiency benefits in terms of space and speed as it is the format that resembles the format used in the underlying storage system."
   ]
  }
 ],
 "metadata": {
  "celltoolbar": "Slideshow",
  "colab": {
   "provenance": [],
   "toc_visible": true
  },
  "kernelspec": {
   "display_name": "Python 3 (ipykernel)",
   "language": "python",
   "name": "python3"
  },
  "language_info": {
   "codemirror_mode": {
    "name": "ipython",
    "version": 3
   },
   "file_extension": ".py",
   "mimetype": "text/x-python",
   "name": "python",
   "nbconvert_exporter": "python",
   "pygments_lexer": "ipython3",
   "version": "3.9.13"
  },
  "rise": {
   "chalkboard": {
    "color": [
     "rgb(250, 0, 0)",
     "rgb(250, 0, 0)"
    ]
   },
   "controls": false,
   "enable_chalkboard": true,
   "footer": "",
   "overlay": "<div class='myfooter'><h4>Array-Oriented Programming with NumPy</h4></div>",
   "slideNumber": "true",
   "theme": "night"
  },
  "vscode": {
   "interpreter": {
    "hash": "1561eddc5e0c9c74df968f74d5080d02882967127f956e6e7049c43d2ef42321"
   }
  }
 },
 "nbformat": 4,
 "nbformat_minor": 1
}
