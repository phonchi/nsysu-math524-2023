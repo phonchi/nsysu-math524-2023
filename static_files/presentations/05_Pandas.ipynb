{
 "cells": [
  {
   "cell_type": "markdown",
   "metadata": {
    "id": "11n5gndbRzoY",
    "slideshow": {
     "slide_type": "slide"
    }
   },
   "source": [
    "# Data analysis with `Pandas`\n"
   ]
  },
  {
   "cell_type": "markdown",
   "metadata": {
    "slideshow": {
     "slide_type": "subslide"
    }
   },
   "source": [
    "1. Introduction\n",
    "2. The `Pandas` `Series` Object\n",
    "3. The `Pandas` `DataFrame` Object\n",
    "4. Data selection in `DataFrame`\n",
    "5. Operations on `DataFrame`"
   ]
  },
  {
   "cell_type": "markdown",
   "metadata": {
    "slideshow": {
     "slide_type": "slide"
    }
   },
   "source": [
    "## Introduction"
   ]
  },
  {
   "cell_type": "markdown",
   "metadata": {
    "id": "Bh4CaUdwZ29q",
    "slideshow": {
     "slide_type": "subslide"
    }
   },
   "source": [
    "In this section, we will examining the data structures provided by the `Pandas` library in greater depth. `Pandas` is a more recent package built on top of `NumPy`, offering an efficient implementation of a `DataFrame`. **`DataFrames` essentially comprise multidimensional arrays with attached row and column labels, often containing data with different types and/or missing data**. In addition to providing a convenient storage interface for labeled data, `Pandas` implements numerous powerful data operations familiar to users of both <u>database</u> frameworks and <u>spreadsheet</u> programs."
   ]
  },
  {
   "cell_type": "markdown",
   "metadata": {
    "slideshow": {
     "slide_type": "subslide"
    }
   },
   "source": [
    "`Pandas`, particularly its `Series` and `DataFrame` objects, builds on the `NumPy` array structure and facilitates efficient access to the types of \"data munging\" tasks that occupy a significant portion of a data scientist's workload. "
   ]
  },
  {
   "cell_type": "code",
   "execution_count": 1,
   "metadata": {
    "colab": {
     "base_uri": "https://localhost:8080/"
    },
    "executionInfo": {
     "elapsed": 1776,
     "status": "ok",
     "timestamp": 1683534636814,
     "user": {
      "displayName": "phonchi chung",
      "userId": "13517391734500420886"
     },
     "user_tz": -480
    },
    "id": "OJG4OarigJVS",
    "outputId": "f679817b-4d6f-4333-e435-68796d2d80b9",
    "slideshow": {
     "slide_type": "fragment"
    }
   },
   "outputs": [
    {
     "name": "stdout",
     "output_type": "stream",
     "text": [
      "pandas is already installed.\n"
     ]
    }
   ],
   "source": [
    "package_name = \"pandas\"\n",
    "\n",
    "try:\n",
    "    __import__(package_name)\n",
    "    print(f\"{package_name} is already installed.\")\n",
    "except ImportError:\n",
    "    print(f\"{package_name} not found. Installing...\")\n",
    "    %pip install {package_name}"
   ]
  },
  {
   "cell_type": "markdown",
   "metadata": {
    "slideshow": {
     "slide_type": "subslide"
    }
   },
   "source": [
    "Just as we typically import `NumPy` under the alias `np`, we will import `Pandas` under the alias `pd`:"
   ]
  },
  {
   "cell_type": "code",
   "execution_count": 2,
   "metadata": {
    "id": "bvcKnNsjZ29q",
    "slideshow": {
     "slide_type": "fragment"
    }
   },
   "outputs": [],
   "source": [
    "import numpy as np\n",
    "import pandas as pd"
   ]
  },
  {
   "cell_type": "markdown",
   "metadata": {
    "id": "YQxoNptxZ29r",
    "slideshow": {
     "slide_type": "slide"
    }
   },
   "source": [
    "## Introducing  `Pandas` `Series` Object"
   ]
  },
  {
   "cell_type": "markdown",
   "metadata": {
    "id": "BPUUt-OuZ29r",
    "slideshow": {
     "slide_type": "subslide"
    }
   },
   "source": [
    "Fundamentally, `Pandas` objects can be considered as enhance versions of `NumPy` arrays, with the key distinction being that rows and columns are identified by labels rather than basic integer indices. Before delving deeper, let's examine these three essential `Pandas` data structures: the `Series`, `DataFrame`, and `Index`."
   ]
  },
  {
   "cell_type": "markdown",
   "metadata": {
    "id": "yy_7zHAnZ29s",
    "slideshow": {
     "slide_type": "subslide"
    }
   },
   "source": [
    "### Construct `Series` with `list` or `array`:"
   ]
  },
  {
   "cell_type": "markdown",
   "metadata": {
    "id": "IRicDvwgZ29s",
    "slideshow": {
     "slide_type": "subslide"
    }
   },
   "source": [
    "A one-dimensional array of indexed data can be represented by a `Pandas` `Series`, which can be created from a `list` or an `array` using the method below:"
   ]
  },
  {
   "cell_type": "code",
   "execution_count": 3,
   "metadata": {
    "colab": {
     "base_uri": "https://localhost:8080/"
    },
    "executionInfo": {
     "elapsed": 2,
     "status": "ok",
     "timestamp": 1683534654249,
     "user": {
      "displayName": "phonchi chung",
      "userId": "13517391734500420886"
     },
     "user_tz": -480
    },
    "id": "_vrugNXWZ29s",
    "outputId": "0da08dc2-b157-4c2b-afbd-f92fb5cad485",
    "slideshow": {
     "slide_type": "fragment"
    }
   },
   "outputs": [
    {
     "data": {
      "text/plain": [
       "0    0.25\n",
       "1    0.50\n",
       "2    0.75\n",
       "3    1.00\n",
       "dtype: float64"
      ]
     },
     "execution_count": 3,
     "metadata": {},
     "output_type": "execute_result"
    }
   ],
   "source": [
    "data = pd.Series([0.25, 0.5, 0.75, 1.0])\n",
    "data"
   ]
  },
  {
   "cell_type": "markdown",
   "metadata": {
    "id": "VJI4fWeZZ29t",
    "slideshow": {
     "slide_type": "subslide"
    }
   },
   "source": [
    "Note that a `Series` combines a sequence of `values` with a distinct sequence of `indices`, accessible through the `values` and `index` attributes. Essentially, the `values` make up a `NumPy` array:"
   ]
  },
  {
   "cell_type": "code",
   "execution_count": 4,
   "metadata": {
    "colab": {
     "base_uri": "https://localhost:8080/"
    },
    "executionInfo": {
     "elapsed": 280,
     "status": "ok",
     "timestamp": 1683534708320,
     "user": {
      "displayName": "phonchi chung",
      "userId": "13517391734500420886"
     },
     "user_tz": -480
    },
    "id": "awME-QH4Z29t",
    "outputId": "054c6476-c475-48f1-cc01-6ec856960f8c",
    "slideshow": {
     "slide_type": "fragment"
    }
   },
   "outputs": [
    {
     "data": {
      "text/plain": [
       "(array([0.25, 0.5 , 0.75, 1.  ]), dtype('float64'))"
      ]
     },
     "execution_count": 4,
     "metadata": {},
     "output_type": "execute_result"
    }
   ],
   "source": [
    "data.values, data.dtype"
   ]
  },
  {
   "cell_type": "markdown",
   "metadata": {
    "id": "Zf0kizW6Z29t",
    "slideshow": {
     "slide_type": "fragment"
    }
   },
   "source": [
    "The `index` is an `array`-like object of the `pd.Index` type, which we'll delve into more shortly:"
   ]
  },
  {
   "cell_type": "code",
   "execution_count": 5,
   "metadata": {
    "colab": {
     "base_uri": "https://localhost:8080/"
    },
    "executionInfo": {
     "elapsed": 278,
     "status": "ok",
     "timestamp": 1683534724634,
     "user": {
      "displayName": "phonchi chung",
      "userId": "13517391734500420886"
     },
     "user_tz": -480
    },
    "id": "8wZZYFhZZ29t",
    "outputId": "569798a1-9fb5-4902-bd10-698f58898066",
    "slideshow": {
     "slide_type": "fragment"
    }
   },
   "outputs": [
    {
     "data": {
      "text/plain": [
       "(RangeIndex(start=0, stop=4, step=1), True)"
      ]
     },
     "execution_count": 5,
     "metadata": {},
     "output_type": "execute_result"
    }
   ],
   "source": [
    "data.index, issubclass(type(data.index), pd.Index)"
   ]
  },
  {
   "cell_type": "markdown",
   "metadata": {
    "id": "QH3DG9neZ29t",
    "slideshow": {
     "slide_type": "subslide"
    }
   },
   "source": [
    "Like a `NumPy` array, data can be accessed via its associated index using the square-bracket notation in `Python`:"
   ]
  },
  {
   "cell_type": "code",
   "execution_count": 6,
   "metadata": {
    "colab": {
     "base_uri": "https://localhost:8080/"
    },
    "executionInfo": {
     "elapsed": 2,
     "status": "ok",
     "timestamp": 1683534739610,
     "user": {
      "displayName": "phonchi chung",
      "userId": "13517391734500420886"
     },
     "user_tz": -480
    },
    "id": "z0hgPrZGZ29t",
    "outputId": "535c8758-36da-4d39-c2ea-f8f89ab7d724",
    "slideshow": {
     "slide_type": "fragment"
    }
   },
   "outputs": [
    {
     "data": {
      "text/plain": [
       "0.5"
      ]
     },
     "execution_count": 6,
     "metadata": {},
     "output_type": "execute_result"
    }
   ],
   "source": [
    "data[1]"
   ]
  },
  {
   "cell_type": "code",
   "execution_count": 7,
   "metadata": {
    "colab": {
     "base_uri": "https://localhost:8080/"
    },
    "executionInfo": {
     "elapsed": 2,
     "status": "ok",
     "timestamp": 1683534741811,
     "user": {
      "displayName": "phonchi chung",
      "userId": "13517391734500420886"
     },
     "user_tz": -480
    },
    "id": "zeibK9QnZ29u",
    "outputId": "63261171-71d3-4005-e81d-d321016acf5c",
    "slideshow": {
     "slide_type": "fragment"
    }
   },
   "outputs": [
    {
     "data": {
      "text/plain": [
       "1    0.50\n",
       "2    0.75\n",
       "dtype: float64"
      ]
     },
     "execution_count": 7,
     "metadata": {},
     "output_type": "execute_result"
    }
   ],
   "source": [
    "data[1:3] # Slicing works"
   ]
  },
  {
   "cell_type": "code",
   "execution_count": 8,
   "metadata": {
    "colab": {
     "base_uri": "https://localhost:8080/"
    },
    "executionInfo": {
     "elapsed": 1,
     "status": "ok",
     "timestamp": 1683534743821,
     "user": {
      "displayName": "phonchi chung",
      "userId": "13517391734500420886"
     },
     "user_tz": -480
    },
    "id": "i8DVQdjRZ29u",
    "outputId": "b08fa1f1-8141-4bc7-bcb5-3940110bb0d3",
    "slideshow": {
     "slide_type": "fragment"
    }
   },
   "outputs": [
    {
     "data": {
      "text/plain": [
       "1    0.5\n",
       "3    1.0\n",
       "dtype: float64"
      ]
     },
     "execution_count": 8,
     "metadata": {},
     "output_type": "execute_result"
    }
   ],
   "source": [
    "data[[1,3]] # Fancy indexing also works"
   ]
  },
  {
   "cell_type": "markdown",
   "metadata": {
    "id": "sTDbg9blZ29u",
    "slideshow": {
     "slide_type": "subslide"
    }
   },
   "source": [
    "From our observations so far, the `Series` object might appear almost the same as a one-dimensional `NumPy` `array`. However, a crucial difference is that a `NumPy` `array` uses an implicitly defined integer index for value access, whereas the `Pandas` `Series` has an **explicitly defined index linked to the values**. As a result, the `index` is not limited to `integer` values and can include any desired type. This means that we can use `strings` as an index if we choose to do so:"
   ]
  },
  {
   "cell_type": "code",
   "execution_count": 9,
   "metadata": {
    "colab": {
     "base_uri": "https://localhost:8080/"
    },
    "executionInfo": {
     "elapsed": 867,
     "status": "ok",
     "timestamp": 1683534799237,
     "user": {
      "displayName": "phonchi chung",
      "userId": "13517391734500420886"
     },
     "user_tz": -480
    },
    "id": "mI2U39yzZ29u",
    "outputId": "6ab2157c-5cc5-4d90-fcdc-ac24835f5a5e",
    "slideshow": {
     "slide_type": "fragment"
    }
   },
   "outputs": [
    {
     "data": {
      "text/plain": [
       "(a    0.25\n",
       " b    0.50\n",
       " c    0.75\n",
       " d    1.00\n",
       " dtype: float64,\n",
       " Index(['a', 'b', 'c', 'd'], dtype='object'))"
      ]
     },
     "execution_count": 9,
     "metadata": {},
     "output_type": "execute_result"
    }
   ],
   "source": [
    "data = pd.Series([0.25, 0.5, 0.75, 1.0], index=['a', 'b', 'c', 'd'])\n",
    "data, data.index"
   ]
  },
  {
   "cell_type": "markdown",
   "metadata": {
    "id": "q3uMhkP6Z29u",
    "slideshow": {
     "slide_type": "subslide"
    }
   },
   "source": [
    "And the item access works as expected:"
   ]
  },
  {
   "cell_type": "code",
   "execution_count": 10,
   "metadata": {
    "colab": {
     "base_uri": "https://localhost:8080/"
    },
    "executionInfo": {
     "elapsed": 405,
     "status": "ok",
     "timestamp": 1683534802328,
     "user": {
      "displayName": "phonchi chung",
      "userId": "13517391734500420886"
     },
     "user_tz": -480
    },
    "id": "nk0GXOyOZ29u",
    "outputId": "85265d77-41ad-4468-ac5e-38a69a36df64",
    "slideshow": {
     "slide_type": "fragment"
    }
   },
   "outputs": [
    {
     "data": {
      "text/plain": [
       "0.5"
      ]
     },
     "execution_count": 10,
     "metadata": {},
     "output_type": "execute_result"
    }
   ],
   "source": [
    "data['b']"
   ]
  },
  {
   "cell_type": "code",
   "execution_count": 11,
   "metadata": {
    "colab": {
     "base_uri": "https://localhost:8080/"
    },
    "executionInfo": {
     "elapsed": 5,
     "status": "ok",
     "timestamp": 1683534802328,
     "user": {
      "displayName": "phonchi chung",
      "userId": "13517391734500420886"
     },
     "user_tz": -480
    },
    "id": "GavHSsofZ29u",
    "outputId": "ddb7c79f-5dfc-4057-f260-50f4becc3c18",
    "slideshow": {
     "slide_type": "fragment"
    }
   },
   "outputs": [
    {
     "data": {
      "text/plain": [
       "b    0.50\n",
       "c    0.75\n",
       "d    1.00\n",
       "dtype: float64"
      ]
     },
     "execution_count": 11,
     "metadata": {},
     "output_type": "execute_result"
    }
   ],
   "source": [
    "data['b':'d'] # Slicing works"
   ]
  },
  {
   "cell_type": "code",
   "execution_count": 12,
   "metadata": {
    "colab": {
     "base_uri": "https://localhost:8080/"
    },
    "executionInfo": {
     "elapsed": 4,
     "status": "ok",
     "timestamp": 1683534802328,
     "user": {
      "displayName": "phonchi chung",
      "userId": "13517391734500420886"
     },
     "user_tz": -480
    },
    "id": "xeSxak-6Z29v",
    "outputId": "98695f66-5f45-4b99-a2f2-f14b750451ef",
    "slideshow": {
     "slide_type": "fragment"
    }
   },
   "outputs": [
    {
     "data": {
      "text/plain": [
       "a    0.25\n",
       "d    1.00\n",
       "dtype: float64"
      ]
     },
     "execution_count": 12,
     "metadata": {},
     "output_type": "execute_result"
    }
   ],
   "source": [
    "data[['a','d']] # Fancy indexing also works"
   ]
  },
  {
   "cell_type": "markdown",
   "metadata": {
    "id": "zuo4-ej4Z29v",
    "slideshow": {
     "slide_type": "subslide"
    }
   },
   "source": [
    "### Construct series with `dictionary`:"
   ]
  },
  {
   "cell_type": "markdown",
   "metadata": {
    "id": "3u72QUPdZ29v",
    "slideshow": {
     "slide_type": "subslide"
    }
   },
   "source": [
    "A `Pandas` `Series` can also be thought of as a specialized version of a `Python` `dictionary`. In a `Series`, typed `keys` are associated with a collection of typed `values`. This typing aspect is vital: similar to how the type-specific compiled code behind a `NumPy` `array` improves its efficiency compared to a `Python` `list` for certain operations, the type information within a `Pandas` `Series` makes it more efficient than `Python` `dictionaries` for specific tasks."
   ]
  },
  {
   "cell_type": "markdown",
   "metadata": {
    "id": "xA8ydvF5Z29v",
    "slideshow": {
     "slide_type": "subslide"
    }
   },
   "source": [
    "We can thus construct a `Series` object directly from a `Python` `dictionary`, here the six most populous cities according to the 2023 census:"
   ]
  },
  {
   "cell_type": "code",
   "execution_count": 13,
   "metadata": {
    "colab": {
     "base_uri": "https://localhost:8080/"
    },
    "executionInfo": {
     "elapsed": 1,
     "status": "ok",
     "timestamp": 1683535103862,
     "user": {
      "displayName": "phonchi chung",
      "userId": "13517391734500420886"
     },
     "user_tz": -480
    },
    "id": "HXNxKaKGZ29v",
    "outputId": "67ca87c6-7f56-4fdc-e73a-98c33a09cf7e",
    "slideshow": {
     "slide_type": "fragment"
    }
   },
   "outputs": [
    {
     "data": {
      "text/plain": [
       "New Taipei City    4013659\n",
       "Taichung City      2826230\n",
       "Kaohsiung City     2733964\n",
       "Taipei City        2465610\n",
       "Taoyuan City       2293509\n",
       "Tainan City        1859229\n",
       "dtype: int64"
      ]
     },
     "execution_count": 13,
     "metadata": {},
     "output_type": "execute_result"
    }
   ],
   "source": [
    "population_dict = {'New Taipei City': 4_013_659, 'Taichung City': 2_826_230, 'Kaohsiung City': 2_733_964, 'Taipei City': 2_465_610, \n",
    "                   'Taoyuan City': 2_293_509, 'Tainan City': 1_859_229}\n",
    "population = pd.Series(population_dict)\n",
    "population"
   ]
  },
  {
   "cell_type": "markdown",
   "metadata": {
    "id": "9rqlQYJZZ29v",
    "slideshow": {
     "slide_type": "subslide"
    }
   },
   "source": [
    "Typical dictionary-style item access can be performed:"
   ]
  },
  {
   "cell_type": "code",
   "execution_count": 14,
   "metadata": {
    "colab": {
     "base_uri": "https://localhost:8080/"
    },
    "executionInfo": {
     "elapsed": 2,
     "status": "ok",
     "timestamp": 1683535118479,
     "user": {
      "displayName": "phonchi chung",
      "userId": "13517391734500420886"
     },
     "user_tz": -480
    },
    "id": "bpNzh2BqZ29v",
    "outputId": "1d34ceae-7ad9-4d54-a143-cbaaa47a2a52",
    "slideshow": {
     "slide_type": "fragment"
    }
   },
   "outputs": [
    {
     "data": {
      "text/plain": [
       "4013659"
      ]
     },
     "execution_count": 14,
     "metadata": {},
     "output_type": "execute_result"
    }
   ],
   "source": [
    "population['New Taipei City']"
   ]
  },
  {
   "cell_type": "markdown",
   "metadata": {
    "id": "trhBPVBVZ29w",
    "slideshow": {
     "slide_type": "subslide"
    }
   },
   "source": [
    "Unlike a `dictionary`, though, the `Series` also supports `array`-style operations such as slicing:"
   ]
  },
  {
   "cell_type": "code",
   "execution_count": 15,
   "metadata": {
    "colab": {
     "base_uri": "https://localhost:8080/"
    },
    "executionInfo": {
     "elapsed": 282,
     "status": "ok",
     "timestamp": 1683535132625,
     "user": {
      "displayName": "phonchi chung",
      "userId": "13517391734500420886"
     },
     "user_tz": -480
    },
    "id": "uvxPaET8Z29w",
    "outputId": "3cab5000-c4e8-414c-a122-348f97fb7002",
    "slideshow": {
     "slide_type": "fragment"
    }
   },
   "outputs": [
    {
     "data": {
      "text/plain": [
       "New Taipei City    4013659\n",
       "Taichung City      2826230\n",
       "Kaohsiung City     2733964\n",
       "dtype: int64"
      ]
     },
     "execution_count": 15,
     "metadata": {},
     "output_type": "execute_result"
    }
   ],
   "source": [
    "population['New Taipei City':'Kaohsiung City']"
   ]
  },
  {
   "cell_type": "markdown",
   "metadata": {
    "id": "lOuRKKTRZ29w",
    "slideshow": {
     "slide_type": "skip"
    }
   },
   "source": [
    "### The `Pandas` `Index` Object"
   ]
  },
  {
   "cell_type": "markdown",
   "metadata": {
    "id": "SLKIZZoDZ29w",
    "slideshow": {
     "slide_type": "skip"
    }
   },
   "source": [
    "The `Index` object itself is quite intriguing and can be considered either as an immutable `array` or as a multiset. These perspectives lead to some fascinating implications regarding the operations that can be performed on `Index` objects. For a basic example, let's create an `Index` using a list of `integers`:"
   ]
  },
  {
   "cell_type": "code",
   "execution_count": null,
   "metadata": {
    "colab": {
     "base_uri": "https://localhost:8080/"
    },
    "executionInfo": {
     "elapsed": 272,
     "status": "ok",
     "timestamp": 1683535200251,
     "user": {
      "displayName": "phonchi chung",
      "userId": "13517391734500420886"
     },
     "user_tz": -480
    },
    "id": "o3k5al-HZ29w",
    "outputId": "f3093bb8-9a99-4c48-a0f1-cb650ffbe835",
    "slideshow": {
     "slide_type": "skip"
    }
   },
   "outputs": [],
   "source": [
    "ind = pd.Index([2, 3, 5, 7, 11])\n",
    "ind"
   ]
  },
  {
   "cell_type": "markdown",
   "metadata": {
    "id": "TaVdg1fnZ29w",
    "slideshow": {
     "slide_type": "skip"
    }
   },
   "source": [
    "In several aspects, the `Index` functions like an `array`. For instance, we can employ the conventional `Python` indexing notation to obtain `values`:"
   ]
  },
  {
   "cell_type": "code",
   "execution_count": null,
   "metadata": {
    "colab": {
     "base_uri": "https://localhost:8080/"
    },
    "executionInfo": {
     "elapsed": 281,
     "status": "ok",
     "timestamp": 1683535264138,
     "user": {
      "displayName": "phonchi chung",
      "userId": "13517391734500420886"
     },
     "user_tz": -480
    },
    "id": "bCgKPLcrZ29x",
    "outputId": "11857ffc-3aaf-44aa-9646-95cc0c9f8f73",
    "slideshow": {
     "slide_type": "skip"
    }
   },
   "outputs": [],
   "source": [
    "ind[1]"
   ]
  },
  {
   "cell_type": "code",
   "execution_count": null,
   "metadata": {
    "colab": {
     "base_uri": "https://localhost:8080/"
    },
    "executionInfo": {
     "elapsed": 2,
     "status": "ok",
     "timestamp": 1683535275165,
     "user": {
      "displayName": "phonchi chung",
      "userId": "13517391734500420886"
     },
     "user_tz": -480
    },
    "id": "TdScU6RuZ29x",
    "outputId": "7b1f9582-e0f5-4398-db0e-a2051963976c",
    "slideshow": {
     "slide_type": "skip"
    }
   },
   "outputs": [],
   "source": [
    "ind[::2] # Slicing also works"
   ]
  },
  {
   "cell_type": "markdown",
   "metadata": {
    "id": "2ppRJb5bZ29x",
    "slideshow": {
     "slide_type": "skip"
    }
   },
   "source": [
    "`Index` objects possess numerous attributes commonly found in `NumPy` `arrays`:"
   ]
  },
  {
   "cell_type": "code",
   "execution_count": null,
   "metadata": {
    "colab": {
     "base_uri": "https://localhost:8080/"
    },
    "executionInfo": {
     "elapsed": 2,
     "status": "ok",
     "timestamp": 1683535299963,
     "user": {
      "displayName": "phonchi chung",
      "userId": "13517391734500420886"
     },
     "user_tz": -480
    },
    "id": "qP2iCam8Z29x",
    "outputId": "b7932956-b505-4694-f9ff-440d5a9a00be",
    "slideshow": {
     "slide_type": "skip"
    }
   },
   "outputs": [],
   "source": [
    "print(ind.size, ind.shape, ind.ndim, ind.dtype)"
   ]
  },
  {
   "cell_type": "markdown",
   "metadata": {
    "id": "ka-xsSmOZ29x",
    "slideshow": {
     "slide_type": "skip"
    }
   },
   "source": [
    "However, it is immutable, so we cannot modify it via normal means:"
   ]
  },
  {
   "cell_type": "code",
   "execution_count": null,
   "metadata": {
    "colab": {
     "base_uri": "https://localhost:8080/",
     "height": 299
    },
    "executionInfo": {
     "elapsed": 894,
     "status": "error",
     "timestamp": 1683535308936,
     "user": {
      "displayName": "phonchi chung",
      "userId": "13517391734500420886"
     },
     "user_tz": -480
    },
    "id": "cDJga9YjZ29x",
    "outputId": "8c9e52b7-d9b7-43db-fed0-934d120c906c",
    "slideshow": {
     "slide_type": "skip"
    }
   },
   "outputs": [],
   "source": [
    "ind[1] = 0"
   ]
  },
  {
   "cell_type": "markdown",
   "metadata": {
    "id": "BsY-zJO1Z29x",
    "slideshow": {
     "slide_type": "skip"
    }
   },
   "source": [
    "`Pandas` objects are structured to support operations like joins across datasets, which rely on various aspects of set arithmetic. The `Index` object adheres to many conventions employed by `Python`'s built-in `set` data structure, allowing for the computation of unions, intersections, differences, and other combinations in a familiar manner:"
   ]
  },
  {
   "cell_type": "code",
   "execution_count": null,
   "metadata": {
    "id": "gfCACqEgZ29x",
    "slideshow": {
     "slide_type": "skip"
    }
   },
   "outputs": [],
   "source": [
    "indA = pd.Index([1, 3, 5, 7, 9])\n",
    "indB = pd.Index([2, 3, 5, 7, 11])"
   ]
  },
  {
   "cell_type": "code",
   "execution_count": null,
   "metadata": {
    "colab": {
     "base_uri": "https://localhost:8080/"
    },
    "executionInfo": {
     "elapsed": 2,
     "status": "ok",
     "timestamp": 1683535342687,
     "user": {
      "displayName": "phonchi chung",
      "userId": "13517391734500420886"
     },
     "user_tz": -480
    },
    "id": "HIG_ZrxkZ29y",
    "outputId": "28965790-ee98-40a7-f575-b72057769684",
    "slideshow": {
     "slide_type": "skip"
    }
   },
   "outputs": [],
   "source": [
    "indA.intersection(indB)"
   ]
  },
  {
   "cell_type": "code",
   "execution_count": null,
   "metadata": {
    "colab": {
     "base_uri": "https://localhost:8080/"
    },
    "executionInfo": {
     "elapsed": 2,
     "status": "ok",
     "timestamp": 1683535343718,
     "user": {
      "displayName": "phonchi chung",
      "userId": "13517391734500420886"
     },
     "user_tz": -480
    },
    "id": "PvjmGWBUZ29y",
    "outputId": "212788bf-697a-46d0-df2c-e98af072e5be",
    "slideshow": {
     "slide_type": "skip"
    }
   },
   "outputs": [],
   "source": [
    "indA.union(indB)"
   ]
  },
  {
   "cell_type": "markdown",
   "metadata": {
    "id": "ZF-rfqMPZ29y",
    "slideshow": {
     "slide_type": "subslide"
    }
   },
   "source": [
    "### Indexers: `loc` and `iloc`"
   ]
  },
  {
   "cell_type": "markdown",
   "metadata": {
    "id": "lCID9A-RZ29y",
    "slideshow": {
     "slide_type": "subslide"
    }
   },
   "source": [
    "When our `Series` has an explicit integer `index`, an indexing operation like `data[1]` will utilize the explicit indices, while a slicing operation, such as `data[1:3]`, will employ the implicit Python-style indices:"
   ]
  },
  {
   "cell_type": "code",
   "execution_count": 16,
   "metadata": {
    "colab": {
     "base_uri": "https://localhost:8080/"
    },
    "executionInfo": {
     "elapsed": 259,
     "status": "ok",
     "timestamp": 1683535396545,
     "user": {
      "displayName": "phonchi chung",
      "userId": "13517391734500420886"
     },
     "user_tz": -480
    },
    "id": "_Spm4XB8Z29y",
    "outputId": "a98524c6-f5a4-4be8-8674-8f1a615fd5b9",
    "slideshow": {
     "slide_type": "fragment"
    }
   },
   "outputs": [
    {
     "data": {
      "text/plain": [
       "1    a\n",
       "3    b\n",
       "5    c\n",
       "dtype: object"
      ]
     },
     "execution_count": 16,
     "metadata": {},
     "output_type": "execute_result"
    }
   ],
   "source": [
    "data = pd.Series(['a', 'b', 'c'], index=[1, 3, 5])\n",
    "data"
   ]
  },
  {
   "cell_type": "code",
   "execution_count": 17,
   "metadata": {
    "colab": {
     "base_uri": "https://localhost:8080/",
     "height": 36
    },
    "executionInfo": {
     "elapsed": 1200,
     "status": "ok",
     "timestamp": 1683535400296,
     "user": {
      "displayName": "phonchi chung",
      "userId": "13517391734500420886"
     },
     "user_tz": -480
    },
    "id": "VtxS0MaqZ29y",
    "outputId": "0f1523ae-a6f3-47d3-c052-a3110ca185c5",
    "slideshow": {
     "slide_type": "fragment"
    }
   },
   "outputs": [
    {
     "data": {
      "text/plain": [
       "'a'"
      ]
     },
     "execution_count": 17,
     "metadata": {},
     "output_type": "execute_result"
    }
   ],
   "source": [
    "data[1] # explicit index when indexing"
   ]
  },
  {
   "cell_type": "code",
   "execution_count": 18,
   "metadata": {
    "colab": {
     "base_uri": "https://localhost:8080/"
    },
    "executionInfo": {
     "elapsed": 1,
     "status": "ok",
     "timestamp": 1683535400608,
     "user": {
      "displayName": "phonchi chung",
      "userId": "13517391734500420886"
     },
     "user_tz": -480
    },
    "id": "3_HVyUcDZ29y",
    "outputId": "e57f8e01-8f35-4ba9-d537-de08a544028c",
    "slideshow": {
     "slide_type": "fragment"
    }
   },
   "outputs": [
    {
     "data": {
      "text/plain": [
       "3    b\n",
       "5    c\n",
       "dtype: object"
      ]
     },
     "execution_count": 18,
     "metadata": {},
     "output_type": "execute_result"
    }
   ],
   "source": [
    "data[1:3] # implicit index when slicing"
   ]
  },
  {
   "cell_type": "markdown",
   "metadata": {
    "id": "Rdg6pqX2Z29y",
    "slideshow": {
     "slide_type": "subslide"
    }
   },
   "source": [
    "Due to the possible ambiguity with integer indexes, `Pandas` offers special indexer attributes that clearly present specific indexing schemes. **These attributes are not functional methods, but rather provide a distinct slicing interface to the data within the `Series`**."
   ]
  },
  {
   "cell_type": "markdown",
   "metadata": {
    "id": "-_gOkIVkZ29z",
    "slideshow": {
     "slide_type": "subslide"
    }
   },
   "source": [
    "First, the `loc` attribute allows indexing and slicing that always references the explicit index:"
   ]
  },
  {
   "cell_type": "code",
   "execution_count": 19,
   "metadata": {
    "colab": {
     "base_uri": "https://localhost:8080/",
     "height": 36
    },
    "executionInfo": {
     "elapsed": 320,
     "status": "ok",
     "timestamp": 1683535461885,
     "user": {
      "displayName": "phonchi chung",
      "userId": "13517391734500420886"
     },
     "user_tz": -480
    },
    "id": "gEoKg4pjZ29z",
    "outputId": "4eb7e6ea-65e5-466f-ce08-1f3444029925",
    "slideshow": {
     "slide_type": "fragment"
    }
   },
   "outputs": [
    {
     "data": {
      "text/plain": [
       "'a'"
      ]
     },
     "execution_count": 19,
     "metadata": {},
     "output_type": "execute_result"
    }
   ],
   "source": [
    "data.loc[1]"
   ]
  },
  {
   "cell_type": "code",
   "execution_count": 20,
   "metadata": {
    "colab": {
     "base_uri": "https://localhost:8080/"
    },
    "executionInfo": {
     "elapsed": 2,
     "status": "ok",
     "timestamp": 1683535462164,
     "user": {
      "displayName": "phonchi chung",
      "userId": "13517391734500420886"
     },
     "user_tz": -480
    },
    "id": "cf8Qc2yUZ29z",
    "outputId": "cd26d563-933e-46af-9804-b43abdcb6c3a",
    "slideshow": {
     "slide_type": "fragment"
    }
   },
   "outputs": [
    {
     "data": {
      "text/plain": [
       "1    a\n",
       "3    b\n",
       "dtype: object"
      ]
     },
     "execution_count": 20,
     "metadata": {},
     "output_type": "execute_result"
    }
   ],
   "source": [
    "data.loc[1:3] # Note that contrary to usual python slices, both the start and the stop are included"
   ]
  },
  {
   "cell_type": "markdown",
   "metadata": {
    "id": "IkyOWD1fZ29z",
    "slideshow": {
     "slide_type": "subslide"
    }
   },
   "source": [
    "The `iloc` attribute allows indexing and slicing that always references the implicit Python-style index:"
   ]
  },
  {
   "cell_type": "code",
   "execution_count": 21,
   "metadata": {
    "colab": {
     "base_uri": "https://localhost:8080/",
     "height": 36
    },
    "executionInfo": {
     "elapsed": 294,
     "status": "ok",
     "timestamp": 1683535471463,
     "user": {
      "displayName": "phonchi chung",
      "userId": "13517391734500420886"
     },
     "user_tz": -480
    },
    "id": "D6jR0LBmZ29z",
    "outputId": "9a91f543-ac1b-4389-c6e0-ce57ae3c7c5b",
    "slideshow": {
     "slide_type": "fragment"
    }
   },
   "outputs": [
    {
     "data": {
      "text/plain": [
       "'b'"
      ]
     },
     "execution_count": 21,
     "metadata": {},
     "output_type": "execute_result"
    }
   ],
   "source": [
    "data.iloc[1]"
   ]
  },
  {
   "cell_type": "code",
   "execution_count": 22,
   "metadata": {
    "colab": {
     "base_uri": "https://localhost:8080/"
    },
    "executionInfo": {
     "elapsed": 3,
     "status": "ok",
     "timestamp": 1683535471733,
     "user": {
      "displayName": "phonchi chung",
      "userId": "13517391734500420886"
     },
     "user_tz": -480
    },
    "id": "4CZI5K80Z29z",
    "outputId": "c4cf3b9e-ff78-4384-efc0-791962b0c18a",
    "slideshow": {
     "slide_type": "fragment"
    }
   },
   "outputs": [
    {
     "data": {
      "text/plain": [
       "3    b\n",
       "5    c\n",
       "dtype: object"
      ]
     },
     "execution_count": 22,
     "metadata": {},
     "output_type": "execute_result"
    }
   ],
   "source": [
    "data.iloc[1:3]"
   ]
  },
  {
   "cell_type": "markdown",
   "metadata": {
    "id": "43dIQY2cZ290",
    "slideshow": {
     "slide_type": "subslide"
    }
   },
   "source": [
    "A key principle of `Python` code states that \"explicit is better than implicit.\" The clear-cut nature of `loc` and `iloc` contributes to maintaining clean and comprehensible code. Particularly when dealing with integer indexes, consistently using these attributes can help avoid subtle bugs arising from the mixed indexing/slicing convention!"
   ]
  },
  {
   "cell_type": "markdown",
   "metadata": {
    "slideshow": {
     "slide_type": "subslide"
    }
   },
   "source": [
    "## Example 1: Manipulating a `Series` with Population Data\n",
    "\n",
    "```python\n",
    "population_dict = {'New Taipei City': 4_013_659, 'Taichung City': 2_826_230, 'Kaohsiung City': 2_733_964, 'Taipei City': 2_465_610, 'Taoyuan City': 2_293_509, 'Tainan City': 1_859_229}\n",
    "```\n",
    "\n",
    "Begin by converting the dictionary into a `pandas` `series`. Then, extract the population numbers for New Taipei City and Kaohsiung City using both `iloc` and `loc` attributes."
   ]
  },
  {
   "cell_type": "code",
   "execution_count": null,
   "metadata": {
    "slideshow": {
     "slide_type": "subslide"
    }
   },
   "outputs": [],
   "source": [
    "population_dict = {'New Taipei City': 4_013_659, 'Taichung City': 2_826_230, 'Kaohsiung City': 2_733_964, \n",
    "                   'Taipei City': 2_465_610, 'Taoyuan City': 2_293_509, 'Tainan City': 1_859_229}\n",
    "# Your code here"
   ]
  },
  {
   "cell_type": "markdown",
   "metadata": {
    "id": "J4fWdUjhZ290",
    "slideshow": {
     "slide_type": "slide"
    }
   },
   "source": [
    "## The `Pandas` `DataFrame` Object"
   ]
  },
  {
   "cell_type": "markdown",
   "metadata": {
    "id": "-2yObKfiZ290",
    "slideshow": {
     "slide_type": "subslide"
    }
   },
   "source": [
    "Unlike a `NumPy` array, a `Dataframe` can combine multiple data types, such as numbers and text, but the data in each column is of the same type."
   ]
  },
  {
   "cell_type": "markdown",
   "metadata": {
    "id": "xGwL3PvRZ290",
    "slideshow": {
     "slide_type": "subslide"
    }
   },
   "source": [
    "### Constructor"
   ]
  },
  {
   "cell_type": "markdown",
   "metadata": {
    "id": "hjsoUnb1Z290",
    "slideshow": {
     "slide_type": "subslide"
    }
   },
   "source": [
    "#### From a `dictionary` of `Series` objects to `Dataframe`"
   ]
  },
  {
   "cell_type": "markdown",
   "metadata": {
    "id": "tYkxles2Z290",
    "slideshow": {
     "slide_type": "subslide"
    }
   },
   "source": [
    "A `Series` can be seen as an equivalent of a one-dimensional array with explicit indices, while a `DataFrame` serves as an analog of a two-dimensional `array` with explicit row and column indices. Just as a two-dimensional array can be considered an ordered sequence of aligned one-dimensional columns, a `DataFrame` can be thought of as a sequence of aligned `Series` objects. By \"aligned,\" we mean that they have the same index."
   ]
  },
  {
   "cell_type": "markdown",
   "metadata": {
    "slideshow": {
     "slide_type": "subslide"
    }
   },
   "source": [
    "For example, we can merge two `series` together:"
   ]
  },
  {
   "cell_type": "code",
   "execution_count": 23,
   "metadata": {
    "colab": {
     "base_uri": "https://localhost:8080/",
     "height": 206
    },
    "executionInfo": {
     "elapsed": 3,
     "status": "ok",
     "timestamp": 1683535741249,
     "user": {
      "displayName": "phonchi chung",
      "userId": "13517391734500420886"
     },
     "user_tz": -480
    },
    "id": "UIQiQgzhZ291",
    "outputId": "a0f7fad3-a08d-46d8-ab07-05fdc32e380f",
    "slideshow": {
     "slide_type": "fragment"
    }
   },
   "outputs": [
    {
     "data": {
      "text/html": [
       "<div>\n",
       "<style scoped>\n",
       "    .dataframe tbody tr th:only-of-type {\n",
       "        vertical-align: middle;\n",
       "    }\n",
       "\n",
       "    .dataframe tbody tr th {\n",
       "        vertical-align: top;\n",
       "    }\n",
       "\n",
       "    .dataframe thead th {\n",
       "        text-align: right;\n",
       "    }\n",
       "</style>\n",
       "<table border=\"1\" class=\"dataframe\">\n",
       "  <thead>\n",
       "    <tr style=\"text-align: right;\">\n",
       "      <th></th>\n",
       "      <th>population</th>\n",
       "      <th>area</th>\n",
       "    </tr>\n",
       "  </thead>\n",
       "  <tbody>\n",
       "    <tr>\n",
       "      <th>New Taipei City</th>\n",
       "      <td>4013659</td>\n",
       "      <td>2052.5667</td>\n",
       "    </tr>\n",
       "    <tr>\n",
       "      <th>Taichung City</th>\n",
       "      <td>2826230</td>\n",
       "      <td>2214.8968</td>\n",
       "    </tr>\n",
       "    <tr>\n",
       "      <th>Kaohsiung City</th>\n",
       "      <td>2733964</td>\n",
       "      <td>2951.8524</td>\n",
       "    </tr>\n",
       "    <tr>\n",
       "      <th>Taipei City</th>\n",
       "      <td>2465610</td>\n",
       "      <td>271.7997</td>\n",
       "    </tr>\n",
       "    <tr>\n",
       "      <th>Taoyuan City</th>\n",
       "      <td>2293509</td>\n",
       "      <td>1220.9540</td>\n",
       "    </tr>\n",
       "    <tr>\n",
       "      <th>Tainan City</th>\n",
       "      <td>1859229</td>\n",
       "      <td>2191.6531</td>\n",
       "    </tr>\n",
       "  </tbody>\n",
       "</table>\n",
       "</div>"
      ],
      "text/plain": [
       "                 population       area\n",
       "New Taipei City     4013659  2052.5667\n",
       "Taichung City       2826230  2214.8968\n",
       "Kaohsiung City      2733964  2951.8524\n",
       "Taipei City         2465610   271.7997\n",
       "Taoyuan City        2293509  1220.9540\n",
       "Tainan City         1859229  2191.6531"
      ]
     },
     "execution_count": 23,
     "metadata": {},
     "output_type": "execute_result"
    }
   ],
   "source": [
    "population_dict = {'New Taipei City': 4_013_659, 'Taichung City': 2_826_230, 'Kaohsiung City': 2_733_964, 'Taipei City': 2_465_610, \n",
    "                   'Taoyuan City': 2_293_509, 'Tainan City': 1_859_229}\n",
    "population = pd.Series(population_dict)\n",
    "\n",
    "area_dict = {'New Taipei City': 2_052.5667, 'Taichung City': 2_214.8968, 'Kaohsiung City': 2_951.8524, 'Taipei City': 271.7997, \n",
    "             'Taoyuan City': 1_220.9540, 'Tainan City': 2_191.6531}\n",
    "area = pd.Series(area_dict)\n",
    "\n",
    "# Construct a single two-dimensional object containing this information using dictionary\n",
    "cities = pd.DataFrame({'population': population,'area': area})\n",
    "cities"
   ]
  },
  {
   "cell_type": "markdown",
   "metadata": {
    "id": "rv0NrNj2Z291",
    "slideshow": {
     "slide_type": "subslide"
    }
   },
   "source": [
    "Similar to the `Series` object, the `DataFrame` possesses an `index` attribute, which provides access to the index labels:"
   ]
  },
  {
   "cell_type": "code",
   "execution_count": 24,
   "metadata": {
    "colab": {
     "base_uri": "https://localhost:8080/"
    },
    "executionInfo": {
     "elapsed": 2,
     "status": "ok",
     "timestamp": 1683535746354,
     "user": {
      "displayName": "phonchi chung",
      "userId": "13517391734500420886"
     },
     "user_tz": -480
    },
    "id": "QzZmBxc5Z291",
    "outputId": "2a7b12c9-27e1-4838-fa58-08cdd68f242b",
    "slideshow": {
     "slide_type": "fragment"
    }
   },
   "outputs": [
    {
     "data": {
      "text/plain": [
       "Index(['New Taipei City', 'Taichung City', 'Kaohsiung City', 'Taipei City',\n",
       "       'Taoyuan City', 'Tainan City'],\n",
       "      dtype='object')"
      ]
     },
     "execution_count": 24,
     "metadata": {},
     "output_type": "execute_result"
    }
   ],
   "source": [
    "cities.index"
   ]
  },
  {
   "cell_type": "markdown",
   "metadata": {
    "id": "O6jOkmJCZ291",
    "slideshow": {
     "slide_type": "fragment"
    }
   },
   "source": [
    "Moreover, the `DataFrame` features a `columns` attribute, which is an `Index` object containing the column labels:"
   ]
  },
  {
   "cell_type": "code",
   "execution_count": 25,
   "metadata": {
    "colab": {
     "base_uri": "https://localhost:8080/"
    },
    "executionInfo": {
     "elapsed": 3,
     "status": "ok",
     "timestamp": 1683535766354,
     "user": {
      "displayName": "phonchi chung",
      "userId": "13517391734500420886"
     },
     "user_tz": -480
    },
    "id": "kJWmaLpRZ292",
    "outputId": "97fdd427-c90d-49d2-89ae-96019611f1d0",
    "slideshow": {
     "slide_type": "fragment"
    }
   },
   "outputs": [
    {
     "data": {
      "text/plain": [
       "(Index(['population', 'area'], dtype='object'), True)"
      ]
     },
     "execution_count": 25,
     "metadata": {},
     "output_type": "execute_result"
    }
   ],
   "source": [
    "cities.columns, issubclass(type(cities.columns), pd.Index)"
   ]
  },
  {
   "cell_type": "markdown",
   "metadata": {
    "id": "0uvjAXIwZ292",
    "slideshow": {
     "slide_type": "subslide"
    }
   },
   "source": [
    "As such, the `DataFrame` can be regarded as an extension of a two-dimensional `NumPy` `array`, in which both rows and columns possess a generalized index for data access. In the same vein, a `DataFrame` can be viewed as a specialized form of a `dictionary`. While a `dictionary` associates a key with a value, a `DataFrame` connects a column name to a `Series` containing column data. For instance, requesting the `'area'` attribute yields the `Series` object:"
   ]
  },
  {
   "cell_type": "code",
   "execution_count": 26,
   "metadata": {
    "colab": {
     "base_uri": "https://localhost:8080/"
    },
    "executionInfo": {
     "elapsed": 269,
     "status": "ok",
     "timestamp": 1683535780771,
     "user": {
      "displayName": "phonchi chung",
      "userId": "13517391734500420886"
     },
     "user_tz": -480
    },
    "id": "BSbkDm_wZ292",
    "outputId": "dd35d571-4023-4e60-87c8-d6b3fa9f53bd",
    "slideshow": {
     "slide_type": "fragment"
    }
   },
   "outputs": [
    {
     "data": {
      "text/plain": [
       "New Taipei City    2052.5667\n",
       "Taichung City      2214.8968\n",
       "Kaohsiung City     2951.8524\n",
       "Taipei City         271.7997\n",
       "Taoyuan City       1220.9540\n",
       "Tainan City        2191.6531\n",
       "Name: area, dtype: float64"
      ]
     },
     "execution_count": 26,
     "metadata": {},
     "output_type": "execute_result"
    }
   ],
   "source": [
    "cities['area']"
   ]
  },
  {
   "cell_type": "markdown",
   "metadata": {
    "id": "-4dVlmA_Z292",
    "slideshow": {
     "slide_type": "subslide"
    }
   },
   "source": [
    "#### Constructing from a list of dicts"
   ]
  },
  {
   "cell_type": "markdown",
   "metadata": {
    "id": "Z3l_dzRHZ292",
    "slideshow": {
     "slide_type": "subslide"
    }
   },
   "source": [
    "A `DataFrame` can be created from any list of `dictionaries`. Let's use a basic list comprehension to generate some data:"
   ]
  },
  {
   "cell_type": "code",
   "execution_count": 27,
   "metadata": {
    "colab": {
     "base_uri": "https://localhost:8080/",
     "height": 143
    },
    "executionInfo": {
     "elapsed": 267,
     "status": "ok",
     "timestamp": 1683535828555,
     "user": {
      "displayName": "phonchi chung",
      "userId": "13517391734500420886"
     },
     "user_tz": -480
    },
    "id": "HlRcTqnnZ292",
    "outputId": "20cace68-5657-4968-c025-ef9fa2fd252c",
    "slideshow": {
     "slide_type": "fragment"
    }
   },
   "outputs": [
    {
     "data": {
      "text/html": [
       "<div>\n",
       "<style scoped>\n",
       "    .dataframe tbody tr th:only-of-type {\n",
       "        vertical-align: middle;\n",
       "    }\n",
       "\n",
       "    .dataframe tbody tr th {\n",
       "        vertical-align: top;\n",
       "    }\n",
       "\n",
       "    .dataframe thead th {\n",
       "        text-align: right;\n",
       "    }\n",
       "</style>\n",
       "<table border=\"1\" class=\"dataframe\">\n",
       "  <thead>\n",
       "    <tr style=\"text-align: right;\">\n",
       "      <th></th>\n",
       "      <th>a</th>\n",
       "      <th>b</th>\n",
       "    </tr>\n",
       "  </thead>\n",
       "  <tbody>\n",
       "    <tr>\n",
       "      <th>0</th>\n",
       "      <td>0</td>\n",
       "      <td>0</td>\n",
       "    </tr>\n",
       "    <tr>\n",
       "      <th>1</th>\n",
       "      <td>1</td>\n",
       "      <td>2</td>\n",
       "    </tr>\n",
       "    <tr>\n",
       "      <th>2</th>\n",
       "      <td>2</td>\n",
       "      <td>4</td>\n",
       "    </tr>\n",
       "  </tbody>\n",
       "</table>\n",
       "</div>"
      ],
      "text/plain": [
       "   a  b\n",
       "0  0  0\n",
       "1  1  2\n",
       "2  2  4"
      ]
     },
     "execution_count": 27,
     "metadata": {},
     "output_type": "execute_result"
    }
   ],
   "source": [
    "data = [{'a': i, 'b': 2 * i} for i in range(3)]\n",
    "pd.DataFrame(data)"
   ]
  },
  {
   "cell_type": "markdown",
   "metadata": {
    "id": "FgR5ctb6Z292",
    "slideshow": {
     "slide_type": "subslide"
    }
   },
   "source": [
    "Observe that if some keys in the `dictionary` are absent, `Pandas` will complete them with `NaN` (meaning \"not a number\") values:"
   ]
  },
  {
   "cell_type": "code",
   "execution_count": 28,
   "metadata": {
    "colab": {
     "base_uri": "https://localhost:8080/",
     "height": 112
    },
    "executionInfo": {
     "elapsed": 269,
     "status": "ok",
     "timestamp": 1683535845133,
     "user": {
      "displayName": "phonchi chung",
      "userId": "13517391734500420886"
     },
     "user_tz": -480
    },
    "id": "DBakGahkZ292",
    "outputId": "2ef911d3-f342-4c5c-c579-5291e8c2b485",
    "slideshow": {
     "slide_type": "fragment"
    }
   },
   "outputs": [
    {
     "data": {
      "text/html": [
       "<div>\n",
       "<style scoped>\n",
       "    .dataframe tbody tr th:only-of-type {\n",
       "        vertical-align: middle;\n",
       "    }\n",
       "\n",
       "    .dataframe tbody tr th {\n",
       "        vertical-align: top;\n",
       "    }\n",
       "\n",
       "    .dataframe thead th {\n",
       "        text-align: right;\n",
       "    }\n",
       "</style>\n",
       "<table border=\"1\" class=\"dataframe\">\n",
       "  <thead>\n",
       "    <tr style=\"text-align: right;\">\n",
       "      <th></th>\n",
       "      <th>a</th>\n",
       "      <th>b</th>\n",
       "      <th>c</th>\n",
       "    </tr>\n",
       "  </thead>\n",
       "  <tbody>\n",
       "    <tr>\n",
       "      <th>0</th>\n",
       "      <td>1.0</td>\n",
       "      <td>2</td>\n",
       "      <td>NaN</td>\n",
       "    </tr>\n",
       "    <tr>\n",
       "      <th>1</th>\n",
       "      <td>NaN</td>\n",
       "      <td>3</td>\n",
       "      <td>4.0</td>\n",
       "    </tr>\n",
       "  </tbody>\n",
       "</table>\n",
       "</div>"
      ],
      "text/plain": [
       "     a  b    c\n",
       "0  1.0  2  NaN\n",
       "1  NaN  3  4.0"
      ]
     },
     "execution_count": 28,
     "metadata": {},
     "output_type": "execute_result"
    }
   ],
   "source": [
    "pd.DataFrame([{'a': 1, 'b': 2}, {'b': 3, 'c': 4}])"
   ]
  },
  {
   "cell_type": "markdown",
   "metadata": {
    "id": "Ixv2yC0gZ293",
    "slideshow": {
     "slide_type": "subslide"
    }
   },
   "source": [
    "#### Constructing from a two-dimensional `NumPy` array"
   ]
  },
  {
   "cell_type": "markdown",
   "metadata": {
    "id": "jLZbASUAZ293",
    "slideshow": {
     "slide_type": "subslide"
    }
   },
   "source": [
    "With a two-dimensional `array` of data, we can generate a `DataFrame` that includes specified column and index names. If these are not provided, an integer index will be applied for each:"
   ]
  },
  {
   "cell_type": "code",
   "execution_count": 29,
   "metadata": {
    "colab": {
     "base_uri": "https://localhost:8080/",
     "height": 143
    },
    "executionInfo": {
     "elapsed": 272,
     "status": "ok",
     "timestamp": 1683535867061,
     "user": {
      "displayName": "phonchi chung",
      "userId": "13517391734500420886"
     },
     "user_tz": -480
    },
    "id": "Fxu290rdZ293",
    "outputId": "aa69f4d7-491a-4e8d-84e7-23127126248b",
    "slideshow": {
     "slide_type": "fragment"
    }
   },
   "outputs": [
    {
     "data": {
      "text/html": [
       "<div>\n",
       "<style scoped>\n",
       "    .dataframe tbody tr th:only-of-type {\n",
       "        vertical-align: middle;\n",
       "    }\n",
       "\n",
       "    .dataframe tbody tr th {\n",
       "        vertical-align: top;\n",
       "    }\n",
       "\n",
       "    .dataframe thead th {\n",
       "        text-align: right;\n",
       "    }\n",
       "</style>\n",
       "<table border=\"1\" class=\"dataframe\">\n",
       "  <thead>\n",
       "    <tr style=\"text-align: right;\">\n",
       "      <th></th>\n",
       "      <th>foo</th>\n",
       "      <th>bar</th>\n",
       "    </tr>\n",
       "  </thead>\n",
       "  <tbody>\n",
       "    <tr>\n",
       "      <th>a</th>\n",
       "      <td>0.532861</td>\n",
       "      <td>0.283637</td>\n",
       "    </tr>\n",
       "    <tr>\n",
       "      <th>b</th>\n",
       "      <td>0.608925</td>\n",
       "      <td>0.066374</td>\n",
       "    </tr>\n",
       "    <tr>\n",
       "      <th>c</th>\n",
       "      <td>0.130736</td>\n",
       "      <td>0.909284</td>\n",
       "    </tr>\n",
       "  </tbody>\n",
       "</table>\n",
       "</div>"
      ],
      "text/plain": [
       "        foo       bar\n",
       "a  0.532861  0.283637\n",
       "b  0.608925  0.066374\n",
       "c  0.130736  0.909284"
      ]
     },
     "execution_count": 29,
     "metadata": {},
     "output_type": "execute_result"
    }
   ],
   "source": [
    "pd.DataFrame(np.random.rand(3, 2),\n",
    "             columns=['foo', 'bar'],\n",
    "             index=['a', 'b', 'c'])"
   ]
  },
  {
   "cell_type": "markdown",
   "metadata": {
    "id": "b8VEigrxZ293",
    "slideshow": {
     "slide_type": "slide"
    }
   },
   "source": [
    "## Data selection in `DataFrame`"
   ]
  },
  {
   "cell_type": "markdown",
   "metadata": {
    "id": "mZE8w-XVZ293",
    "slideshow": {
     "slide_type": "subslide"
    }
   },
   "source": [
    "Remember that a `DataFrame` functions in several ways like a two-dimensional `array`, and in other ways, it resembles a `dictionary` of `Series` structures with a shared index. Keeping these similarities in mind can be beneficial as we delve into data selection within this structure."
   ]
  },
  {
   "cell_type": "markdown",
   "metadata": {
    "id": "OZ-ocpqkZ293",
    "slideshow": {
     "slide_type": "subslide"
    }
   },
   "source": [
    "### `DataFrame` as `Dictionary`"
   ]
  },
  {
   "cell_type": "markdown",
   "metadata": {
    "id": "vfS9oZxJZ293",
    "slideshow": {
     "slide_type": "subslide"
    }
   },
   "source": [
    "Our first comparison is the `DataFrame` viewed as a `dictionary` of connected `Series` objects. Let's revisit our example of city areas and populations:"
   ]
  },
  {
   "cell_type": "code",
   "execution_count": 30,
   "metadata": {
    "colab": {
     "base_uri": "https://localhost:8080/",
     "height": 206
    },
    "executionInfo": {
     "elapsed": 4,
     "status": "ok",
     "timestamp": 1683535953549,
     "user": {
      "displayName": "phonchi chung",
      "userId": "13517391734500420886"
     },
     "user_tz": -480
    },
    "id": "_q0q_2ZaZ294",
    "outputId": "2279d8e4-4097-41fe-9600-92f4429819bc",
    "slideshow": {
     "slide_type": "fragment"
    }
   },
   "outputs": [
    {
     "data": {
      "text/html": [
       "<div>\n",
       "<style scoped>\n",
       "    .dataframe tbody tr th:only-of-type {\n",
       "        vertical-align: middle;\n",
       "    }\n",
       "\n",
       "    .dataframe tbody tr th {\n",
       "        vertical-align: top;\n",
       "    }\n",
       "\n",
       "    .dataframe thead th {\n",
       "        text-align: right;\n",
       "    }\n",
       "</style>\n",
       "<table border=\"1\" class=\"dataframe\">\n",
       "  <thead>\n",
       "    <tr style=\"text-align: right;\">\n",
       "      <th></th>\n",
       "      <th>population</th>\n",
       "      <th>area</th>\n",
       "    </tr>\n",
       "  </thead>\n",
       "  <tbody>\n",
       "    <tr>\n",
       "      <th>New Taipei City</th>\n",
       "      <td>4013659</td>\n",
       "      <td>2052.5667</td>\n",
       "    </tr>\n",
       "    <tr>\n",
       "      <th>Taichung City</th>\n",
       "      <td>2826230</td>\n",
       "      <td>2214.8968</td>\n",
       "    </tr>\n",
       "    <tr>\n",
       "      <th>Kaohsiung City</th>\n",
       "      <td>2733964</td>\n",
       "      <td>2951.8524</td>\n",
       "    </tr>\n",
       "    <tr>\n",
       "      <th>Taipei City</th>\n",
       "      <td>2465610</td>\n",
       "      <td>271.7997</td>\n",
       "    </tr>\n",
       "    <tr>\n",
       "      <th>Taoyuan City</th>\n",
       "      <td>2293509</td>\n",
       "      <td>1220.9540</td>\n",
       "    </tr>\n",
       "    <tr>\n",
       "      <th>Tainan City</th>\n",
       "      <td>1859229</td>\n",
       "      <td>2191.6531</td>\n",
       "    </tr>\n",
       "  </tbody>\n",
       "</table>\n",
       "</div>"
      ],
      "text/plain": [
       "                 population       area\n",
       "New Taipei City     4013659  2052.5667\n",
       "Taichung City       2826230  2214.8968\n",
       "Kaohsiung City      2733964  2951.8524\n",
       "Taipei City         2465610   271.7997\n",
       "Taoyuan City        2293509  1220.9540\n",
       "Tainan City         1859229  2191.6531"
      ]
     },
     "execution_count": 30,
     "metadata": {},
     "output_type": "execute_result"
    }
   ],
   "source": [
    "population_dict = {'New Taipei City': 4_013_659, 'Taichung City': 2_826_230, 'Kaohsiung City': 2_733_964, 'Taipei City': 2_465_610, \n",
    "                   'Taoyuan City': 2_293_509, 'Tainan City': 1_859_229}\n",
    "population = pd.Series(population_dict)\n",
    "\n",
    "area_dict = {'New Taipei City': 2_052.5667, 'Taichung City': 2_214.8968, 'Kaohsiung City': 2_951.8524, 'Taipei City': 271.7997, \n",
    "             'Taoyuan City': 1_220.9540, 'Tainan City': 2_191.6531}\n",
    "area = pd.Series(area_dict)\n",
    "\n",
    "# Construct a single two-dimensional object containing this information using dictionary\n",
    "cities = pd.DataFrame({'population': population,'area': area})\n",
    "cities"
   ]
  },
  {
   "cell_type": "markdown",
   "metadata": {
    "id": "vvc6mMskZ294",
    "slideshow": {
     "slide_type": "subslide"
    }
   },
   "source": [
    "The individual `Series` comprising the columns of the `DataFrame` can be obtained by dictionary-style indexing of the column name:"
   ]
  },
  {
   "cell_type": "code",
   "execution_count": 31,
   "metadata": {
    "colab": {
     "base_uri": "https://localhost:8080/"
    },
    "executionInfo": {
     "elapsed": 2,
     "status": "ok",
     "timestamp": 1683535994293,
     "user": {
      "displayName": "phonchi chung",
      "userId": "13517391734500420886"
     },
     "user_tz": -480
    },
    "id": "Wk57lDWaZ294",
    "outputId": "39aacf2d-2d77-48b5-c0bb-d6b2eb824328",
    "slideshow": {
     "slide_type": "fragment"
    }
   },
   "outputs": [
    {
     "data": {
      "text/plain": [
       "New Taipei City    2052.5667\n",
       "Taichung City      2214.8968\n",
       "Kaohsiung City     2951.8524\n",
       "Taipei City         271.7997\n",
       "Taoyuan City       1220.9540\n",
       "Tainan City        2191.6531\n",
       "Name: area, dtype: float64"
      ]
     },
     "execution_count": 31,
     "metadata": {},
     "output_type": "execute_result"
    }
   ],
   "source": [
    "cities['area'] # cities.area also works"
   ]
  },
  {
   "cell_type": "markdown",
   "metadata": {
    "id": "PPFmuWKfZ294",
    "slideshow": {
     "slide_type": "subslide"
    }
   },
   "source": [
    "This dictionary-style syntax can also be utilized to modify the object; in this scenario, it adds a new column:"
   ]
  },
  {
   "cell_type": "code",
   "execution_count": 32,
   "metadata": {
    "colab": {
     "base_uri": "https://localhost:8080/",
     "height": 206
    },
    "executionInfo": {
     "elapsed": 531,
     "status": "ok",
     "timestamp": 1683536024662,
     "user": {
      "displayName": "phonchi chung",
      "userId": "13517391734500420886"
     },
     "user_tz": -480
    },
    "id": "SMZgLVjvZ294",
    "outputId": "406b8e6b-34bf-4e04-8e65-c20b220c7488",
    "slideshow": {
     "slide_type": "fragment"
    }
   },
   "outputs": [
    {
     "data": {
      "text/html": [
       "<div>\n",
       "<style scoped>\n",
       "    .dataframe tbody tr th:only-of-type {\n",
       "        vertical-align: middle;\n",
       "    }\n",
       "\n",
       "    .dataframe tbody tr th {\n",
       "        vertical-align: top;\n",
       "    }\n",
       "\n",
       "    .dataframe thead th {\n",
       "        text-align: right;\n",
       "    }\n",
       "</style>\n",
       "<table border=\"1\" class=\"dataframe\">\n",
       "  <thead>\n",
       "    <tr style=\"text-align: right;\">\n",
       "      <th></th>\n",
       "      <th>population</th>\n",
       "      <th>area</th>\n",
       "      <th>density</th>\n",
       "    </tr>\n",
       "  </thead>\n",
       "  <tbody>\n",
       "    <tr>\n",
       "      <th>New Taipei City</th>\n",
       "      <td>4013659</td>\n",
       "      <td>2052.5667</td>\n",
       "      <td>1955.434140</td>\n",
       "    </tr>\n",
       "    <tr>\n",
       "      <th>Taichung City</th>\n",
       "      <td>2826230</td>\n",
       "      <td>2214.8968</td>\n",
       "      <td>1276.009790</td>\n",
       "    </tr>\n",
       "    <tr>\n",
       "      <th>Kaohsiung City</th>\n",
       "      <td>2733964</td>\n",
       "      <td>2951.8524</td>\n",
       "      <td>926.185876</td>\n",
       "    </tr>\n",
       "    <tr>\n",
       "      <th>Taipei City</th>\n",
       "      <td>2465610</td>\n",
       "      <td>271.7997</td>\n",
       "      <td>9071.422816</td>\n",
       "    </tr>\n",
       "    <tr>\n",
       "      <th>Taoyuan City</th>\n",
       "      <td>2293509</td>\n",
       "      <td>1220.9540</td>\n",
       "      <td>1878.456518</td>\n",
       "    </tr>\n",
       "    <tr>\n",
       "      <th>Tainan City</th>\n",
       "      <td>1859229</td>\n",
       "      <td>2191.6531</td>\n",
       "      <td>848.322666</td>\n",
       "    </tr>\n",
       "  </tbody>\n",
       "</table>\n",
       "</div>"
      ],
      "text/plain": [
       "                 population       area      density\n",
       "New Taipei City     4013659  2052.5667  1955.434140\n",
       "Taichung City       2826230  2214.8968  1276.009790\n",
       "Kaohsiung City      2733964  2951.8524   926.185876\n",
       "Taipei City         2465610   271.7997  9071.422816\n",
       "Taoyuan City        2293509  1220.9540  1878.456518\n",
       "Tainan City         1859229  2191.6531   848.322666"
      ]
     },
     "execution_count": 32,
     "metadata": {},
     "output_type": "execute_result"
    }
   ],
   "source": [
    "cities['density'] = cities['population'] / cities['area']\n",
    "cities"
   ]
  },
  {
   "cell_type": "markdown",
   "metadata": {
    "id": "e9wfBzNnZ294",
    "slideshow": {
     "slide_type": "subslide"
    }
   },
   "source": [
    "### `DataFrame` as two-dimensional `array`"
   ]
  },
  {
   "cell_type": "markdown",
   "metadata": {
    "id": "u_9KAU-CZ294",
    "slideshow": {
     "slide_type": "subslide"
    }
   },
   "source": [
    "As we mentioned earlier, we can also see the `DataFrame` as an augmented two-dimensional `array`. We can analyze the raw, underlying data array using the `values` attribute:"
   ]
  },
  {
   "cell_type": "code",
   "execution_count": 33,
   "metadata": {
    "colab": {
     "base_uri": "https://localhost:8080/"
    },
    "executionInfo": {
     "elapsed": 583,
     "status": "ok",
     "timestamp": 1683536090216,
     "user": {
      "displayName": "phonchi chung",
      "userId": "13517391734500420886"
     },
     "user_tz": -480
    },
    "id": "nhOxGwvEZ295",
    "outputId": "c18ec84e-4942-4a0b-a558-026087d21dcc",
    "slideshow": {
     "slide_type": "fragment"
    }
   },
   "outputs": [
    {
     "data": {
      "text/plain": [
       "array([[4.01365900e+06, 2.05256670e+03, 1.95543414e+03],\n",
       "       [2.82623000e+06, 2.21489680e+03, 1.27600979e+03],\n",
       "       [2.73396400e+06, 2.95185240e+03, 9.26185876e+02],\n",
       "       [2.46561000e+06, 2.71799700e+02, 9.07142282e+03],\n",
       "       [2.29350900e+06, 1.22095400e+03, 1.87845652e+03],\n",
       "       [1.85922900e+06, 2.19165310e+03, 8.48322666e+02]])"
      ]
     },
     "execution_count": 33,
     "metadata": {},
     "output_type": "execute_result"
    }
   ],
   "source": [
    "cities.values # or cities.to_numpy()"
   ]
  },
  {
   "cell_type": "markdown",
   "metadata": {
    "id": "rZfvN33YZ295",
    "slideshow": {
     "slide_type": "subslide"
    }
   },
   "source": [
    "Keep in mind that while the square bracket operator can be utilized to access columns, it is not used for row selection:"
   ]
  },
  {
   "cell_type": "code",
   "execution_count": 34,
   "metadata": {
    "colab": {
     "base_uri": "https://localhost:8080/"
    },
    "executionInfo": {
     "elapsed": 280,
     "status": "ok",
     "timestamp": 1683536154309,
     "user": {
      "displayName": "phonchi chung",
      "userId": "13517391734500420886"
     },
     "user_tz": -480
    },
    "id": "uhFdQdNbZ295",
    "outputId": "ed3ce693-f32b-4eff-c337-66342ee7a071",
    "slideshow": {
     "slide_type": "fragment"
    }
   },
   "outputs": [
    {
     "data": {
      "text/plain": [
       "New Taipei City    2052.5667\n",
       "Taichung City      2214.8968\n",
       "Kaohsiung City     2951.8524\n",
       "Taipei City         271.7997\n",
       "Taoyuan City       1220.9540\n",
       "Tainan City        2191.6531\n",
       "Name: area, dtype: float64"
      ]
     },
     "execution_count": 34,
     "metadata": {},
     "output_type": "execute_result"
    }
   ],
   "source": [
    "cities['area']"
   ]
  },
  {
   "cell_type": "code",
   "execution_count": 35,
   "metadata": {
    "colab": {
     "base_uri": "https://localhost:8080/",
     "height": 523
    },
    "executionInfo": {
     "elapsed": 1178,
     "status": "error",
     "timestamp": 1683536173759,
     "user": {
      "displayName": "phonchi chung",
      "userId": "13517391734500420886"
     },
     "user_tz": -480
    },
    "id": "f4OVNEyrZ295",
    "outputId": "ffdefa5c-8fa8-422d-f7db-34dffeb1f2dc",
    "slideshow": {
     "slide_type": "fragment"
    }
   },
   "outputs": [
    {
     "ename": "KeyError",
     "evalue": "'Kaohsiung City'",
     "output_type": "error",
     "traceback": [
      "\u001b[1;31m---------------------------------------------------------------------------\u001b[0m",
      "\u001b[1;31mKeyError\u001b[0m                                  Traceback (most recent call last)",
      "\u001b[1;32mC:\\ProgramData\\Anaconda3\\lib\\site-packages\\pandas\\core\\indexes\\base.py\u001b[0m in \u001b[0;36mget_loc\u001b[1;34m(self, key, method, tolerance)\u001b[0m\n\u001b[0;32m   3628\u001b[0m             \u001b[1;32mtry\u001b[0m\u001b[1;33m:\u001b[0m\u001b[1;33m\u001b[0m\u001b[1;33m\u001b[0m\u001b[0m\n\u001b[1;32m-> 3629\u001b[1;33m                 \u001b[1;32mreturn\u001b[0m \u001b[0mself\u001b[0m\u001b[1;33m.\u001b[0m\u001b[0m_engine\u001b[0m\u001b[1;33m.\u001b[0m\u001b[0mget_loc\u001b[0m\u001b[1;33m(\u001b[0m\u001b[0mcasted_key\u001b[0m\u001b[1;33m)\u001b[0m\u001b[1;33m\u001b[0m\u001b[1;33m\u001b[0m\u001b[0m\n\u001b[0m\u001b[0;32m   3630\u001b[0m             \u001b[1;32mexcept\u001b[0m \u001b[0mKeyError\u001b[0m \u001b[1;32mas\u001b[0m \u001b[0merr\u001b[0m\u001b[1;33m:\u001b[0m\u001b[1;33m\u001b[0m\u001b[1;33m\u001b[0m\u001b[0m\n",
      "\u001b[1;32mC:\\ProgramData\\Anaconda3\\lib\\site-packages\\pandas\\_libs\\index.pyx\u001b[0m in \u001b[0;36mpandas._libs.index.IndexEngine.get_loc\u001b[1;34m()\u001b[0m\n",
      "\u001b[1;32mC:\\ProgramData\\Anaconda3\\lib\\site-packages\\pandas\\_libs\\index.pyx\u001b[0m in \u001b[0;36mpandas._libs.index.IndexEngine.get_loc\u001b[1;34m()\u001b[0m\n",
      "\u001b[1;32mpandas\\_libs\\hashtable_class_helper.pxi\u001b[0m in \u001b[0;36mpandas._libs.hashtable.PyObjectHashTable.get_item\u001b[1;34m()\u001b[0m\n",
      "\u001b[1;32mpandas\\_libs\\hashtable_class_helper.pxi\u001b[0m in \u001b[0;36mpandas._libs.hashtable.PyObjectHashTable.get_item\u001b[1;34m()\u001b[0m\n",
      "\u001b[1;31mKeyError\u001b[0m: 'Kaohsiung City'",
      "\nThe above exception was the direct cause of the following exception:\n",
      "\u001b[1;31mKeyError\u001b[0m                                  Traceback (most recent call last)",
      "\u001b[1;32m~\\AppData\\Local\\Temp\\ipykernel_48780\\366059695.py\u001b[0m in \u001b[0;36m<module>\u001b[1;34m\u001b[0m\n\u001b[1;32m----> 1\u001b[1;33m \u001b[0mcities\u001b[0m\u001b[1;33m[\u001b[0m\u001b[1;34m'Kaohsiung City'\u001b[0m\u001b[1;33m]\u001b[0m\u001b[1;33m\u001b[0m\u001b[1;33m\u001b[0m\u001b[0m\n\u001b[0m",
      "\u001b[1;32mC:\\ProgramData\\Anaconda3\\lib\\site-packages\\pandas\\core\\frame.py\u001b[0m in \u001b[0;36m__getitem__\u001b[1;34m(self, key)\u001b[0m\n\u001b[0;32m   3503\u001b[0m             \u001b[1;32mif\u001b[0m \u001b[0mself\u001b[0m\u001b[1;33m.\u001b[0m\u001b[0mcolumns\u001b[0m\u001b[1;33m.\u001b[0m\u001b[0mnlevels\u001b[0m \u001b[1;33m>\u001b[0m \u001b[1;36m1\u001b[0m\u001b[1;33m:\u001b[0m\u001b[1;33m\u001b[0m\u001b[1;33m\u001b[0m\u001b[0m\n\u001b[0;32m   3504\u001b[0m                 \u001b[1;32mreturn\u001b[0m \u001b[0mself\u001b[0m\u001b[1;33m.\u001b[0m\u001b[0m_getitem_multilevel\u001b[0m\u001b[1;33m(\u001b[0m\u001b[0mkey\u001b[0m\u001b[1;33m)\u001b[0m\u001b[1;33m\u001b[0m\u001b[1;33m\u001b[0m\u001b[0m\n\u001b[1;32m-> 3505\u001b[1;33m             \u001b[0mindexer\u001b[0m \u001b[1;33m=\u001b[0m \u001b[0mself\u001b[0m\u001b[1;33m.\u001b[0m\u001b[0mcolumns\u001b[0m\u001b[1;33m.\u001b[0m\u001b[0mget_loc\u001b[0m\u001b[1;33m(\u001b[0m\u001b[0mkey\u001b[0m\u001b[1;33m)\u001b[0m\u001b[1;33m\u001b[0m\u001b[1;33m\u001b[0m\u001b[0m\n\u001b[0m\u001b[0;32m   3506\u001b[0m             \u001b[1;32mif\u001b[0m \u001b[0mis_integer\u001b[0m\u001b[1;33m(\u001b[0m\u001b[0mindexer\u001b[0m\u001b[1;33m)\u001b[0m\u001b[1;33m:\u001b[0m\u001b[1;33m\u001b[0m\u001b[1;33m\u001b[0m\u001b[0m\n\u001b[0;32m   3507\u001b[0m                 \u001b[0mindexer\u001b[0m \u001b[1;33m=\u001b[0m \u001b[1;33m[\u001b[0m\u001b[0mindexer\u001b[0m\u001b[1;33m]\u001b[0m\u001b[1;33m\u001b[0m\u001b[1;33m\u001b[0m\u001b[0m\n",
      "\u001b[1;32mC:\\ProgramData\\Anaconda3\\lib\\site-packages\\pandas\\core\\indexes\\base.py\u001b[0m in \u001b[0;36mget_loc\u001b[1;34m(self, key, method, tolerance)\u001b[0m\n\u001b[0;32m   3629\u001b[0m                 \u001b[1;32mreturn\u001b[0m \u001b[0mself\u001b[0m\u001b[1;33m.\u001b[0m\u001b[0m_engine\u001b[0m\u001b[1;33m.\u001b[0m\u001b[0mget_loc\u001b[0m\u001b[1;33m(\u001b[0m\u001b[0mcasted_key\u001b[0m\u001b[1;33m)\u001b[0m\u001b[1;33m\u001b[0m\u001b[1;33m\u001b[0m\u001b[0m\n\u001b[0;32m   3630\u001b[0m             \u001b[1;32mexcept\u001b[0m \u001b[0mKeyError\u001b[0m \u001b[1;32mas\u001b[0m \u001b[0merr\u001b[0m\u001b[1;33m:\u001b[0m\u001b[1;33m\u001b[0m\u001b[1;33m\u001b[0m\u001b[0m\n\u001b[1;32m-> 3631\u001b[1;33m                 \u001b[1;32mraise\u001b[0m \u001b[0mKeyError\u001b[0m\u001b[1;33m(\u001b[0m\u001b[0mkey\u001b[0m\u001b[1;33m)\u001b[0m \u001b[1;32mfrom\u001b[0m \u001b[0merr\u001b[0m\u001b[1;33m\u001b[0m\u001b[1;33m\u001b[0m\u001b[0m\n\u001b[0m\u001b[0;32m   3632\u001b[0m             \u001b[1;32mexcept\u001b[0m \u001b[0mTypeError\u001b[0m\u001b[1;33m:\u001b[0m\u001b[1;33m\u001b[0m\u001b[1;33m\u001b[0m\u001b[0m\n\u001b[0;32m   3633\u001b[0m                 \u001b[1;31m# If we have a listlike key, _check_indexing_error will raise\u001b[0m\u001b[1;33m\u001b[0m\u001b[1;33m\u001b[0m\u001b[0m\n",
      "\u001b[1;31mKeyError\u001b[0m: 'Kaohsiung City'"
     ]
    }
   ],
   "source": [
    "cities['Kaohsiung City']"
   ]
  },
  {
   "cell_type": "markdown",
   "metadata": {
    "id": "HKYJYhHSZ295",
    "slideshow": {
     "slide_type": "subslide"
    }
   },
   "source": [
    "There are a few other indexing conventions that might appear counterintuitive but can be beneficial in practice. **To begin with, while indexing refers to columns, slicing refers to rows!**"
   ]
  },
  {
   "cell_type": "code",
   "execution_count": 36,
   "metadata": {
    "colab": {
     "base_uri": "https://localhost:8080/",
     "height": 143
    },
    "executionInfo": {
     "elapsed": 3,
     "status": "ok",
     "timestamp": 1683536230695,
     "user": {
      "displayName": "phonchi chung",
      "userId": "13517391734500420886"
     },
     "user_tz": -480
    },
    "id": "asMqX8-kZ295",
    "outputId": "ce04193c-5f22-498a-ffc1-bdc54a184d20",
    "slideshow": {
     "slide_type": "fragment"
    }
   },
   "outputs": [
    {
     "data": {
      "text/html": [
       "<div>\n",
       "<style scoped>\n",
       "    .dataframe tbody tr th:only-of-type {\n",
       "        vertical-align: middle;\n",
       "    }\n",
       "\n",
       "    .dataframe tbody tr th {\n",
       "        vertical-align: top;\n",
       "    }\n",
       "\n",
       "    .dataframe thead th {\n",
       "        text-align: right;\n",
       "    }\n",
       "</style>\n",
       "<table border=\"1\" class=\"dataframe\">\n",
       "  <thead>\n",
       "    <tr style=\"text-align: right;\">\n",
       "      <th></th>\n",
       "      <th>population</th>\n",
       "      <th>area</th>\n",
       "      <th>density</th>\n",
       "    </tr>\n",
       "  </thead>\n",
       "  <tbody>\n",
       "    <tr>\n",
       "      <th>Taichung City</th>\n",
       "      <td>2826230</td>\n",
       "      <td>2214.8968</td>\n",
       "      <td>1276.009790</td>\n",
       "    </tr>\n",
       "    <tr>\n",
       "      <th>Kaohsiung City</th>\n",
       "      <td>2733964</td>\n",
       "      <td>2951.8524</td>\n",
       "      <td>926.185876</td>\n",
       "    </tr>\n",
       "    <tr>\n",
       "      <th>Taipei City</th>\n",
       "      <td>2465610</td>\n",
       "      <td>271.7997</td>\n",
       "      <td>9071.422816</td>\n",
       "    </tr>\n",
       "  </tbody>\n",
       "</table>\n",
       "</div>"
      ],
      "text/plain": [
       "                population       area      density\n",
       "Taichung City      2826230  2214.8968  1276.009790\n",
       "Kaohsiung City     2733964  2951.8524   926.185876\n",
       "Taipei City        2465610   271.7997  9071.422816"
      ]
     },
     "execution_count": 36,
     "metadata": {},
     "output_type": "execute_result"
    }
   ],
   "source": [
    "cities['Taichung City':'Taipei City']"
   ]
  },
  {
   "cell_type": "markdown",
   "metadata": {
    "id": "XtIY23gBZ295",
    "slideshow": {
     "slide_type": "subslide"
    }
   },
   "source": [
    "Such slices can also refer to rows by number rather than by index:"
   ]
  },
  {
   "cell_type": "code",
   "execution_count": 37,
   "metadata": {
    "colab": {
     "base_uri": "https://localhost:8080/",
     "height": 143
    },
    "executionInfo": {
     "elapsed": 3,
     "status": "ok",
     "timestamp": 1683536304283,
     "user": {
      "displayName": "phonchi chung",
      "userId": "13517391734500420886"
     },
     "user_tz": -480
    },
    "id": "KIebc-T-Z295",
    "outputId": "bfc34b52-a225-4cf4-9167-5dd701dd5d3b",
    "slideshow": {
     "slide_type": "fragment"
    }
   },
   "outputs": [
    {
     "data": {
      "text/html": [
       "<div>\n",
       "<style scoped>\n",
       "    .dataframe tbody tr th:only-of-type {\n",
       "        vertical-align: middle;\n",
       "    }\n",
       "\n",
       "    .dataframe tbody tr th {\n",
       "        vertical-align: top;\n",
       "    }\n",
       "\n",
       "    .dataframe thead th {\n",
       "        text-align: right;\n",
       "    }\n",
       "</style>\n",
       "<table border=\"1\" class=\"dataframe\">\n",
       "  <thead>\n",
       "    <tr style=\"text-align: right;\">\n",
       "      <th></th>\n",
       "      <th>population</th>\n",
       "      <th>area</th>\n",
       "      <th>density</th>\n",
       "    </tr>\n",
       "  </thead>\n",
       "  <tbody>\n",
       "    <tr>\n",
       "      <th>Taichung City</th>\n",
       "      <td>2826230</td>\n",
       "      <td>2214.8968</td>\n",
       "      <td>1276.009790</td>\n",
       "    </tr>\n",
       "    <tr>\n",
       "      <th>Kaohsiung City</th>\n",
       "      <td>2733964</td>\n",
       "      <td>2951.8524</td>\n",
       "      <td>926.185876</td>\n",
       "    </tr>\n",
       "    <tr>\n",
       "      <th>Taipei City</th>\n",
       "      <td>2465610</td>\n",
       "      <td>271.7997</td>\n",
       "      <td>9071.422816</td>\n",
       "    </tr>\n",
       "  </tbody>\n",
       "</table>\n",
       "</div>"
      ],
      "text/plain": [
       "                population       area      density\n",
       "Taichung City      2826230  2214.8968  1276.009790\n",
       "Kaohsiung City     2733964  2951.8524   926.185876\n",
       "Taipei City        2465610   271.7997  9071.422816"
      ]
     },
     "execution_count": 37,
     "metadata": {},
     "output_type": "execute_result"
    }
   ],
   "source": [
    "cities[1:4]"
   ]
  },
  {
   "cell_type": "markdown",
   "metadata": {
    "id": "3zKRMIPFZ296",
    "slideshow": {
     "slide_type": "subslide"
    }
   },
   "source": [
    "For explicit indexing, `Pandas` employs the `loc` and `iloc` indexers mentioned earlier. By using the `iloc` indexer, we can index the underlying array as if it were a standard `NumPy` array (using the implicit Python-style index). However, the `DataFrame` index and column labels are retained in the result:"
   ]
  },
  {
   "cell_type": "code",
   "execution_count": 38,
   "metadata": {
    "colab": {
     "base_uri": "https://localhost:8080/",
     "height": 143
    },
    "executionInfo": {
     "elapsed": 4,
     "status": "ok",
     "timestamp": 1683536330113,
     "user": {
      "displayName": "phonchi chung",
      "userId": "13517391734500420886"
     },
     "user_tz": -480
    },
    "id": "Vxj3VecIZ296",
    "outputId": "e146f78c-acab-4f9c-e7cb-8757a45905e5",
    "slideshow": {
     "slide_type": "fragment"
    }
   },
   "outputs": [
    {
     "data": {
      "text/html": [
       "<div>\n",
       "<style scoped>\n",
       "    .dataframe tbody tr th:only-of-type {\n",
       "        vertical-align: middle;\n",
       "    }\n",
       "\n",
       "    .dataframe tbody tr th {\n",
       "        vertical-align: top;\n",
       "    }\n",
       "\n",
       "    .dataframe thead th {\n",
       "        text-align: right;\n",
       "    }\n",
       "</style>\n",
       "<table border=\"1\" class=\"dataframe\">\n",
       "  <thead>\n",
       "    <tr style=\"text-align: right;\">\n",
       "      <th></th>\n",
       "      <th>population</th>\n",
       "      <th>area</th>\n",
       "    </tr>\n",
       "  </thead>\n",
       "  <tbody>\n",
       "    <tr>\n",
       "      <th>New Taipei City</th>\n",
       "      <td>4013659</td>\n",
       "      <td>2052.5667</td>\n",
       "    </tr>\n",
       "    <tr>\n",
       "      <th>Taichung City</th>\n",
       "      <td>2826230</td>\n",
       "      <td>2214.8968</td>\n",
       "    </tr>\n",
       "    <tr>\n",
       "      <th>Kaohsiung City</th>\n",
       "      <td>2733964</td>\n",
       "      <td>2951.8524</td>\n",
       "    </tr>\n",
       "  </tbody>\n",
       "</table>\n",
       "</div>"
      ],
      "text/plain": [
       "                 population       area\n",
       "New Taipei City     4013659  2052.5667\n",
       "Taichung City       2826230  2214.8968\n",
       "Kaohsiung City      2733964  2951.8524"
      ]
     },
     "execution_count": 38,
     "metadata": {},
     "output_type": "execute_result"
    }
   ],
   "source": [
    "cities.iloc[:3, :2]"
   ]
  },
  {
   "cell_type": "markdown",
   "metadata": {
    "id": "UHIPCR0YZ296",
    "slideshow": {
     "slide_type": "subslide"
    }
   },
   "source": [
    "Similarly, by using the `loc` indexer, we can index the underlying data in a manner similar to the `array`-like style, but with the explicit index and column names:"
   ]
  },
  {
   "cell_type": "code",
   "execution_count": 39,
   "metadata": {
    "colab": {
     "base_uri": "https://localhost:8080/",
     "height": 143
    },
    "executionInfo": {
     "elapsed": 3,
     "status": "ok",
     "timestamp": 1683536383453,
     "user": {
      "displayName": "phonchi chung",
      "userId": "13517391734500420886"
     },
     "user_tz": -480
    },
    "id": "DIaXsPhYZ296",
    "outputId": "3ae86180-425f-4f66-fa4e-0635ca7ded4a",
    "slideshow": {
     "slide_type": "fragment"
    }
   },
   "outputs": [
    {
     "data": {
      "text/html": [
       "<div>\n",
       "<style scoped>\n",
       "    .dataframe tbody tr th:only-of-type {\n",
       "        vertical-align: middle;\n",
       "    }\n",
       "\n",
       "    .dataframe tbody tr th {\n",
       "        vertical-align: top;\n",
       "    }\n",
       "\n",
       "    .dataframe thead th {\n",
       "        text-align: right;\n",
       "    }\n",
       "</style>\n",
       "<table border=\"1\" class=\"dataframe\">\n",
       "  <thead>\n",
       "    <tr style=\"text-align: right;\">\n",
       "      <th></th>\n",
       "      <th>population</th>\n",
       "      <th>area</th>\n",
       "    </tr>\n",
       "  </thead>\n",
       "  <tbody>\n",
       "    <tr>\n",
       "      <th>New Taipei City</th>\n",
       "      <td>4013659</td>\n",
       "      <td>2052.5667</td>\n",
       "    </tr>\n",
       "    <tr>\n",
       "      <th>Taichung City</th>\n",
       "      <td>2826230</td>\n",
       "      <td>2214.8968</td>\n",
       "    </tr>\n",
       "    <tr>\n",
       "      <th>Kaohsiung City</th>\n",
       "      <td>2733964</td>\n",
       "      <td>2951.8524</td>\n",
       "    </tr>\n",
       "  </tbody>\n",
       "</table>\n",
       "</div>"
      ],
      "text/plain": [
       "                 population       area\n",
       "New Taipei City     4013659  2052.5667\n",
       "Taichung City       2826230  2214.8968\n",
       "Kaohsiung City      2733964  2951.8524"
      ]
     },
     "execution_count": 39,
     "metadata": {},
     "output_type": "execute_result"
    }
   ],
   "source": [
    "cities.loc[:'Kaohsiung City', :'area']"
   ]
  },
  {
   "cell_type": "markdown",
   "metadata": {
    "id": "lv7AZd8YZ296",
    "slideshow": {
     "slide_type": "subslide"
    }
   },
   "source": [
    "Within these indexers, all of the familiar `NumPy`-style data access patterns can be utilized. For example, in the `loc` indexer, we can combine fancy indexing and <u>masking</u> in the following manner:"
   ]
  },
  {
   "cell_type": "code",
   "execution_count": 40,
   "metadata": {
    "colab": {
     "base_uri": "https://localhost:8080/",
     "height": 143
    },
    "executionInfo": {
     "elapsed": 2,
     "status": "ok",
     "timestamp": 1683536500361,
     "user": {
      "displayName": "phonchi chung",
      "userId": "13517391734500420886"
     },
     "user_tz": -480
    },
    "id": "UXQfbZ9vZ296",
    "outputId": "650e339e-d345-417d-dba1-ba1be88b7cc2",
    "slideshow": {
     "slide_type": "fragment"
    }
   },
   "outputs": [
    {
     "data": {
      "text/html": [
       "<div>\n",
       "<style scoped>\n",
       "    .dataframe tbody tr th:only-of-type {\n",
       "        vertical-align: middle;\n",
       "    }\n",
       "\n",
       "    .dataframe tbody tr th {\n",
       "        vertical-align: top;\n",
       "    }\n",
       "\n",
       "    .dataframe thead th {\n",
       "        text-align: right;\n",
       "    }\n",
       "</style>\n",
       "<table border=\"1\" class=\"dataframe\">\n",
       "  <thead>\n",
       "    <tr style=\"text-align: right;\">\n",
       "      <th></th>\n",
       "      <th>population</th>\n",
       "      <th>density</th>\n",
       "    </tr>\n",
       "  </thead>\n",
       "  <tbody>\n",
       "    <tr>\n",
       "      <th>New Taipei City</th>\n",
       "      <td>4013659</td>\n",
       "      <td>1955.434140</td>\n",
       "    </tr>\n",
       "    <tr>\n",
       "      <th>Taipei City</th>\n",
       "      <td>2465610</td>\n",
       "      <td>9071.422816</td>\n",
       "    </tr>\n",
       "    <tr>\n",
       "      <th>Taoyuan City</th>\n",
       "      <td>2293509</td>\n",
       "      <td>1878.456518</td>\n",
       "    </tr>\n",
       "  </tbody>\n",
       "</table>\n",
       "</div>"
      ],
      "text/plain": [
       "                 population      density\n",
       "New Taipei City     4013659  1955.434140\n",
       "Taipei City         2465610  9071.422816\n",
       "Taoyuan City        2293509  1878.456518"
      ]
     },
     "execution_count": 40,
     "metadata": {},
     "output_type": "execute_result"
    }
   ],
   "source": [
    "cities.loc[cities.density > 1500, ['population', 'density']]"
   ]
  },
  {
   "cell_type": "markdown",
   "metadata": {
    "id": "RAvZn5OVZ296",
    "slideshow": {
     "slide_type": "subslide"
    }
   },
   "source": [
    "### Insertion or deletion of data"
   ]
  },
  {
   "cell_type": "markdown",
   "metadata": {
    "id": "Z-nr4IH7Z296",
    "slideshow": {
     "slide_type": "subslide"
    }
   },
   "source": [
    "We can also delete the column or rows of a `DataFrame`:"
   ]
  },
  {
   "cell_type": "code",
   "execution_count": 41,
   "metadata": {
    "colab": {
     "base_uri": "https://localhost:8080/",
     "height": 206
    },
    "executionInfo": {
     "elapsed": 5,
     "status": "ok",
     "timestamp": 1683536520276,
     "user": {
      "displayName": "phonchi chung",
      "userId": "13517391734500420886"
     },
     "user_tz": -480
    },
    "id": "S0_syA6rZ296",
    "outputId": "22cfaab2-573b-4668-c190-06e5cb67f390",
    "slideshow": {
     "slide_type": "fragment"
    }
   },
   "outputs": [
    {
     "data": {
      "text/html": [
       "<div>\n",
       "<style scoped>\n",
       "    .dataframe tbody tr th:only-of-type {\n",
       "        vertical-align: middle;\n",
       "    }\n",
       "\n",
       "    .dataframe tbody tr th {\n",
       "        vertical-align: top;\n",
       "    }\n",
       "\n",
       "    .dataframe thead th {\n",
       "        text-align: right;\n",
       "    }\n",
       "</style>\n",
       "<table border=\"1\" class=\"dataframe\">\n",
       "  <thead>\n",
       "    <tr style=\"text-align: right;\">\n",
       "      <th></th>\n",
       "      <th>population</th>\n",
       "      <th>area</th>\n",
       "      <th>density</th>\n",
       "    </tr>\n",
       "  </thead>\n",
       "  <tbody>\n",
       "    <tr>\n",
       "      <th>New Taipei City</th>\n",
       "      <td>4013659</td>\n",
       "      <td>2052.5667</td>\n",
       "      <td>1955.434140</td>\n",
       "    </tr>\n",
       "    <tr>\n",
       "      <th>Taichung City</th>\n",
       "      <td>2826230</td>\n",
       "      <td>2214.8968</td>\n",
       "      <td>1276.009790</td>\n",
       "    </tr>\n",
       "    <tr>\n",
       "      <th>Kaohsiung City</th>\n",
       "      <td>2733964</td>\n",
       "      <td>2951.8524</td>\n",
       "      <td>926.185876</td>\n",
       "    </tr>\n",
       "    <tr>\n",
       "      <th>Taipei City</th>\n",
       "      <td>2465610</td>\n",
       "      <td>271.7997</td>\n",
       "      <td>9071.422816</td>\n",
       "    </tr>\n",
       "    <tr>\n",
       "      <th>Taoyuan City</th>\n",
       "      <td>2293509</td>\n",
       "      <td>1220.9540</td>\n",
       "      <td>1878.456518</td>\n",
       "    </tr>\n",
       "    <tr>\n",
       "      <th>Tainan City</th>\n",
       "      <td>1859229</td>\n",
       "      <td>2191.6531</td>\n",
       "      <td>848.322666</td>\n",
       "    </tr>\n",
       "  </tbody>\n",
       "</table>\n",
       "</div>"
      ],
      "text/plain": [
       "                 population       area      density\n",
       "New Taipei City     4013659  2052.5667  1955.434140\n",
       "Taichung City       2826230  2214.8968  1276.009790\n",
       "Kaohsiung City      2733964  2951.8524   926.185876\n",
       "Taipei City         2465610   271.7997  9071.422816\n",
       "Taoyuan City        2293509  1220.9540  1878.456518\n",
       "Tainan City         1859229  2191.6531   848.322666"
      ]
     },
     "execution_count": 41,
     "metadata": {},
     "output_type": "execute_result"
    }
   ],
   "source": [
    "cities2 = cities.copy()\n",
    "cities2"
   ]
  },
  {
   "cell_type": "code",
   "execution_count": 42,
   "metadata": {
    "colab": {
     "base_uri": "https://localhost:8080/",
     "height": 175
    },
    "executionInfo": {
     "elapsed": 3,
     "status": "ok",
     "timestamp": 1683536539733,
     "user": {
      "displayName": "phonchi chung",
      "userId": "13517391734500420886"
     },
     "user_tz": -480
    },
    "id": "UxElcvcwZ297",
    "outputId": "fd2766de-9885-4b5c-ac00-0ea3878b0dcf",
    "slideshow": {
     "slide_type": "subslide"
    }
   },
   "outputs": [
    {
     "data": {
      "text/html": [
       "<div>\n",
       "<style scoped>\n",
       "    .dataframe tbody tr th:only-of-type {\n",
       "        vertical-align: middle;\n",
       "    }\n",
       "\n",
       "    .dataframe tbody tr th {\n",
       "        vertical-align: top;\n",
       "    }\n",
       "\n",
       "    .dataframe thead th {\n",
       "        text-align: right;\n",
       "    }\n",
       "</style>\n",
       "<table border=\"1\" class=\"dataframe\">\n",
       "  <thead>\n",
       "    <tr style=\"text-align: right;\">\n",
       "      <th></th>\n",
       "      <th>population</th>\n",
       "      <th>area</th>\n",
       "      <th>density</th>\n",
       "    </tr>\n",
       "  </thead>\n",
       "  <tbody>\n",
       "    <tr>\n",
       "      <th>New Taipei City</th>\n",
       "      <td>4013659</td>\n",
       "      <td>2052.5667</td>\n",
       "      <td>1955.434140</td>\n",
       "    </tr>\n",
       "    <tr>\n",
       "      <th>Taichung City</th>\n",
       "      <td>2826230</td>\n",
       "      <td>2214.8968</td>\n",
       "      <td>1276.009790</td>\n",
       "    </tr>\n",
       "    <tr>\n",
       "      <th>Kaohsiung City</th>\n",
       "      <td>2733964</td>\n",
       "      <td>2951.8524</td>\n",
       "      <td>926.185876</td>\n",
       "    </tr>\n",
       "    <tr>\n",
       "      <th>Taipei City</th>\n",
       "      <td>2465610</td>\n",
       "      <td>271.7997</td>\n",
       "      <td>9071.422816</td>\n",
       "    </tr>\n",
       "    <tr>\n",
       "      <th>Tainan City</th>\n",
       "      <td>1859229</td>\n",
       "      <td>2191.6531</td>\n",
       "      <td>848.322666</td>\n",
       "    </tr>\n",
       "  </tbody>\n",
       "</table>\n",
       "</div>"
      ],
      "text/plain": [
       "                 population       area      density\n",
       "New Taipei City     4013659  2052.5667  1955.434140\n",
       "Taichung City       2826230  2214.8968  1276.009790\n",
       "Kaohsiung City      2733964  2951.8524   926.185876\n",
       "Taipei City         2465610   271.7997  9071.422816\n",
       "Tainan City         1859229  2191.6531   848.322666"
      ]
     },
     "execution_count": 42,
     "metadata": {},
     "output_type": "execute_result"
    }
   ],
   "source": [
    "cities2.drop('Taoyuan City') # drop an row"
   ]
  },
  {
   "cell_type": "markdown",
   "metadata": {
    "id": "PmA5QDMoZ297",
    "slideshow": {
     "slide_type": "skip"
    }
   },
   "source": [
    "> Note that the `drop()` function simply returns the modified `DataFrame` object. If we want to alter the existing `DataFrame`, employ the `inplace` keyword argument.\n",
    "\n",
    "A column can be removed by specifying its name and the `axis` parameter:"
   ]
  },
  {
   "cell_type": "code",
   "execution_count": 43,
   "metadata": {
    "colab": {
     "base_uri": "https://localhost:8080/",
     "height": 206
    },
    "executionInfo": {
     "elapsed": 2,
     "status": "ok",
     "timestamp": 1683536589686,
     "user": {
      "displayName": "phonchi chung",
      "userId": "13517391734500420886"
     },
     "user_tz": -480
    },
    "id": "RvALuTUfZ297",
    "outputId": "4c9469a8-ec7f-4d68-db04-4aa0ac134747",
    "slideshow": {
     "slide_type": "subslide"
    }
   },
   "outputs": [
    {
     "data": {
      "text/html": [
       "<div>\n",
       "<style scoped>\n",
       "    .dataframe tbody tr th:only-of-type {\n",
       "        vertical-align: middle;\n",
       "    }\n",
       "\n",
       "    .dataframe tbody tr th {\n",
       "        vertical-align: top;\n",
       "    }\n",
       "\n",
       "    .dataframe thead th {\n",
       "        text-align: right;\n",
       "    }\n",
       "</style>\n",
       "<table border=\"1\" class=\"dataframe\">\n",
       "  <thead>\n",
       "    <tr style=\"text-align: right;\">\n",
       "      <th></th>\n",
       "      <th>population</th>\n",
       "      <th>area</th>\n",
       "    </tr>\n",
       "  </thead>\n",
       "  <tbody>\n",
       "    <tr>\n",
       "      <th>New Taipei City</th>\n",
       "      <td>4013659</td>\n",
       "      <td>2052.5667</td>\n",
       "    </tr>\n",
       "    <tr>\n",
       "      <th>Taichung City</th>\n",
       "      <td>2826230</td>\n",
       "      <td>2214.8968</td>\n",
       "    </tr>\n",
       "    <tr>\n",
       "      <th>Kaohsiung City</th>\n",
       "      <td>2733964</td>\n",
       "      <td>2951.8524</td>\n",
       "    </tr>\n",
       "    <tr>\n",
       "      <th>Taipei City</th>\n",
       "      <td>2465610</td>\n",
       "      <td>271.7997</td>\n",
       "    </tr>\n",
       "    <tr>\n",
       "      <th>Taoyuan City</th>\n",
       "      <td>2293509</td>\n",
       "      <td>1220.9540</td>\n",
       "    </tr>\n",
       "    <tr>\n",
       "      <th>Tainan City</th>\n",
       "      <td>1859229</td>\n",
       "      <td>2191.6531</td>\n",
       "    </tr>\n",
       "  </tbody>\n",
       "</table>\n",
       "</div>"
      ],
      "text/plain": [
       "                 population       area\n",
       "New Taipei City     4013659  2052.5667\n",
       "Taichung City       2826230  2214.8968\n",
       "Kaohsiung City      2733964  2951.8524\n",
       "Taipei City         2465610   271.7997\n",
       "Taoyuan City        2293509  1220.9540\n",
       "Tainan City         1859229  2191.6531"
      ]
     },
     "execution_count": 43,
     "metadata": {},
     "output_type": "execute_result"
    }
   ],
   "source": [
    "cities2.drop('density', axis='columns') # or axis=1"
   ]
  },
  {
   "cell_type": "markdown",
   "metadata": {
    "id": "FMXyz8OLZ297",
    "slideshow": {
     "slide_type": "subslide"
    }
   },
   "source": [
    "Adding a row is slightly more involved. We already understand how to add a column, so we'll now demonstrate how to insert a column at a specific location. We can accomplish this using the `insert()` method:"
   ]
  },
  {
   "cell_type": "code",
   "execution_count": 44,
   "metadata": {
    "colab": {
     "base_uri": "https://localhost:8080/",
     "height": 206
    },
    "executionInfo": {
     "elapsed": 1527,
     "status": "ok",
     "timestamp": 1683536618513,
     "user": {
      "displayName": "phonchi chung",
      "userId": "13517391734500420886"
     },
     "user_tz": -480
    },
    "id": "ZEXI3a06Z297",
    "outputId": "9308be5c-c75f-46df-d128-0b37a9af39ad",
    "slideshow": {
     "slide_type": "fragment"
    }
   },
   "outputs": [
    {
     "data": {
      "text/html": [
       "<div>\n",
       "<style scoped>\n",
       "    .dataframe tbody tr th:only-of-type {\n",
       "        vertical-align: middle;\n",
       "    }\n",
       "\n",
       "    .dataframe tbody tr th {\n",
       "        vertical-align: top;\n",
       "    }\n",
       "\n",
       "    .dataframe thead th {\n",
       "        text-align: right;\n",
       "    }\n",
       "</style>\n",
       "<table border=\"1\" class=\"dataframe\">\n",
       "  <thead>\n",
       "    <tr style=\"text-align: right;\">\n",
       "      <th></th>\n",
       "      <th>population</th>\n",
       "      <th>multiplication</th>\n",
       "      <th>area</th>\n",
       "      <th>density</th>\n",
       "    </tr>\n",
       "  </thead>\n",
       "  <tbody>\n",
       "    <tr>\n",
       "      <th>New Taipei City</th>\n",
       "      <td>4013659</td>\n",
       "      <td>8.238303e+09</td>\n",
       "      <td>2052.5667</td>\n",
       "      <td>1955.434140</td>\n",
       "    </tr>\n",
       "    <tr>\n",
       "      <th>Taichung City</th>\n",
       "      <td>2826230</td>\n",
       "      <td>6.259808e+09</td>\n",
       "      <td>2214.8968</td>\n",
       "      <td>1276.009790</td>\n",
       "    </tr>\n",
       "    <tr>\n",
       "      <th>Kaohsiung City</th>\n",
       "      <td>2733964</td>\n",
       "      <td>8.070258e+09</td>\n",
       "      <td>2951.8524</td>\n",
       "      <td>926.185876</td>\n",
       "    </tr>\n",
       "    <tr>\n",
       "      <th>Taipei City</th>\n",
       "      <td>2465610</td>\n",
       "      <td>6.701521e+08</td>\n",
       "      <td>271.7997</td>\n",
       "      <td>9071.422816</td>\n",
       "    </tr>\n",
       "    <tr>\n",
       "      <th>Taoyuan City</th>\n",
       "      <td>2293509</td>\n",
       "      <td>2.800269e+09</td>\n",
       "      <td>1220.9540</td>\n",
       "      <td>1878.456518</td>\n",
       "    </tr>\n",
       "    <tr>\n",
       "      <th>Tainan City</th>\n",
       "      <td>1859229</td>\n",
       "      <td>4.074785e+09</td>\n",
       "      <td>2191.6531</td>\n",
       "      <td>848.322666</td>\n",
       "    </tr>\n",
       "  </tbody>\n",
       "</table>\n",
       "</div>"
      ],
      "text/plain": [
       "                 population  multiplication       area      density\n",
       "New Taipei City     4013659    8.238303e+09  2052.5667  1955.434140\n",
       "Taichung City       2826230    6.259808e+09  2214.8968  1276.009790\n",
       "Kaohsiung City      2733964    8.070258e+09  2951.8524   926.185876\n",
       "Taipei City         2465610    6.701521e+08   271.7997  9071.422816\n",
       "Taoyuan City        2293509    2.800269e+09  1220.9540  1878.456518\n",
       "Tainan City         1859229    4.074785e+09  2191.6531   848.322666"
      ]
     },
     "execution_count": 44,
     "metadata": {},
     "output_type": "execute_result"
    }
   ],
   "source": [
    "cities2.insert(1, 'multiplication', cities2['population'] * cities2['area']) # This will insert a new column at index 1 in place\n",
    "cities2"
   ]
  },
  {
   "cell_type": "markdown",
   "metadata": {
    "slideshow": {
     "slide_type": "subslide"
    }
   },
   "source": [
    "## Exercise 1: Considering the following dataset:\n",
    "```python\n",
    "population_data = {'New Taipei City': 4_013_659, 'Taichung City': 2_826_230, 'Kaohsiung City': 2_733_964, 'Taipei City': 2_465_610, 'Taoyuan City': 2_293_509, 'Tainan City': 1_859_229}\n",
    "population_series = pd.Series(population_data)\n",
    "territory_data = {'New Taipei City': 2_052.5667, 'Taichung City': 2_214.8968, 'Kaohsiung City': 2_951.8524, 'Taipei City': 271.7997, 'Taoyuan City': 1_220.9540, 'Tainan City': 2_191.6531}\n",
    "territory_series = pd.Series(territory_data)\n",
    "division_count = {'New Taipei City': 29, 'Taichung City': 29, 'Kaohsiung City': 38, 'Taipei City': 12, 'Taoyuan City': 13, 'Tainan City': 37}\n",
    "division_series = pd.Series(division_count)\n",
    "```\n",
    "\n",
    "Start by creating a `DataFrame` that integrates the `territory_series`, `population_series`, and `division_series` into columns named `area`, `population`, and `subdiv_cnt`, respectively. Subsequently, retrieve the `area` and `population` values for Taichung City, Kaohsiung City, and Taipei City using both the `iloc` and `loc` attributes.\n"
   ]
  },
  {
   "cell_type": "code",
   "execution_count": null,
   "metadata": {
    "slideshow": {
     "slide_type": "subslide"
    }
   },
   "outputs": [],
   "source": [
    "population_data = {'New Taipei City': 4_013_659, 'Taichung City': 2_826_230, 'Kaohsiung City': 2_733_964, \n",
    "                   'Taipei City': 2_465_610, 'Taoyuan City': 2_293_509, 'Tainan City': 1_859_229}\n",
    "population_series = pd.Series(population_data)\n",
    "\n",
    "territory_data = {'New Taipei City': 2_052.5667, 'Taichung City': 2_214.8968, 'Kaohsiung City': 2_951.8524, \n",
    "                  'Taipei City': 271.7997, 'Taoyuan City': 1_220.9540, 'Tainan City': 2_191.6531}\n",
    "territory_series = pd.Series(territory_data)\n",
    "\n",
    "division_count = {'New Taipei City': 29, 'Taichung City': 29, 'Kaohsiung City': 38, \n",
    "                  'Taipei City': 12, 'Taoyuan City': 13, 'Tainan City': 37}\n",
    "division_series = pd.Series(division_count)\n",
    "# Your code here"
   ]
  },
  {
   "cell_type": "markdown",
   "metadata": {
    "id": "gVM0Nxi4Z297",
    "slideshow": {
     "slide_type": "slide"
    }
   },
   "source": [
    "## Operations on `DataFrame`"
   ]
  },
  {
   "cell_type": "markdown",
   "metadata": {
    "id": "IeKPosNdZ297",
    "slideshow": {
     "slide_type": "subslide"
    }
   },
   "source": [
    "### Selection and queries"
   ]
  },
  {
   "cell_type": "markdown",
   "metadata": {
    "id": "Q-RV3MPPZ298",
    "slideshow": {
     "slide_type": "subslide"
    }
   },
   "source": [
    "We can select the first or last `n` rows of a `DataFrame` using the `head()` and `tail()` methods, respectively:"
   ]
  },
  {
   "cell_type": "code",
   "execution_count": 45,
   "metadata": {
    "colab": {
     "base_uri": "https://localhost:8080/",
     "height": 112
    },
    "executionInfo": {
     "elapsed": 270,
     "status": "ok",
     "timestamp": 1683536779524,
     "user": {
      "displayName": "phonchi chung",
      "userId": "13517391734500420886"
     },
     "user_tz": -480
    },
    "id": "tboFI2VFZ298",
    "outputId": "5c2066fc-62e5-4fa5-ef7d-e3a917d533b2",
    "slideshow": {
     "slide_type": "fragment"
    }
   },
   "outputs": [
    {
     "data": {
      "text/html": [
       "<div>\n",
       "<style scoped>\n",
       "    .dataframe tbody tr th:only-of-type {\n",
       "        vertical-align: middle;\n",
       "    }\n",
       "\n",
       "    .dataframe tbody tr th {\n",
       "        vertical-align: top;\n",
       "    }\n",
       "\n",
       "    .dataframe thead th {\n",
       "        text-align: right;\n",
       "    }\n",
       "</style>\n",
       "<table border=\"1\" class=\"dataframe\">\n",
       "  <thead>\n",
       "    <tr style=\"text-align: right;\">\n",
       "      <th></th>\n",
       "      <th>population</th>\n",
       "      <th>area</th>\n",
       "      <th>density</th>\n",
       "    </tr>\n",
       "  </thead>\n",
       "  <tbody>\n",
       "    <tr>\n",
       "      <th>New Taipei City</th>\n",
       "      <td>4013659</td>\n",
       "      <td>2052.5667</td>\n",
       "      <td>1955.43414</td>\n",
       "    </tr>\n",
       "    <tr>\n",
       "      <th>Taichung City</th>\n",
       "      <td>2826230</td>\n",
       "      <td>2214.8968</td>\n",
       "      <td>1276.00979</td>\n",
       "    </tr>\n",
       "  </tbody>\n",
       "</table>\n",
       "</div>"
      ],
      "text/plain": [
       "                 population       area     density\n",
       "New Taipei City     4013659  2052.5667  1955.43414\n",
       "Taichung City       2826230  2214.8968  1276.00979"
      ]
     },
     "execution_count": 45,
     "metadata": {},
     "output_type": "execute_result"
    }
   ],
   "source": [
    "cities.head(2)"
   ]
  },
  {
   "cell_type": "code",
   "execution_count": 46,
   "metadata": {
    "colab": {
     "base_uri": "https://localhost:8080/",
     "height": 112
    },
    "executionInfo": {
     "elapsed": 3,
     "status": "ok",
     "timestamp": 1683536781826,
     "user": {
      "displayName": "phonchi chung",
      "userId": "13517391734500420886"
     },
     "user_tz": -480
    },
    "id": "Slebw24iZ298",
    "outputId": "a6bcdc5d-7c2a-48c0-de20-1403c84aa80f",
    "slideshow": {
     "slide_type": "fragment"
    }
   },
   "outputs": [
    {
     "data": {
      "text/html": [
       "<div>\n",
       "<style scoped>\n",
       "    .dataframe tbody tr th:only-of-type {\n",
       "        vertical-align: middle;\n",
       "    }\n",
       "\n",
       "    .dataframe tbody tr th {\n",
       "        vertical-align: top;\n",
       "    }\n",
       "\n",
       "    .dataframe thead th {\n",
       "        text-align: right;\n",
       "    }\n",
       "</style>\n",
       "<table border=\"1\" class=\"dataframe\">\n",
       "  <thead>\n",
       "    <tr style=\"text-align: right;\">\n",
       "      <th></th>\n",
       "      <th>population</th>\n",
       "      <th>area</th>\n",
       "      <th>density</th>\n",
       "    </tr>\n",
       "  </thead>\n",
       "  <tbody>\n",
       "    <tr>\n",
       "      <th>Taoyuan City</th>\n",
       "      <td>2293509</td>\n",
       "      <td>1220.9540</td>\n",
       "      <td>1878.456518</td>\n",
       "    </tr>\n",
       "    <tr>\n",
       "      <th>Tainan City</th>\n",
       "      <td>1859229</td>\n",
       "      <td>2191.6531</td>\n",
       "      <td>848.322666</td>\n",
       "    </tr>\n",
       "  </tbody>\n",
       "</table>\n",
       "</div>"
      ],
      "text/plain": [
       "              population       area      density\n",
       "Taoyuan City     2293509  1220.9540  1878.456518\n",
       "Tainan City      1859229  2191.6531   848.322666"
      ]
     },
     "execution_count": 46,
     "metadata": {},
     "output_type": "execute_result"
    }
   ],
   "source": [
    "cities.tail(2)"
   ]
  },
  {
   "cell_type": "markdown",
   "metadata": {
    "id": "2VyXH95nZ298",
    "slideshow": {
     "slide_type": "subslide"
    }
   },
   "source": [
    "More complex filtering or selection operations can be done using [`query()`](https://pandas.pydata.org/docs/reference/api/pandas.DataFrame.query.html) method:"
   ]
  },
  {
   "cell_type": "code",
   "execution_count": 47,
   "metadata": {
    "colab": {
     "base_uri": "https://localhost:8080/",
     "height": 112
    },
    "executionInfo": {
     "elapsed": 3,
     "status": "ok",
     "timestamp": 1683536835448,
     "user": {
      "displayName": "phonchi chung",
      "userId": "13517391734500420886"
     },
     "user_tz": -480
    },
    "id": "RPcHbzQtZ298",
    "outputId": "8a4d17a0-c5a9-4941-ca2e-23c4703236da",
    "slideshow": {
     "slide_type": "fragment"
    }
   },
   "outputs": [
    {
     "data": {
      "text/html": [
       "<div>\n",
       "<style scoped>\n",
       "    .dataframe tbody tr th:only-of-type {\n",
       "        vertical-align: middle;\n",
       "    }\n",
       "\n",
       "    .dataframe tbody tr th {\n",
       "        vertical-align: top;\n",
       "    }\n",
       "\n",
       "    .dataframe thead th {\n",
       "        text-align: right;\n",
       "    }\n",
       "</style>\n",
       "<table border=\"1\" class=\"dataframe\">\n",
       "  <thead>\n",
       "    <tr style=\"text-align: right;\">\n",
       "      <th></th>\n",
       "      <th>population</th>\n",
       "      <th>area</th>\n",
       "      <th>density</th>\n",
       "    </tr>\n",
       "  </thead>\n",
       "  <tbody>\n",
       "    <tr>\n",
       "      <th>Taichung City</th>\n",
       "      <td>2826230</td>\n",
       "      <td>2214.8968</td>\n",
       "      <td>1276.009790</td>\n",
       "    </tr>\n",
       "    <tr>\n",
       "      <th>Kaohsiung City</th>\n",
       "      <td>2733964</td>\n",
       "      <td>2951.8524</td>\n",
       "      <td>926.185876</td>\n",
       "    </tr>\n",
       "  </tbody>\n",
       "</table>\n",
       "</div>"
      ],
      "text/plain": [
       "                population       area      density\n",
       "Taichung City      2826230  2214.8968  1276.009790\n",
       "Kaohsiung City     2733964  2951.8524   926.185876"
      ]
     },
     "execution_count": 47,
     "metadata": {},
     "output_type": "execute_result"
    }
   ],
   "source": [
    "cities.query('area > 2200')"
   ]
  },
  {
   "cell_type": "markdown",
   "metadata": {
    "id": "8XSj5TGKZ298",
    "slideshow": {
     "slide_type": "fragment"
    }
   },
   "source": [
    "Note that we can use a more concise expression here than simple masking."
   ]
  },
  {
   "cell_type": "markdown",
   "metadata": {
    "id": "98pKZOCFZ298",
    "slideshow": {
     "slide_type": "subslide"
    }
   },
   "source": [
    "### Numerical methods"
   ]
  },
  {
   "cell_type": "markdown",
   "metadata": {
    "id": "eBVy51mwZ298",
    "slideshow": {
     "slide_type": "subslide"
    }
   },
   "source": [
    "`Pandas` inherits much of this functionality from `NumPy`, including the `ufuncs`, but it has a few more useful features: for unary operations, such as negation and trigonometric functions, these `ufuncs` will **retain index and column labels in the output**. For binary operations, such as addition and multiplication, `Pandas` will automatically **align indices** when passing the objects to the `ufunc`."
   ]
  },
  {
   "cell_type": "markdown",
   "metadata": {
    "id": "gVBKwModZ299",
    "slideshow": {
     "slide_type": "subslide"
    }
   },
   "source": [
    "#### `Ufuncs`: Index preservation"
   ]
  },
  {
   "cell_type": "markdown",
   "metadata": {
    "id": "5yWcsx24Z299",
    "slideshow": {
     "slide_type": "subslide"
    }
   },
   "source": [
    "Any `NumPy` `ufunc` can be applied to `Pandas` `Series` and `DataFrame` objects. Let's begin by defining a simple `Series` and `DataFrame` to demonstrate this:"
   ]
  },
  {
   "cell_type": "code",
   "execution_count": 48,
   "metadata": {
    "colab": {
     "base_uri": "https://localhost:8080/"
    },
    "executionInfo": {
     "elapsed": 2,
     "status": "ok",
     "timestamp": 1683536978723,
     "user": {
      "displayName": "phonchi chung",
      "userId": "13517391734500420886"
     },
     "user_tz": -480
    },
    "id": "mIE45THvZ299",
    "outputId": "4d10caf5-7fe6-4ccf-f10a-f99473883789",
    "slideshow": {
     "slide_type": "fragment"
    }
   },
   "outputs": [
    {
     "data": {
      "text/plain": [
       "0    6\n",
       "1    3\n",
       "2    7\n",
       "3    4\n",
       "dtype: int32"
      ]
     },
     "execution_count": 48,
     "metadata": {},
     "output_type": "execute_result"
    }
   ],
   "source": [
    "np.random.seed(42)\n",
    "ser = pd.Series(np.random.randint(0, 10, 4))\n",
    "ser"
   ]
  },
  {
   "cell_type": "code",
   "execution_count": 49,
   "metadata": {
    "colab": {
     "base_uri": "https://localhost:8080/",
     "height": 143
    },
    "executionInfo": {
     "elapsed": 265,
     "status": "ok",
     "timestamp": 1683537019493,
     "user": {
      "displayName": "phonchi chung",
      "userId": "13517391734500420886"
     },
     "user_tz": -480
    },
    "id": "Jq22te0uZ299",
    "outputId": "8ca1c767-b968-4614-dfc8-1dfc4ee903ee",
    "slideshow": {
     "slide_type": "subslide"
    }
   },
   "outputs": [
    {
     "data": {
      "text/html": [
       "<div>\n",
       "<style scoped>\n",
       "    .dataframe tbody tr th:only-of-type {\n",
       "        vertical-align: middle;\n",
       "    }\n",
       "\n",
       "    .dataframe tbody tr th {\n",
       "        vertical-align: top;\n",
       "    }\n",
       "\n",
       "    .dataframe thead th {\n",
       "        text-align: right;\n",
       "    }\n",
       "</style>\n",
       "<table border=\"1\" class=\"dataframe\">\n",
       "  <thead>\n",
       "    <tr style=\"text-align: right;\">\n",
       "      <th></th>\n",
       "      <th>A</th>\n",
       "      <th>B</th>\n",
       "      <th>C</th>\n",
       "      <th>D</th>\n",
       "    </tr>\n",
       "  </thead>\n",
       "  <tbody>\n",
       "    <tr>\n",
       "      <th>0</th>\n",
       "      <td>6</td>\n",
       "      <td>9</td>\n",
       "      <td>2</td>\n",
       "      <td>6</td>\n",
       "    </tr>\n",
       "    <tr>\n",
       "      <th>1</th>\n",
       "      <td>7</td>\n",
       "      <td>4</td>\n",
       "      <td>3</td>\n",
       "      <td>7</td>\n",
       "    </tr>\n",
       "    <tr>\n",
       "      <th>2</th>\n",
       "      <td>7</td>\n",
       "      <td>2</td>\n",
       "      <td>5</td>\n",
       "      <td>4</td>\n",
       "    </tr>\n",
       "  </tbody>\n",
       "</table>\n",
       "</div>"
      ],
      "text/plain": [
       "   A  B  C  D\n",
       "0  6  9  2  6\n",
       "1  7  4  3  7\n",
       "2  7  2  5  4"
      ]
     },
     "execution_count": 49,
     "metadata": {},
     "output_type": "execute_result"
    }
   ],
   "source": [
    "df = pd.DataFrame(np.random.randint(0, 10, (3, 4)),\n",
    "                 columns=['A', 'B', 'C', 'D'])\n",
    "df"
   ]
  },
  {
   "cell_type": "markdown",
   "metadata": {
    "id": "RvITs2-qZ299",
    "slideshow": {
     "slide_type": "subslide"
    }
   },
   "source": [
    "If we apply a `NumPy` `ufunc` to either of these objects, the outcome will be another `Pandas` object in which the indices are retained:"
   ]
  },
  {
   "cell_type": "code",
   "execution_count": 50,
   "metadata": {
    "colab": {
     "base_uri": "https://localhost:8080/"
    },
    "executionInfo": {
     "elapsed": 276,
     "status": "ok",
     "timestamp": 1683537029703,
     "user": {
      "displayName": "phonchi chung",
      "userId": "13517391734500420886"
     },
     "user_tz": -480
    },
    "id": "7Pc2NuiBZ299",
    "outputId": "e4411a29-2a00-4701-c0a7-fef12b37d515",
    "slideshow": {
     "slide_type": "fragment"
    }
   },
   "outputs": [
    {
     "data": {
      "text/plain": [
       "0   -6\n",
       "1   -3\n",
       "2   -7\n",
       "3   -4\n",
       "dtype: int32"
      ]
     },
     "execution_count": 50,
     "metadata": {},
     "output_type": "execute_result"
    }
   ],
   "source": [
    "-ser"
   ]
  },
  {
   "cell_type": "code",
   "execution_count": 51,
   "metadata": {
    "colab": {
     "base_uri": "https://localhost:8080/",
     "height": 143
    },
    "executionInfo": {
     "elapsed": 392,
     "status": "ok",
     "timestamp": 1683537032396,
     "user": {
      "displayName": "phonchi chung",
      "userId": "13517391734500420886"
     },
     "user_tz": -480
    },
    "id": "geI7N56TZ299",
    "outputId": "0de46a26-75c8-47fe-e9dc-c2d076454196",
    "slideshow": {
     "slide_type": "subslide"
    }
   },
   "outputs": [
    {
     "data": {
      "text/html": [
       "<div>\n",
       "<style scoped>\n",
       "    .dataframe tbody tr th:only-of-type {\n",
       "        vertical-align: middle;\n",
       "    }\n",
       "\n",
       "    .dataframe tbody tr th {\n",
       "        vertical-align: top;\n",
       "    }\n",
       "\n",
       "    .dataframe thead th {\n",
       "        text-align: right;\n",
       "    }\n",
       "</style>\n",
       "<table border=\"1\" class=\"dataframe\">\n",
       "  <thead>\n",
       "    <tr style=\"text-align: right;\">\n",
       "      <th></th>\n",
       "      <th>A</th>\n",
       "      <th>B</th>\n",
       "      <th>C</th>\n",
       "      <th>D</th>\n",
       "    </tr>\n",
       "  </thead>\n",
       "  <tbody>\n",
       "    <tr>\n",
       "      <th>0</th>\n",
       "      <td>-1.000000</td>\n",
       "      <td>7.071068e-01</td>\n",
       "      <td>1.000000</td>\n",
       "      <td>-1.000000e+00</td>\n",
       "    </tr>\n",
       "    <tr>\n",
       "      <th>1</th>\n",
       "      <td>-0.707107</td>\n",
       "      <td>1.224647e-16</td>\n",
       "      <td>0.707107</td>\n",
       "      <td>-7.071068e-01</td>\n",
       "    </tr>\n",
       "    <tr>\n",
       "      <th>2</th>\n",
       "      <td>-0.707107</td>\n",
       "      <td>1.000000e+00</td>\n",
       "      <td>-0.707107</td>\n",
       "      <td>1.224647e-16</td>\n",
       "    </tr>\n",
       "  </tbody>\n",
       "</table>\n",
       "</div>"
      ],
      "text/plain": [
       "          A             B         C             D\n",
       "0 -1.000000  7.071068e-01  1.000000 -1.000000e+00\n",
       "1 -0.707107  1.224647e-16  0.707107 -7.071068e-01\n",
       "2 -0.707107  1.000000e+00 -0.707107  1.224647e-16"
      ]
     },
     "execution_count": 51,
     "metadata": {},
     "output_type": "execute_result"
    }
   ],
   "source": [
    "np.sin(df * np.pi/4)"
   ]
  },
  {
   "cell_type": "markdown",
   "metadata": {
    "id": "5GDVnMS_Z299",
    "slideshow": {
     "slide_type": "subslide"
    }
   },
   "source": [
    "#### `Ufuncs`: Index alignment"
   ]
  },
  {
   "cell_type": "markdown",
   "metadata": {
    "id": "fO2qHfA5Z299",
    "slideshow": {
     "slide_type": "subslide"
    }
   },
   "source": [
    "For binary operations involving two `Series` or `DataFrame` objects, `Pandas` will align indices while performing the operation."
   ]
  },
  {
   "cell_type": "code",
   "execution_count": 52,
   "metadata": {
    "colab": {
     "base_uri": "https://localhost:8080/"
    },
    "executionInfo": {
     "elapsed": 292,
     "status": "ok",
     "timestamp": 1683537137433,
     "user": {
      "displayName": "phonchi chung",
      "userId": "13517391734500420886"
     },
     "user_tz": -480
    },
    "id": "oQ22--uhZ29-",
    "outputId": "e140f43a-a447-4f3f-ebf0-39c6a1895e6e",
    "slideshow": {
     "slide_type": "fragment"
    }
   },
   "outputs": [
    {
     "data": {
      "text/plain": [
       "Kaohsiung City             NaN\n",
       "New Taipei City    1955.434140\n",
       "Taichung City              NaN\n",
       "Tainan City         848.322666\n",
       "Taipei City        9071.422816\n",
       "Taoyuan City       1878.456518\n",
       "dtype: float64"
      ]
     },
     "execution_count": 52,
     "metadata": {},
     "output_type": "execute_result"
    }
   ],
   "source": [
    "population_dict = {'New Taipei City': 4_013_659, 'Kaohsiung City': 2_733_964, 'Taipei City': 2_465_610, \n",
    "                   'Taoyuan City': 2_293_509, 'Tainan City': 1_859_229}\n",
    "population = pd.Series(population_dict)\n",
    "\n",
    "area_dict = {'Taipei City': 271.7997, 'New Taipei City': 2_052.5667\t, 'Taichung City': 2_214.8968,  \n",
    "             'Taoyuan City': 1_220.9540, 'Tainan City': 2_191.6531}\n",
    "area = pd.Series(area_dict)\n",
    "\n",
    "population / area"
   ]
  },
  {
   "cell_type": "markdown",
   "metadata": {
    "id": "kVItTrSYZ29-",
    "slideshow": {
     "slide_type": "subslide"
    }
   },
   "source": [
    "The resulting array contains the union of indices of the two input arrays, which could be determined directly from these indices:"
   ]
  },
  {
   "cell_type": "code",
   "execution_count": 53,
   "metadata": {
    "colab": {
     "base_uri": "https://localhost:8080/"
    },
    "executionInfo": {
     "elapsed": 259,
     "status": "ok",
     "timestamp": 1683537167914,
     "user": {
      "displayName": "phonchi chung",
      "userId": "13517391734500420886"
     },
     "user_tz": -480
    },
    "id": "_gBJIvX6Z29-",
    "outputId": "88b8e353-ec7d-41aa-c210-b92c109052d4",
    "slideshow": {
     "slide_type": "fragment"
    }
   },
   "outputs": [
    {
     "data": {
      "text/plain": [
       "Index(['Kaohsiung City', 'New Taipei City', 'Taichung City', 'Tainan City',\n",
       "       'Taipei City', 'Taoyuan City'],\n",
       "      dtype='object')"
      ]
     },
     "execution_count": 53,
     "metadata": {},
     "output_type": "execute_result"
    }
   ],
   "source": [
    "area.index.union(population.index)"
   ]
  },
  {
   "cell_type": "markdown",
   "metadata": {
    "id": "W5vSxkZlZ29-",
    "slideshow": {
     "slide_type": "subslide"
    }
   },
   "source": [
    "Any item for which either of the objects does not have an entry will be marked with `NaN`. A similar sort of alignment is done for both columns and indices while performing operations on `DataFrame` objects:"
   ]
  },
  {
   "cell_type": "code",
   "execution_count": 54,
   "metadata": {
    "colab": {
     "base_uri": "https://localhost:8080/",
     "height": 112
    },
    "executionInfo": {
     "elapsed": 4,
     "status": "ok",
     "timestamp": 1683537223438,
     "user": {
      "displayName": "phonchi chung",
      "userId": "13517391734500420886"
     },
     "user_tz": -480
    },
    "id": "tKxRSBPjZ29-",
    "outputId": "a621a8f3-0717-4274-b84c-8676f98e9fd0",
    "slideshow": {
     "slide_type": "fragment"
    }
   },
   "outputs": [
    {
     "data": {
      "text/html": [
       "<div>\n",
       "<style scoped>\n",
       "    .dataframe tbody tr th:only-of-type {\n",
       "        vertical-align: middle;\n",
       "    }\n",
       "\n",
       "    .dataframe tbody tr th {\n",
       "        vertical-align: top;\n",
       "    }\n",
       "\n",
       "    .dataframe thead th {\n",
       "        text-align: right;\n",
       "    }\n",
       "</style>\n",
       "<table border=\"1\" class=\"dataframe\">\n",
       "  <thead>\n",
       "    <tr style=\"text-align: right;\">\n",
       "      <th></th>\n",
       "      <th>a</th>\n",
       "      <th>b</th>\n",
       "    </tr>\n",
       "  </thead>\n",
       "  <tbody>\n",
       "    <tr>\n",
       "      <th>0</th>\n",
       "      <td>1</td>\n",
       "      <td>11</td>\n",
       "    </tr>\n",
       "    <tr>\n",
       "      <th>1</th>\n",
       "      <td>5</td>\n",
       "      <td>1</td>\n",
       "    </tr>\n",
       "  </tbody>\n",
       "</table>\n",
       "</div>"
      ],
      "text/plain": [
       "   a   b\n",
       "0  1  11\n",
       "1  5   1"
      ]
     },
     "execution_count": 54,
     "metadata": {},
     "output_type": "execute_result"
    }
   ],
   "source": [
    "A = pd.DataFrame(np.random.randint(0, 20, (2, 2)),\n",
    "                 columns=['a', 'b'])\n",
    "A"
   ]
  },
  {
   "cell_type": "code",
   "execution_count": 55,
   "metadata": {
    "colab": {
     "base_uri": "https://localhost:8080/",
     "height": 143
    },
    "executionInfo": {
     "elapsed": 3,
     "status": "ok",
     "timestamp": 1683537233452,
     "user": {
      "displayName": "phonchi chung",
      "userId": "13517391734500420886"
     },
     "user_tz": -480
    },
    "id": "kF_AmuHOZ29-",
    "outputId": "2fe2d780-a6e2-47a1-adca-31820cca019c",
    "slideshow": {
     "slide_type": "subslide"
    }
   },
   "outputs": [
    {
     "data": {
      "text/html": [
       "<div>\n",
       "<style scoped>\n",
       "    .dataframe tbody tr th:only-of-type {\n",
       "        vertical-align: middle;\n",
       "    }\n",
       "\n",
       "    .dataframe tbody tr th {\n",
       "        vertical-align: top;\n",
       "    }\n",
       "\n",
       "    .dataframe thead th {\n",
       "        text-align: right;\n",
       "    }\n",
       "</style>\n",
       "<table border=\"1\" class=\"dataframe\">\n",
       "  <thead>\n",
       "    <tr style=\"text-align: right;\">\n",
       "      <th></th>\n",
       "      <th>b</th>\n",
       "      <th>a</th>\n",
       "      <th>c</th>\n",
       "    </tr>\n",
       "  </thead>\n",
       "  <tbody>\n",
       "    <tr>\n",
       "      <th>0</th>\n",
       "      <td>4</td>\n",
       "      <td>0</td>\n",
       "      <td>9</td>\n",
       "    </tr>\n",
       "    <tr>\n",
       "      <th>1</th>\n",
       "      <td>5</td>\n",
       "      <td>8</td>\n",
       "      <td>0</td>\n",
       "    </tr>\n",
       "    <tr>\n",
       "      <th>2</th>\n",
       "      <td>9</td>\n",
       "      <td>2</td>\n",
       "      <td>6</td>\n",
       "    </tr>\n",
       "  </tbody>\n",
       "</table>\n",
       "</div>"
      ],
      "text/plain": [
       "   b  a  c\n",
       "0  4  0  9\n",
       "1  5  8  0\n",
       "2  9  2  6"
      ]
     },
     "execution_count": 55,
     "metadata": {},
     "output_type": "execute_result"
    }
   ],
   "source": [
    "B = pd.DataFrame(np.random.randint(0, 10, (3, 3)),\n",
    "                 columns=['b', 'a', 'c'])\n",
    "B"
   ]
  },
  {
   "cell_type": "code",
   "execution_count": 56,
   "metadata": {
    "colab": {
     "base_uri": "https://localhost:8080/",
     "height": 143
    },
    "executionInfo": {
     "elapsed": 3,
     "status": "ok",
     "timestamp": 1683537235624,
     "user": {
      "displayName": "phonchi chung",
      "userId": "13517391734500420886"
     },
     "user_tz": -480
    },
    "id": "4cuarCuNZ29_",
    "outputId": "6e17c296-09d2-49fd-d046-7223922c1395",
    "slideshow": {
     "slide_type": "fragment"
    }
   },
   "outputs": [
    {
     "data": {
      "text/html": [
       "<div>\n",
       "<style scoped>\n",
       "    .dataframe tbody tr th:only-of-type {\n",
       "        vertical-align: middle;\n",
       "    }\n",
       "\n",
       "    .dataframe tbody tr th {\n",
       "        vertical-align: top;\n",
       "    }\n",
       "\n",
       "    .dataframe thead th {\n",
       "        text-align: right;\n",
       "    }\n",
       "</style>\n",
       "<table border=\"1\" class=\"dataframe\">\n",
       "  <thead>\n",
       "    <tr style=\"text-align: right;\">\n",
       "      <th></th>\n",
       "      <th>a</th>\n",
       "      <th>b</th>\n",
       "      <th>c</th>\n",
       "    </tr>\n",
       "  </thead>\n",
       "  <tbody>\n",
       "    <tr>\n",
       "      <th>0</th>\n",
       "      <td>1.0</td>\n",
       "      <td>15.0</td>\n",
       "      <td>NaN</td>\n",
       "    </tr>\n",
       "    <tr>\n",
       "      <th>1</th>\n",
       "      <td>13.0</td>\n",
       "      <td>6.0</td>\n",
       "      <td>NaN</td>\n",
       "    </tr>\n",
       "    <tr>\n",
       "      <th>2</th>\n",
       "      <td>NaN</td>\n",
       "      <td>NaN</td>\n",
       "      <td>NaN</td>\n",
       "    </tr>\n",
       "  </tbody>\n",
       "</table>\n",
       "</div>"
      ],
      "text/plain": [
       "      a     b   c\n",
       "0   1.0  15.0 NaN\n",
       "1  13.0   6.0 NaN\n",
       "2   NaN   NaN NaN"
      ]
     },
     "execution_count": 56,
     "metadata": {},
     "output_type": "execute_result"
    }
   ],
   "source": [
    "A + B"
   ]
  },
  {
   "cell_type": "markdown",
   "metadata": {
    "id": "08C5eqwqZ29_",
    "slideshow": {
     "slide_type": "skip"
    }
   },
   "source": [
    "Observe that the indices are correctly aligned regardless of their order in the two objects, and that the indices in the resulting object are sorted."
   ]
  },
  {
   "cell_type": "markdown",
   "metadata": {
    "slideshow": {
     "slide_type": "subslide"
    }
   },
   "source": [
    "`pandas` is a popular open-source data manipulation library for `Python` that provides easy-to-use data structures and data analysis tools for working with structured data, such as tabular, time-series, and matrix data. It allows users to perform various data operations, such as filtering, merging, grouping, and reshaping data, as well as performing statistical computations. The library's core data structures are the `Series` (a one-dimensional labeled array) and `DataFrame` (a two-dimensional labeled data structure with columns of potentially different data types). Overall, `pandas` is a versatile and powerful tool for data wrangling and analysis in `Python`."
   ]
  },
  {
   "cell_type": "markdown",
   "metadata": {
    "slideshow": {
     "slide_type": "subslide"
    }
   },
   "source": [
    "## Exercise 2: Considering the following dataset:\n",
    "```python\n",
    "population_data = {'New Taipei City': 4_013_659, 'Taichung City': 2_826_230, 'Kaohsiung City': 2_733_964, 'Taipei City': 2_465_610, 'Taoyuan City': 2_293_509, 'Tainan City': 1_859_229}\n",
    "population_series = pd.Series(population_data)\n",
    "territory_data = {'New Taipei City': 2_052.5667, 'Taichung City': 2_214.8968, 'Kaohsiung City': 2_951.8524, 'Taipei City': 271.7997, 'Taoyuan City': 1_220.9540, 'Tainan City': 2_191.6531}\n",
    "territory_series = pd.Series(territory_data)\n",
    "division_count = {'New Taipei City': 29, 'Taichung City': 29, 'Kaohsiung City': 38, 'Taipei City': 12, 'Taoyuan City': 13, 'Tainan City': 37}\n",
    "division_series = pd.Series(division_count)\n",
    "```\n",
    "\n",
    "Begin by forming a `DataFrame` that combines `territory_series` and `division_series` as columns labeled `area` and `subdiv_cnt`. Afterward, introduce a new `density` column to the dataframe by dividing `population_series` by the `area` column.\n"
   ]
  },
  {
   "cell_type": "code",
   "execution_count": null,
   "metadata": {
    "slideshow": {
     "slide_type": "subslide"
    }
   },
   "outputs": [],
   "source": [
    "population_data = {'New Taipei City': 4_013_659, 'Taichung City': 2_826_230, 'Kaohsiung City': 2_733_964, \n",
    "                   'Taipei City': 2_465_610, 'Taoyuan City': 2_293_509, 'Tainan City': 1_859_229}\n",
    "population_series = pd.Series(population_data)\n",
    "\n",
    "territory_data = {'New Taipei City': 2_052.5667, 'Taichung City': 2_214.8968, 'Kaohsiung City': 2_951.8524, \n",
    "                  'Taipei City': 271.7997, 'Taoyuan City': 1_220.9540, 'Tainan City': 2_191.6531}\n",
    "territory_series = pd.Series(territory_data)\n",
    "\n",
    "division_count = {'New Taipei City': 29, 'Taichung City': 29, 'Kaohsiung City': 38, \n",
    "                  'Taipei City': 12, 'Taoyuan City': 13, 'Tainan City': 37}\n",
    "division_series = pd.Series(division_count)\n",
    "# Your code here"
   ]
  },
  {
   "cell_type": "markdown",
   "metadata": {
    "id": "5rH3o31-Z29_",
    "slideshow": {
     "slide_type": "skip"
    }
   },
   "source": [
    "## More operation on `Dataframe`"
   ]
  },
  {
   "cell_type": "markdown",
   "metadata": {
    "id": "jgp-sKdHZ29_",
    "slideshow": {
     "slide_type": "skip"
    }
   },
   "source": [
    "Some of the most fascinating analyses of data arise from merging different data sources. `Series` and `DataFrames` are constructed with this type of operation in mind, and `Pandas` provides functions and methods that make this sort of data manipulation quick and simple."
   ]
  },
  {
   "cell_type": "markdown",
   "metadata": {
    "id": "CSg5EtKOZ29_",
    "slideshow": {
     "slide_type": "skip"
    }
   },
   "source": [
    "For convenience, we'll define the following functions, which will be beneficial in the following examples:"
   ]
  },
  {
   "cell_type": "code",
   "execution_count": null,
   "metadata": {
    "id": "OAc35DiEZ29_",
    "slideshow": {
     "slide_type": "skip"
    }
   },
   "outputs": [],
   "source": [
    "from IPython.display import display, HTML\n",
    "\n",
    "def make_df(cols, ind):\n",
    "    \"\"\"Quickly make a DataFrame\"\"\"\n",
    "    data = {c: [str(c) + str(i) for i in ind]\n",
    "                for c in cols}\n",
    "    return pd.DataFrame(data, ind)\n",
    "\n",
    "\n",
    "# A function to display two dataframe or series side-by-side\n",
    "def display_s(*args):\n",
    "    html_str = '<table><tr style=\"text-align: left;\">'\n",
    "    \n",
    "    for arg in args:\n",
    "        html_str += f'<td style=\"text-align: center; padding-right: 20px;\"><b>{arg}</b></td>'\n",
    "    html_str += '</tr><tr>'\n",
    "    \n",
    "    for arg in args:\n",
    "        evaluated_arg = eval(arg)\n",
    "        if isinstance(evaluated_arg, pd.DataFrame):\n",
    "            df_styled = evaluated_arg.style.set_table_styles([{\n",
    "                'selector': 'th',\n",
    "                'props': [('background-color', 'gray')]\n",
    "            }]).to_html()\n",
    "            html_str += f'<td style=\"vertical-align: top; padding-right: 20px;\">{df_styled}</td>'\n",
    "        elif isinstance(evaluated_arg, pd.Series):\n",
    "            series_styled = evaluated_arg.to_frame().style.set_table_styles([{\n",
    "                'selector': 'th',\n",
    "                'props': [('background-color', 'gray')]\n",
    "            }]).to_html()\n",
    "            html_str += f'<td style=\"vertical-align: top; padding-right: 20px;\">{series_styled}</td>'\n",
    "            \n",
    "    html_str += '</tr></table>'\n",
    "    display(HTML(html_str))\n"
   ]
  },
  {
   "cell_type": "markdown",
   "metadata": {
    "id": "VDS6GNnpZ29_",
    "slideshow": {
     "slide_type": "skip"
    }
   },
   "source": [
    "### Combining Datasets: `concat()` "
   ]
  },
  {
   "cell_type": "markdown",
   "metadata": {
    "id": "J4t8pZ73Z29_",
    "slideshow": {
     "slide_type": "skip"
    }
   },
   "source": [
    "`pd.concat()` can be utilized to concatenate `Series` or `DataFrame` objects, just as `np.concatenate()` can be used to concatenate `arrays`:"
   ]
  },
  {
   "cell_type": "code",
   "execution_count": null,
   "metadata": {
    "colab": {
     "base_uri": "https://localhost:8080/",
     "height": 201
    },
    "executionInfo": {
     "elapsed": 1395,
     "status": "ok",
     "timestamp": 1683537404639,
     "user": {
      "displayName": "phonchi chung",
      "userId": "13517391734500420886"
     },
     "user_tz": -480
    },
    "id": "XmvWzYweZ29_",
    "outputId": "2c296144-2398-4119-effd-9c358c126652",
    "slideshow": {
     "slide_type": "skip"
    }
   },
   "outputs": [],
   "source": [
    "df1 = make_df('AB', [0, 1])\n",
    "df2 = make_df('AB', [0, 1])\n",
    "display_s('df1', 'df2', 'pd.concat([df1, df2], ignore_index=True)')"
   ]
  },
  {
   "cell_type": "markdown",
   "metadata": {
    "id": "eLoW-hqiZ2-A",
    "slideshow": {
     "slide_type": "skip"
    }
   },
   "source": [
    "Note that if we use the `ignore_index` flag, the concatenation will generate a new integer index for the resulting `DataFrame`. Furthermore, by default, the concatenation is performed row-wise within the `DataFrame` (i.e., `axis=0`). `pd.concat()` also allows the specification of an `axis` along which the concatenation will occur:"
   ]
  },
  {
   "cell_type": "code",
   "execution_count": null,
   "metadata": {
    "colab": {
     "base_uri": "https://localhost:8080/",
     "height": 138
    },
    "executionInfo": {
     "elapsed": 335,
     "status": "ok",
     "timestamp": 1683537444330,
     "user": {
      "displayName": "phonchi chung",
      "userId": "13517391734500420886"
     },
     "user_tz": -480
    },
    "id": "2Uzm3OZyZ2-A",
    "outputId": "ef6f3e2e-b6d7-47d0-8bf1-9f474946fc8b",
    "slideshow": {
     "slide_type": "skip"
    }
   },
   "outputs": [],
   "source": [
    "df3 = make_df('AB', [0, 1])\n",
    "df4 = make_df('CD', [0, 1])\n",
    "display_s('df3', 'df4', \"pd.concat([df3, df4], axis='columns')\") # or axis=1"
   ]
  },
  {
   "cell_type": "markdown",
   "metadata": {
    "id": "OmEtjhMnZ2-A",
    "slideshow": {
     "slide_type": "skip"
    }
   },
   "source": [
    "### Aggregation and Grouping"
   ]
  },
  {
   "cell_type": "markdown",
   "metadata": {
    "id": "s8vPCu1tZ2-A",
    "slideshow": {
     "slide_type": "skip"
    }
   },
   "source": [
    "A fundamental aspect of many data analysis tasks is efficient summarization, which involves computing aggregations such as sum, mean, median, min, and max, wherein a single number summarizes aspects of a potentially large dataset."
   ]
  },
  {
   "cell_type": "code",
   "execution_count": null,
   "metadata": {
    "colab": {
     "base_uri": "https://localhost:8080/",
     "height": 300
    },
    "executionInfo": {
     "elapsed": 270,
     "status": "ok",
     "timestamp": 1683537468473,
     "user": {
      "displayName": "phonchi chung",
      "userId": "13517391734500420886"
     },
     "user_tz": -480
    },
    "id": "z_Mynsg3Z2-A",
    "outputId": "7ac7534a-900c-43ce-9ddb-7daefd3c5a37",
    "slideshow": {
     "slide_type": "skip"
    }
   },
   "outputs": [],
   "source": [
    "df = pd.DataFrame(\n",
    "    {\n",
    "        \"A\": [\"foo\", \"bar\", \"foo\", \"bar\", \"foo\", \"bar\", \"foo\", \"foo\"],\n",
    "        \"B\": [\"one\", \"one\", \"two\", \"three\", \"two\", \"two\", \"one\", \"three\"],\n",
    "        \"C\": np.random.randn(8),\n",
    "        \"D\": np.random.randn(8),\n",
    "    }\n",
    ")\n",
    "df"
   ]
  },
  {
   "cell_type": "markdown",
   "metadata": {
    "id": "u1_BdzhuZ2-B",
    "slideshow": {
     "slide_type": "skip"
    }
   },
   "source": [
    "For a `DataFrame`, by default, the aggregates will return results within each column:"
   ]
  },
  {
   "cell_type": "code",
   "execution_count": null,
   "metadata": {
    "colab": {
     "base_uri": "https://localhost:8080/",
     "height": 364
    },
    "executionInfo": {
     "elapsed": 1333,
     "status": "ok",
     "timestamp": 1683537484212,
     "user": {
      "displayName": "phonchi chung",
      "userId": "13517391734500420886"
     },
     "user_tz": -480
    },
    "id": "-hPBZ-WlZ2-B",
    "outputId": "8d1233ec-2a5a-4bac-82ef-97bcaebafa91",
    "slideshow": {
     "slide_type": "skip"
    }
   },
   "outputs": [],
   "source": [
    "display_s('df', 'df.mean()')"
   ]
  },
  {
   "cell_type": "markdown",
   "metadata": {
    "id": "W0Y0EgvWZ2-B",
    "slideshow": {
     "slide_type": "skip"
    }
   },
   "source": [
    "By specifying the `axis` argument, we can instead aggregate within each row:"
   ]
  },
  {
   "cell_type": "code",
   "execution_count": null,
   "metadata": {
    "colab": {
     "base_uri": "https://localhost:8080/",
     "height": 364
    },
    "executionInfo": {
     "elapsed": 565,
     "status": "ok",
     "timestamp": 1683537504137,
     "user": {
      "displayName": "phonchi chung",
      "userId": "13517391734500420886"
     },
     "user_tz": -480
    },
    "id": "oW9AOFE8Z2-B",
    "outputId": "5d7018b8-b270-4971-c3f8-5205b65f5be9",
    "slideshow": {
     "slide_type": "skip"
    }
   },
   "outputs": [],
   "source": [
    "display_s('df', 'df.mean(axis=1)')"
   ]
  },
  {
   "cell_type": "markdown",
   "metadata": {
    "id": "m8i3s3QpZ2-B",
    "slideshow": {
     "slide_type": "skip"
    }
   },
   "source": [
    "Furthermore, there is a convenience method called `describe()` that calculates several common statistics for each column and returns the result:"
   ]
  },
  {
   "cell_type": "code",
   "execution_count": null,
   "metadata": {
    "colab": {
     "base_uri": "https://localhost:8080/",
     "height": 300
    },
    "executionInfo": {
     "elapsed": 299,
     "status": "ok",
     "timestamp": 1683537535380,
     "user": {
      "displayName": "phonchi chung",
      "userId": "13517391734500420886"
     },
     "user_tz": -480
    },
    "id": "xQs7MF3kZ2-B",
    "outputId": "6ad8864a-bdc4-497e-f2e0-4ff632a55c4b",
    "slideshow": {
     "slide_type": "skip"
    }
   },
   "outputs": [],
   "source": [
    "df.describe()"
   ]
  },
  {
   "cell_type": "markdown",
   "metadata": {
    "id": "y0XIcbd3Z2-B",
    "slideshow": {
     "slide_type": "skip"
    }
   },
   "source": [
    "Simple aggregations can give us a glimpse of our dataset, but often we would prefer to aggregate conditionally on some label or index. This is accomplished through the `groupby()` operation. The most basic operation can be computed using the `groupby()` method of the `DataFrame`, by passing the name of the desired column:"
   ]
  },
  {
   "cell_type": "code",
   "execution_count": null,
   "metadata": {
    "colab": {
     "base_uri": "https://localhost:8080/",
     "height": 364
    },
    "executionInfo": {
     "elapsed": 301,
     "status": "ok",
     "timestamp": 1683537572936,
     "user": {
      "displayName": "phonchi chung",
      "userId": "13517391734500420886"
     },
     "user_tz": -480
    },
    "id": "G1l9tHDuZ2-C",
    "outputId": "0500350b-0d87-4620-f5c4-1dfae904badd",
    "slideshow": {
     "slide_type": "skip"
    }
   },
   "outputs": [],
   "source": [
    "display_s('df', 'df.groupby(\"A\").sum()')"
   ]
  },
  {
   "cell_type": "markdown",
   "metadata": {
    "id": "yK23tFEtZ2-C",
    "slideshow": {
     "slide_type": "skip"
    }
   },
   "source": [
    "Note that the result is a `DataFrameGroupBy` object, which is a special view of the `DataFrame`. No actual computation will occur until the aggregation is applied. To produce a result, we can apply an aggregate to this `DataFrameGroupBy` object, which will perform the appropriate apply/combine steps to produce the desired result."
   ]
  },
  {
   "cell_type": "markdown",
   "metadata": {
    "id": "mGehjPtFZ2-G",
    "slideshow": {
     "slide_type": "skip"
    }
   },
   "source": [
    "### Sorting the `Dataframe`"
   ]
  },
  {
   "cell_type": "markdown",
   "metadata": {
    "id": "A5zE95lvZ2-G",
    "slideshow": {
     "slide_type": "skip"
    }
   },
   "source": [
    "We can sort a `DataFrame` using the `sort_values()` method:"
   ]
  },
  {
   "cell_type": "code",
   "execution_count": null,
   "metadata": {
    "colab": {
     "base_uri": "https://localhost:8080/",
     "height": 237
    },
    "executionInfo": {
     "elapsed": 1092,
     "status": "ok",
     "timestamp": 1683537610989,
     "user": {
      "displayName": "phonchi chung",
      "userId": "13517391734500420886"
     },
     "user_tz": -480
    },
    "id": "bg9x4BcpZ2-G",
    "outputId": "2fa37cd2-9b59-46cd-849d-aa22558eff36",
    "slideshow": {
     "slide_type": "skip"
    }
   },
   "outputs": [],
   "source": [
    "df = pd.DataFrame(\n",
    "    {\n",
    "        \"key\": [\"A\", \"B\", \"C\", \"A\", \"B\", \"C\"],\n",
    "        \"data\": range(6),\n",
    "        \"data2\": range(6, 12),\n",
    "    },\n",
    "    columns=[\"key\", \"data\", \"data2\"],\n",
    ")\n",
    "df"
   ]
  },
  {
   "cell_type": "markdown",
   "metadata": {
    "id": "PMiYQ3SZZ2-H",
    "slideshow": {
     "slide_type": "skip"
    }
   },
   "source": [
    "To perform sorting on a column, use the keyword `by` followed by the column name. We can then specify the sorting order using the `ascending` keyword for ascending order:"
   ]
  },
  {
   "cell_type": "markdown",
   "metadata": {
    "id": "EykT-kRjZ2-H",
    "slideshow": {
     "slide_type": "skip"
    }
   },
   "source": [
    "We can also sort a `Dataframe` by making use of the `sort_index()` method."
   ]
  },
  {
   "cell_type": "code",
   "execution_count": null,
   "metadata": {
    "colab": {
     "base_uri": "https://localhost:8080/",
     "height": 237
    },
    "executionInfo": {
     "elapsed": 3,
     "status": "ok",
     "timestamp": 1683537736581,
     "user": {
      "displayName": "phonchi chung",
      "userId": "13517391734500420886"
     },
     "user_tz": -480
    },
    "id": "JozWYZ2EZ2-H",
    "outputId": "8df58284-a46a-4a10-a1d7-47b430baa0f1",
    "slideshow": {
     "slide_type": "skip"
    }
   },
   "outputs": [],
   "source": [
    "df.sort_index(ascending=False)"
   ]
  },
  {
   "cell_type": "markdown",
   "metadata": {
    "id": "uXEYUsf4Z2-H",
    "slideshow": {
     "slide_type": "skip"
    }
   },
   "source": [
    "It is also possible to specify the `axis` along which the sorting should be performed:"
   ]
  },
  {
   "cell_type": "code",
   "execution_count": null,
   "metadata": {
    "colab": {
     "base_uri": "https://localhost:8080/",
     "height": 237
    },
    "executionInfo": {
     "elapsed": 2,
     "status": "ok",
     "timestamp": 1683537755894,
     "user": {
      "displayName": "phonchi chung",
      "userId": "13517391734500420886"
     },
     "user_tz": -480
    },
    "id": "kHxsGFZIZ2-I",
    "outputId": "afd2f6c2-be20-406f-a46d-9bed7e3c7d43",
    "slideshow": {
     "slide_type": "skip"
    }
   },
   "outputs": [],
   "source": [
    "df.sort_index(axis=1)"
   ]
  },
  {
   "cell_type": "markdown",
   "metadata": {
    "id": "cXDZdw013Kad",
    "slideshow": {
     "slide_type": "slide"
    }
   },
   "source": [
    "## References"
   ]
  },
  {
   "cell_type": "markdown",
   "metadata": {
    "id": "q7hkFoG83Msd",
    "slideshow": {
     "slide_type": "subslide"
    }
   },
   "source": [
    "1. [https://jakevdp.github.io/PythonDataScienceHandbook/#3.-Data-Manipulation-with-Pandas](https://jakevdp.github.io/PythonDataScienceHandbook/#3.-Data-Manipulation-with-Pandas)\n",
    "\n",
    "2. [https://realpython.com/pandas-dataframe/](https://realpython.com/pandas-dataframe/)\n",
    "\n",
    "3. [https://realpython.com/pandas-iterate-over-rows/](https://realpython.com/pandas-iterate-over-rows/)"
   ]
  },
  {
   "cell_type": "markdown",
   "metadata": {
    "slideshow": {
     "slide_type": "skip"
    }
   },
   "source": [
    "## Key terms"
   ]
  },
  {
   "cell_type": "markdown",
   "metadata": {
    "slideshow": {
     "slide_type": "skip"
    }
   },
   "source": [
    "- **Missing Data**: Missing data refers to the absence of values in a dataset. In Python, particularly in data analysis libraries like pandas, missing data might be represented by `NaN` (Not a Number) and can be handled using various techniques like imputation or deletion.\n",
    "\n",
    "- **Database**: A database is a structured collection of data. In programming, databases are used to store, retrieve, modify, and manage data. Python offers various libraries and tools to interact with different types of databases, such as SQLite, MySQL, and PostgreSQL.\n",
    "\n",
    "- **Spreadsheet**: A spreadsheet is a tabular arrangement of data, often used for data manipulation and analysis. In Python, libraries like pandas and openpyxl enable reading from and writing to spreadsheets in formats like Excel.\n",
    "\n",
    "- **Data Munging**: Data munging, or data wrangling, refers to the process of cleaning, structuring, and enriching raw data into a desired format for better analysis. In Python, pandas is a commonly used library for data munging.\n",
    "\n",
    "- **Series**: In pandas, a Series is a one-dimensional labeled array capable of holding any data type. It's essentially a single column of data and can be thought of as a specialized dictionary or a generalized NumPy array.\n",
    "\n",
    "- **Index**: In pandas, an index is a data structure that holds the labels for the rows in a DataFrame or Series. It enables fast lookup and relational operations and can be composed of integers, strings, or even date/time objects.\n",
    "\n",
    "- **Explicit is Better Than Implicit**: This phrase is part of \"The Zen of Python,\" which outlines guiding principles for writing computer programs in Python. It emphasizes that code should be clear and easy to understand rather than clever and concise at the expense of readability.\n",
    "\n",
    "- **DataFrame**: A DataFrame is a 2-dimensional labeled data structure in pandas. It's similar to a spreadsheet or SQL table and consists of rows and columns. DataFrames make it easy to manipulate, analyze, and visualize structured data.\n",
    "\n",
    "- **Masking**: Masking in Pandas is a method of filtering data based on some criteria. It involves creating a boolean array (a mask) where True represents rows (or elements) that meet a condition, and False represents those that don't. This boolean array can then be used to index the DataFrame or Series to extract rows (or elements) that satisfy the condition.\n",
    "\n",
    "- **In-place**: Many operations in Pandas offer an inplace parameter. When you set it to True for a method, it will modify the original DataFrame or Series directly and won't return a new object. If set it to False (often the default), then the method will return a modified copy of the object, leaving the original unchanged.\n",
    "\n",
    "- **Query (pandas)**: In pandas, the `query` method is used to filter data using a query expression. It allows for selecting rows from a DataFrame that meet specified conditions using a concise and flexible syntax. For example, `df.query('age > 25')` would filter the DataFrame `df` to include only rows where the 'age' column is greater than 25."
   ]
  }
 ],
 "metadata": {
  "celltoolbar": "Slideshow",
  "colab": {
   "provenance": []
  },
  "kernelspec": {
   "display_name": "Python 3 (ipykernel)",
   "language": "python",
   "name": "python3"
  },
  "language_info": {
   "codemirror_mode": {
    "name": "ipython",
    "version": 3
   },
   "file_extension": ".py",
   "mimetype": "text/x-python",
   "name": "python",
   "nbconvert_exporter": "python",
   "pygments_lexer": "ipython3",
   "version": "3.9.13"
  },
  "rise": {
   "chalkboard": {
    "color": [
     "rgb(250, 0, 0)",
     "rgb(250, 0, 0)"
    ]
   },
   "controls": false,
   "enable_chalkboard": true,
   "footer": "",
   "overlay": "<div class='myfooter'><h4>Data analysis with Pandas</h4></div>",
   "scroll": true,
   "slideNumber": "true",
   "theme": "night"
  },
  "vscode": {
   "interpreter": {
    "hash": "1561eddc5e0c9c74df968f74d5080d02882967127f956e6e7049c43d2ef42321"
   }
  }
 },
 "nbformat": 4,
 "nbformat_minor": 1
}
